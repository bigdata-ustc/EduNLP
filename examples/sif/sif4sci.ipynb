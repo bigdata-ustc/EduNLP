{
 "cells": [
  {
   "cell_type": "markdown",
   "source": [
    "# SIF4Sci 使用示例\n",
    "\n",
    "## 概述\n",
    "\n",
    "SIFSci 是一个提供试题切分和标注的模块。它可定制化的将文本切分为令牌（token）序列，为后续试题的向量化做准备。"
   ],
   "metadata": {
    "collapsed": true,
    "pycharm": {
     "name": "#%% md\n"
    }
   }
  },
  {
   "cell_type": "markdown",
   "source": [
    "本文将以下面这道题目（来源自 LUNA 题库）为例，展示 SIFSci 的使用方法。    \n",
    "\n",
    "![Figure](../../asset/_static/item.png)"
   ],
   "metadata": {}
  },
  {
   "cell_type": "markdown",
   "source": [
    "- 符合 [SIF 格式](https://edunlp.readthedocs.io/en/docs_dev/tutorial/zh/sif.html) 的题目录入格式为："
   ],
   "metadata": {}
  },
  {
   "cell_type": "code",
   "execution_count": 5,
   "source": [
    "item = {\n",
    "  \"stem\": r\"如图来自古希腊数学家希波克拉底所研究的几何图形．此图由三个半圆构成，三个半圆的直径分别为直角三角形$ABC$的斜边$BC$, 直角边$AB$, $AC$.$\\bigtriangleup ABC$的三边所围成的区域记为$I$,黑色部分记为$II$, 其余部分记为$III$.在整个图形中随机取一点，此点取自$I,II,III$的概率分别记为$p_1,p_2,p_3$,则$\\SIFChoice$$\\FigureID{1}$\",\n",
    "  \"options\": [\"$p_1=p_2$\", \"$p_1=p_3$\", \"$p_2=p_3$\", \"$p_1=p_2+p_3$\"]\n",
    "}\n",
    "item[\"stem\"]"
   ],
   "outputs": [
    {
     "output_type": "execute_result",
     "data": {
      "text/plain": [
       "'如图来自古希腊数学家希波克拉底所研究的几何图形．此图由三个半圆构成，三个半圆的直径分别为直角三角形$ABC$的斜边$BC$, 直角边$AB$, $AC$.$\\\\bigtriangleup ABC$的三边所围成的区域记为$I$,黑色部分记为$II$, 其余部分记为$III$.在整个图形中随机取一点，此点取自$I,II,III$的概率分别记为$p_1,p_2,p_3$,则$\\\\SIFChoice$$\\\\FigureID{1}$'"
      ]
     },
     "metadata": {},
     "execution_count": 5
    }
   ],
   "metadata": {
    "collapsed": false,
    "pycharm": {
     "name": "#%%\n"
    }
   }
  },
  {
   "cell_type": "markdown",
   "source": [
    "- 加载图片：`$\\\\FigureID{1}$`"
   ],
   "metadata": {}
  },
  {
   "cell_type": "code",
   "execution_count": 6,
   "source": [
    "from PIL import Image\n",
    "img = Image.open(\"../../asset/_static/item_figure.png\")\n",
    "figures = {\"1\": img}\n",
    "img"
   ],
   "outputs": [
    {
     "output_type": "execute_result",
     "data": {
      "text/plain": [
       "<PIL.PngImagePlugin.PngImageFile image mode=RGBA size=230x136 at 0x7F6DF04BBBE0>"
      ],
      "image/png": "[encoded data removed]"
     },
     "metadata": {},
     "execution_count": 6
    }
   ],
   "metadata": {
    "collapsed": false,
    "pycharm": {
     "name": "#%%\n"
    }
   }
  },
  {
   "cell_type": "markdown",
   "source": [
    "## 导入模块"
   ],
   "metadata": {
    "collapsed": false
   }
  },
  {
   "cell_type": "code",
   "execution_count": 2,
   "source": [
    "from EduNLP.SIF import sif4sci, is_sif, to_sif"
   ],
   "outputs": [],
   "metadata": {
    "collapsed": false,
    "pycharm": {
     "name": "#%%\n"
    }
   }
  },
  {
   "cell_type": "markdown",
   "source": [
    "## 验证题目格式"
   ],
   "metadata": {}
  },
  {
   "cell_type": "code",
   "execution_count": 7,
   "source": [
    "is_sif(item['stem'])"
   ],
   "outputs": [
    {
     "output_type": "execute_result",
     "data": {
      "text/plain": [
       "True"
      ]
     },
     "metadata": {},
     "execution_count": 7
    }
   ],
   "metadata": {}
  },
  {
   "cell_type": "markdown",
   "source": [
    "- 若发现题目因为公式没有包含在 `$$` 中而不符合 SIF 格式，则可以使用 `to_sif` 模块转成标准格式。示例如下："
   ],
   "metadata": {}
  },
  {
   "cell_type": "code",
   "execution_count": 8,
   "source": [
    "text = '某校一个课外学习小组为研究某作物的发芽率y和温度x（单位...'\n",
    "is_sif(text)"
   ],
   "outputs": [
    {
     "output_type": "execute_result",
     "data": {
      "text/plain": [
       "False"
      ]
     },
     "metadata": {},
     "execution_count": 8
    }
   ],
   "metadata": {}
  },
  {
   "cell_type": "code",
   "execution_count": 9,
   "source": [
    "text = '某校一个课外学习小组为研究某作物的发芽率y和温度x（单位...'\n",
    "to_sif(text)\n"
   ],
   "outputs": [
    {
     "output_type": "execute_result",
     "data": {
      "text/plain": [
       "'某校一个课外学习小组为研究某作物的发芽率$y$和温度$x$（单位...'"
      ]
     },
     "metadata": {},
     "execution_count": 9
    }
   ],
   "metadata": {}
  },
  {
   "cell_type": "markdown",
   "source": [
    "## 题目切分及令牌化\n",
    "\n",
    "现在我们得到了符合标准格式的题目文本，接下来可以对题目做进一步的预训练，例如：切分和令牌化。"
   ],
   "metadata": {
    "collapsed": false,
    "pycharm": {
     "name": "#%% md\n"
    }
   }
  },
  {
   "cell_type": "markdown",
   "source": [
    "### 题目切分"
   ],
   "metadata": {
    "collapsed": false,
    "pycharm": {
     "name": "#%% md\n"
    }
   }
  },
  {
   "cell_type": "markdown",
   "source": [
    "#### 基本切分\n",
    "分离文本、公式、图片和特殊符号。"
   ],
   "metadata": {}
  },
  {
   "cell_type": "code",
   "execution_count": 12,
   "source": [
    "segments = sif4sci(item[\"stem\"], figures=figures, tokenization=False)\n",
    "segments"
   ],
   "outputs": [
    {
     "output_type": "execute_result",
     "data": {
      "text/plain": [
       "['如图来自古希腊数学家希波克拉底所研究的几何图形．此图由三个半圆构成，三个半圆的直径分别为直角三角形', 'ABC', '的斜边', 'BC', ', 直角边', 'AB', ', ', 'AC', '.', '\\\\bigtriangleup ABC', '的三边所围成的区域记为', 'I', ',黑色部分记为', 'II', ', 其余部分记为', 'III', '.在整个图形中随机取一点，此点取自', 'I,II,III', '的概率分别记为', 'p_1,p_2,p_3', ',则', '\\\\SIFChoice', \\FigureID{1}]"
      ]
     },
     "metadata": {},
     "execution_count": 12
    }
   ],
   "metadata": {}
  },
  {
   "cell_type": "markdown",
   "source": [
    "- 文本部分"
   ],
   "metadata": {}
  },
  {
   "cell_type": "code",
   "execution_count": 13,
   "source": [
    "segments.text_segments"
   ],
   "outputs": [
    {
     "output_type": "execute_result",
     "data": {
      "text/plain": [
       "['如图来自古希腊数学家希波克拉底所研究的几何图形．此图由三个半圆构成，三个半圆的直径分别为直角三角形',\n",
       " '的斜边',\n",
       " ', 直角边',\n",
       " ', ',\n",
       " '.',\n",
       " '的三边所围成的区域记为',\n",
       " ',黑色部分记为',\n",
       " ', 其余部分记为',\n",
       " '.在整个图形中随机取一点，此点取自',\n",
       " '的概率分别记为',\n",
       " ',则']"
      ]
     },
     "metadata": {},
     "execution_count": 13
    }
   ],
   "metadata": {}
  },
  {
   "cell_type": "markdown",
   "source": [
    "- 公式部分"
   ],
   "metadata": {}
  },
  {
   "cell_type": "code",
   "execution_count": 15,
   "source": [
    "segments.formula_segments\n"
   ],
   "outputs": [
    {
     "output_type": "execute_result",
     "data": {
      "text/plain": [
       "['ABC',\n",
       " 'BC',\n",
       " 'AB',\n",
       " 'AC',\n",
       " '\\\\bigtriangleup ABC',\n",
       " 'I',\n",
       " 'II',\n",
       " 'III',\n",
       " 'I,II,III',\n",
       " 'p_1,p_2,p_3']"
      ]
     },
     "metadata": {},
     "execution_count": 15
    }
   ],
   "metadata": {}
  },
  {
   "cell_type": "markdown",
   "source": [
    "- 图片部分"
   ],
   "metadata": {}
  },
  {
   "cell_type": "code",
   "execution_count": 16,
   "source": [
    "segments.figure_segments"
   ],
   "outputs": [
    {
     "output_type": "execute_result",
     "data": {
      "text/plain": [
       "[\\FigureID{1}]"
      ]
     },
     "metadata": {},
     "execution_count": 16
    }
   ],
   "metadata": {}
  },
  {
   "cell_type": "code",
   "execution_count": 17,
   "source": [
    "segments.figure_segments[0].figure"
   ],
   "outputs": [
    {
     "output_type": "execute_result",
     "data": {
      "text/plain": [
       "<PIL.PngImagePlugin.PngImageFile image mode=RGBA size=230x136 at 0x7F6DF04BBBE0>"
      ],
      "image/png": "[encoded data removed]"
     },
     "metadata": {},
     "execution_count": 17
    }
   ],
   "metadata": {}
  },
  {
   "cell_type": "markdown",
   "source": [
    "- 特殊符号"
   ],
   "metadata": {}
  },
  {
   "cell_type": "code",
   "execution_count": 19,
   "source": [
    "segments.ques_mark_segments"
   ],
   "outputs": [
    {
     "output_type": "execute_result",
     "data": {
      "text/plain": [
       "['\\\\SIFChoice']"
      ]
     },
     "metadata": {},
     "execution_count": 19
    }
   ],
   "metadata": {}
  },
  {
   "cell_type": "markdown",
   "source": [
    "#### 标记化切分  \n",
    "如果您不注重题目文本和公式的具体内容，仅仅是对题目的整体（或部分）构成感兴趣，那么可以通过修改 `symbol` 参数来将不同的成分转化成特定标记，方便您的研究。"
   ],
   "metadata": {}
  },
  {
   "cell_type": "markdown",
   "source": [
    " - symbol:\n",
    "    - \"t\": text\n",
    "    - \"f\": formula\n",
    "    - \"g\": figure\n",
    "    - \"m\": question mark"
   ],
   "metadata": {}
  },
  {
   "cell_type": "code",
   "execution_count": 11,
   "source": [
    "sif4sci(item[\"stem\"], figures=figures, tokenization=False, symbol=\"tfgm\")"
   ],
   "outputs": [
    {
     "output_type": "execute_result",
     "data": {
      "text/plain": [
       "['[TEXT]', '[FORMULA]', '[TEXT]', '[FORMULA]', '[TEXT]', '[FORMULA]', '[TEXT]', '[FORMULA]', '[TEXT]', '[FORMULA]', '[TEXT]', '[FORMULA]', '[TEXT]', '[FORMULA]', '[TEXT]', '[FORMULA]', '[TEXT]', '[FORMULA]', '[TEXT]', '[FORMULA]', '[TEXT]', '[MARK]', '[FIGURE]']"
      ]
     },
     "metadata": {},
     "execution_count": 11
    }
   ],
   "metadata": {
    "collapsed": false,
    "pycharm": {
     "name": "#%%\n"
    }
   }
  },
  {
   "cell_type": "markdown",
   "source": [
    "### 令牌化\n",
    "\n",
    "为了方便后续向量化表征试题，本模块提供题目文本的令牌化解析（Tokenization），即将题目转换成令牌序列。    \n",
    "\n",
    "根据构成题目的元素类型，解析功能分为 **“文本解析”** 和 **“公式解析”** 两部分。更具体的过程解析参见 [令牌化](../Tokenizer/tokenizer.ipynb)。"
   ],
   "metadata": {
    "collapsed": false,
    "pycharm": {
     "name": "#%% md\n"
    }
   }
  },
  {
   "cell_type": "code",
   "execution_count": 20,
   "source": [
    "tokens = sif4sci(item[\"stem\"], figures=figures, tokenization=True)"
   ],
   "outputs": [],
   "metadata": {
    "collapsed": false,
    "pycharm": {
     "name": "#%%\n"
    }
   }
  },
  {
   "cell_type": "markdown",
   "source": [
    "- 文本解析结果"
   ],
   "metadata": {
    "collapsed": false,
    "pycharm": {
     "name": "#%% md\n"
    }
   }
  },
  {
   "cell_type": "code",
   "execution_count": 12,
   "source": [
    "tokens.text_tokens"
   ],
   "outputs": [
    {
     "output_type": "execute_result",
     "data": {
      "text/plain": [
       "['如图',\n",
       " '古希腊',\n",
       " '数学家',\n",
       " '希波',\n",
       " '克拉底',\n",
       " '研究',\n",
       " '几何图形',\n",
       " '此图',\n",
       " '三个',\n",
       " '半圆',\n",
       " '三个',\n",
       " '半圆',\n",
       " '直径',\n",
       " '直角三角形',\n",
       " '斜边',\n",
       " '直角',\n",
       " '三边',\n",
       " '围成',\n",
       " '区域',\n",
       " '记',\n",
       " '黑色',\n",
       " '记',\n",
       " '其余部分',\n",
       " '记',\n",
       " '图形',\n",
       " '中',\n",
       " '随机',\n",
       " '取',\n",
       " '一点',\n",
       " '此点',\n",
       " '取自',\n",
       " '概率',\n",
       " '记']"
      ]
     },
     "metadata": {},
     "execution_count": 12
    }
   ],
   "metadata": {
    "collapsed": false,
    "pycharm": {
     "name": "#%%\n"
    }
   }
  },
  {
   "cell_type": "markdown",
   "source": [
    "#### 公式解析结果"
   ],
   "metadata": {
    "collapsed": false,
    "pycharm": {
     "name": "#%% md\n"
    }
   }
  },
  {
   "cell_type": "code",
   "execution_count": 13,
   "source": [
    "tokens.formula_tokens"
   ],
   "outputs": [
    {
     "output_type": "execute_result",
     "data": {
      "text/plain": [
       "['ABC',\n",
       " 'BC',\n",
       " 'AB',\n",
       " 'AC',\n",
       " '\\\\bigtriangleup',\n",
       " 'ABC',\n",
       " 'I',\n",
       " 'II',\n",
       " 'III',\n",
       " 'I',\n",
       " ',',\n",
       " 'II',\n",
       " ',',\n",
       " 'III',\n",
       " 'p',\n",
       " '_',\n",
       " '1',\n",
       " ',',\n",
       " 'p',\n",
       " '_',\n",
       " '2',\n",
       " ',',\n",
       " 'p',\n",
       " '_',\n",
       " '3']"
      ]
     },
     "metadata": {},
     "execution_count": 13
    }
   ],
   "metadata": {
    "collapsed": false,
    "pycharm": {
     "name": "#%%\n"
    }
   }
  },
  {
   "cell_type": "markdown",
   "source": [
    "- 自定义参数，得到定制化解析结果"
   ],
   "metadata": {}
  },
  {
   "cell_type": "markdown",
   "source": [
    "（1）如果您想按 latex 语法标记拆分公式的各个部分，并得到顺序序列结果，输出方法（`method`）可以选择：`linear`"
   ],
   "metadata": {}
  },
  {
   "cell_type": "code",
   "execution_count": 37,
   "source": [
    "sif4sci(\n",
    "    item[\"stem\"],\n",
    "    figures=figures,\n",
    "    tokenization=True,\n",
    "    tokenization_params={\n",
    "        \"formula_params\": {\n",
    "            \"method\": \"linear\",\n",
    "        }\n",
    "    }\n",
    ").formula_tokens"
   ],
   "outputs": [
    {
     "output_type": "execute_result",
     "data": {
      "text/plain": [
       "['ABC',\n",
       " 'BC',\n",
       " 'AB',\n",
       " 'AC',\n",
       " '\\\\bigtriangleup',\n",
       " 'ABC',\n",
       " 'I',\n",
       " 'II',\n",
       " 'III',\n",
       " 'I',\n",
       " ',',\n",
       " 'II',\n",
       " ',',\n",
       " 'III',\n",
       " 'p',\n",
       " '_',\n",
       " '1',\n",
       " ',',\n",
       " 'p',\n",
       " '_',\n",
       " '2',\n",
       " ',',\n",
       " 'p',\n",
       " '_',\n",
       " '3']"
      ]
     },
     "metadata": {},
     "execution_count": 37
    }
   ],
   "metadata": {
    "collapsed": false,
    "pycharm": {
     "name": "#%%\n"
    }
   }
  },
  {
   "cell_type": "markdown",
   "source": [
    "（2） 如果您想得到公式解析出的语法分析树序列，输出方法可以选择：`ast`\n",
    "> 抽象语法分析树，简称语法树（Syntax tree），是源代码语法结构的一种抽象表示。它以树状的形式表现编程语言的语法结构，树上的每个节点都表示源代码中的一种结构。  \n",
    "> 因此，ast 可以看做是公式的语法结构表征。"
   ],
   "metadata": {}
  },
  {
   "cell_type": "code",
   "execution_count": 39,
   "source": [
    "sif4sci(\n",
    "    item[\"stem\"],\n",
    "    figures=figures,\n",
    "    tokenization=True,\n",
    "    tokenization_params={\n",
    "        \"formula_params\":{\n",
    "            \"method\": \"ast\",\n",
    "        }\n",
    "    }\n",
    ").formula_tokens\n"
   ],
   "outputs": [
    {
     "output_type": "execute_result",
     "data": {
      "text/plain": [
       "[<Formula: ABC>,\n",
       " <Formula: BC>,\n",
       " <Formula: AB>,\n",
       " <Formula: AC>,\n",
       " <Formula: \\bigtriangleup ABC>,\n",
       " <Formula: I>,\n",
       " <Formula: II>,\n",
       " <Formula: III>,\n",
       " <Formula: I,II,III>,\n",
       " <Formula: p_1,p_2,p_3>]"
      ]
     },
     "metadata": {},
     "execution_count": 39
    }
   ],
   "metadata": {
    "collapsed": false,
    "pycharm": {
     "name": "#%%\n"
    }
   }
  },
  {
   "cell_type": "markdown",
   "source": [
    "- 语法树展示："
   ],
   "metadata": {}
  },
  {
   "cell_type": "code",
   "execution_count": 109,
   "source": [
    "f = sif4sci(\n",
    "    item[\"stem\"],\n",
    "    figures=figures,\n",
    "    tokenization=True,\n",
    "    tokenization_params={\n",
    "        \"formula_params\":{\n",
    "            \"method\": \"ast\",\n",
    "            \"return_type\": \"ast\",\n",
    "            \"ord2token\": True,\n",
    "            \"var_numbering\": True,\n",
    "        }\n",
    "    }\n",
    ").formula_tokens\n",
    "f\n"
   ],
   "outputs": [
    {
     "output_type": "execute_result",
     "data": {
      "text/plain": [
       "[<networkx.classes.digraph.DiGraph at 0x7f6d28ca3940>,\n",
       " <networkx.classes.digraph.DiGraph at 0x7f6d28cb5a60>,\n",
       " <networkx.classes.digraph.DiGraph at 0x7f6d28caba30>,\n",
       " <networkx.classes.digraph.DiGraph at 0x7f6d26b28fd0>,\n",
       " <networkx.classes.digraph.DiGraph at 0x7f6d28cd4490>,\n",
       " <networkx.classes.digraph.DiGraph at 0x7f6d28cd4d90>,\n",
       " <networkx.classes.digraph.DiGraph at 0x7f6d28c843a0>,\n",
       " <networkx.classes.digraph.DiGraph at 0x7f6d28c84ee0>,\n",
       " <networkx.classes.digraph.DiGraph at 0x7f6d28c84610>,\n",
       " <networkx.classes.digraph.DiGraph at 0x7f6d28c84b50>]"
      ]
     },
     "metadata": {},
     "execution_count": 109
    }
   ],
   "metadata": {}
  },
  {
   "cell_type": "code",
   "execution_count": 110,
   "source": [
    "for i in range(0, len(f)):\n",
    "    ForestPlotter().export(\n",
    "        f[i], root_list=[node for node in f[i]],\n",
    "    )\n",
    "# plt.show()\n"
   ],
   "outputs": [],
   "metadata": {}
  },
  {
   "cell_type": "markdown",
   "source": [
    "（3）如果您只是关心公式的结构和类型，并不关心变量具体是什么，比如二元二次方程 `x^2 + y = 1` ，它从公式结构和类型上来说，和 `w^2 + z = 1` 没有区别。  \n",
    "此时，您可以设置如下参数：`ord2token = True`，将公式变量名转换成 token"
   ],
   "metadata": {}
  },
  {
   "cell_type": "code",
   "execution_count": 40,
   "source": [
    "sif4sci(\n",
    "    item[\"stem\"],\n",
    "    figures=figures,\n",
    "    tokenization=True,\n",
    "    tokenization_params={\n",
    "        \"formula_params\":{\n",
    "            \"method\": \"ast\",\n",
    "            \"return_type\": \"list\",\n",
    "            \"ord2token\": True,\n",
    "        }\n",
    "    }\n",
    ").formula_tokens"
   ],
   "outputs": [
    {
     "output_type": "execute_result",
     "data": {
      "text/plain": [
       "['mathord',\n",
       " 'mathord',\n",
       " 'mathord',\n",
       " 'mathord',\n",
       " 'mathord',\n",
       " 'mathord',\n",
       " 'mathord',\n",
       " 'mathord',\n",
       " 'mathord',\n",
       " '\\\\bigtriangleup',\n",
       " 'mathord',\n",
       " 'mathord',\n",
       " 'mathord',\n",
       " 'mathord',\n",
       " 'mathord',\n",
       " 'mathord',\n",
       " 'mathord',\n",
       " 'mathord',\n",
       " 'mathord',\n",
       " 'mathord',\n",
       " ',',\n",
       " 'mathord',\n",
       " 'mathord',\n",
       " ',',\n",
       " 'mathord',\n",
       " 'mathord',\n",
       " 'mathord',\n",
       " 'mathord',\n",
       " 'textord',\n",
       " '\\\\supsub',\n",
       " ',',\n",
       " 'mathord',\n",
       " 'textord',\n",
       " '\\\\supsub',\n",
       " ',',\n",
       " 'mathord',\n",
       " 'textord',\n",
       " '\\\\supsub']"
      ]
     },
     "metadata": {},
     "execution_count": 40
    }
   ],
   "metadata": {
    "collapsed": false,
    "pycharm": {
     "name": "#%%\n"
    }
   }
  },
  {
   "cell_type": "markdown",
   "source": [
    "（4） 如果您除了 （3） 中提供的功能之外，还需要区分不同的变量。此时可以另外设置参数：`var_numbering=True`"
   ],
   "metadata": {}
  },
  {
   "cell_type": "code",
   "execution_count": 44,
   "source": [
    "sif4sci(\n",
    "    item[\"stem\"],\n",
    "    figures=figures,\n",
    "    tokenization=True,\n",
    "    tokenization_params={\n",
    "        \"formula_params\":{\n",
    "            \"method\": \"ast\",\n",
    "            \"ord2token\": True,\n",
    "            \"return_type\": \"list\",\n",
    "            \"var_numbering\": True\n",
    "        }\n",
    "    }\n",
    ").formula_tokens"
   ],
   "outputs": [
    {
     "output_type": "execute_result",
     "data": {
      "text/plain": [
       "['mathord_0',\n",
       " 'mathord_1',\n",
       " 'mathord_2',\n",
       " 'mathord_1',\n",
       " 'mathord_2',\n",
       " 'mathord_0',\n",
       " 'mathord_1',\n",
       " 'mathord_0',\n",
       " 'mathord_2',\n",
       " '\\\\bigtriangleup',\n",
       " 'mathord_0',\n",
       " 'mathord_1',\n",
       " 'mathord_2',\n",
       " 'mathord_3',\n",
       " 'mathord_3',\n",
       " 'mathord_3',\n",
       " 'mathord_3',\n",
       " 'mathord_3',\n",
       " 'mathord_3',\n",
       " 'mathord_3',\n",
       " ',',\n",
       " 'mathord_3',\n",
       " 'mathord_3',\n",
       " ',',\n",
       " 'mathord_3',\n",
       " 'mathord_3',\n",
       " 'mathord_3',\n",
       " 'mathord_4',\n",
       " 'textord',\n",
       " '\\\\supsub',\n",
       " ',',\n",
       " 'mathord_4',\n",
       " 'textord',\n",
       " '\\\\supsub',\n",
       " ',',\n",
       " 'mathord_4',\n",
       " 'textord',\n",
       " '\\\\supsub']"
      ]
     },
     "metadata": {},
     "execution_count": 44
    }
   ],
   "metadata": {
    "collapsed": false,
    "pycharm": {
     "name": "#%%\n"
    }
   }
  },
  {
   "cell_type": "markdown",
   "source": [
    "## 综合训练\n",
    "\n",
    "综合上述方法，将题目转换成令牌序列，为后续向量化做准备。"
   ],
   "metadata": {
    "collapsed": false,
    "pycharm": {
     "name": "#%% md\n"
    }
   }
  },
  {
   "cell_type": "code",
   "execution_count": 96,
   "source": [
    "sif4sci(item[\"stem\"], figures=figures, tokenization=True,\n",
    "        symbol=\"fgm\")"
   ],
   "outputs": [
    {
     "output_type": "execute_result",
     "data": {
      "text/plain": [
       "['如图', '古希腊', '数学家', '希波', '克拉底', '研究', '几何图形', '此图', '三个', '半圆', '三个', '半圆', '直径', '直角三角形', '[FORMULA]', '斜边', '[FORMULA]', '直角', '[FORMULA]', '[FORMULA]', '[FORMULA]', '三边', '围成', '区域', '记', '[FORMULA]', '黑色', '记', '[FORMULA]', '其余部分', '记', '[FORMULA]', '图形', '中', '随机', '取', '一点', '此点', '取自', '[FORMULA]', '概率', '记', '[FORMULA]', '[MARK]', '[FIGURE]']"
      ]
     },
     "metadata": {},
     "execution_count": 96
    }
   ],
   "metadata": {
    "collapsed": false,
    "pycharm": {
     "name": "#%%\n"
    }
   }
  }
 ],
 "metadata": {
  "kernelspec": {
   "name": "python3",
   "display_name": "Python 3.8.5 64-bit"
  },
  "language_info": {
   "name": "python",
   "version": "3.8.5",
   "mimetype": "text/x-python",
   "codemirror_mode": {
    "name": "ipython",
    "version": 3
   },
   "pygments_lexer": "ipython3",
   "nbconvert_exporter": "python",
   "file_extension": ".py"
  },
  "interpreter": {
   "hash": "e7370f93d1d0cde622a1f8e1c04877d8463912d04d973331ad4851f04de6915a"
  }
 },
 "nbformat": 4,
 "nbformat_minor": 2
}