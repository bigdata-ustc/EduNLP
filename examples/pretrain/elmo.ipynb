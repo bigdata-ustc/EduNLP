{
 "cells": [
  {
   "cell_type": "code",
   "execution_count": 14,
   "metadata": {},
   "outputs": [],
   "source": [
    "import torch\n",
    "import numpy as np\n",
    "import os\n",
    "import json\n",
    "from EduNLP.Pretrain import train_elmo, ElmoTokenizer\n",
    "from EduNLP.Vector import ElmoModel, T2V\n",
    "from EduNLP.I2V import Elmo, get_pretrained_i2v"
   ]
  },
  {
   "cell_type": "markdown",
   "metadata": {},
   "source": [
    "# 训练自己的Elmo模型\n",
    "## 1. 数据"
   ]
  },
  {
   "cell_type": "code",
   "execution_count": 3,
   "metadata": {},
   "outputs": [],
   "source": [
    "# 设置你的数据路径和输出路径\n",
    "BASE_DIR = \"/your/own/base/path\"\n",
    "\n",
    "# http://base.ustc.edu.cn/data/OpenLUNA/\n",
    "data_dir = f\"{BASE_DIR}/static/test_data/OpenLUNA\"\n",
    "output_dir = f\"{BASE_DIR}/examples/test_model/data/elmo\""
   ]
  },
  {
   "cell_type": "code",
   "execution_count": 3,
   "metadata": {},
   "outputs": [],
   "source": [
    "def raw_data():\n",
    "    _data = []\n",
    "    data_path = os.path.join(data_dir, \"OpenLUNA.json\")\n",
    "    with open(data_path, encoding=\"utf-8\") as f:\n",
    "        for line in f.readlines():\n",
    "            _data.append(json.loads(line))\n",
    "    return _data\n",
    "\n",
    "def stem_data(data):\n",
    "    _data = []\n",
    "    tokenizer = ElmoTokenizer()\n",
    "    for e in data:\n",
    "        d = tokenizer.tokenize(item=e['stem'], freeze_vocab=False)\n",
    "        if d is not None:\n",
    "            _data.append(d)\n",
    "    assert _data\n",
    "    return _data\n",
    "\n",
    "raw_data = raw_data()\n",
    "train_items = stem_data(raw_data)"
   ]
  },
  {
   "cell_type": "markdown",
   "metadata": {},
   "source": [
    "## 2. 训练和评估"
   ]
  },
  {
   "cell_type": "code",
   "execution_count": 4,
   "metadata": {},
   "outputs": [
    {
     "name": "stdout",
     "output_type": "stream",
     "text": [
      "[Global step 10, epoch 0, batch 9] Loss: 0.0060805706\n",
      "[Global step 20, epoch 0, batch 19] Loss: 0.0055406204\n",
      "[Global step 30, epoch 0, batch 29] Loss: 0.0047021039\n",
      "[Global step 40, epoch 0, batch 39] Loss: 0.0059773619\n",
      "[Global step 50, epoch 0, batch 49] Loss: 0.0064559857\n",
      "[Global step 60, epoch 0, batch 59] Loss: 0.0052063332\n",
      "[Global step 70, epoch 0, batch 69] Loss: 0.0043544602\n",
      "[Global step 80, epoch 0, batch 79] Loss: 0.0039286360\n",
      "[Global step 90, epoch 0, batch 89] Loss: 0.0038324460\n",
      "[Global step 100, epoch 0, batch 99] Loss: 0.0038334341\n",
      "[Global step 110, epoch 0, batch 109] Loss: 0.0034901381\n",
      "[Global step 120, epoch 0, batch 119] Loss: 0.0048992285\n",
      "[Global step 130, epoch 0, batch 129] Loss: 0.0036445243\n",
      "[Global step 140, epoch 0, batch 139] Loss: 0.0032575284\n",
      "[Global step 150, epoch 0, batch 149] Loss: 0.0035707197\n",
      "[Global step 160, epoch 0, batch 159] Loss: 0.0036381901\n",
      "[Global step 170, epoch 0, batch 169] Loss: 0.0034310359\n",
      "[Global step 180, epoch 0, batch 179] Loss: 0.0040029724\n",
      "[Global step 190, epoch 0, batch 189] Loss: 0.0039088997\n",
      "Train time:  92.22130489349365\n"
     ]
    },
    {
     "data": {
      "text/plain": [
       "'/Users/lipingzhi/Desktop/EduNLP/examples/test_model/data/elmo'"
      ]
     },
     "execution_count": 4,
     "metadata": {},
     "output_type": "execute_result"
    }
   ],
   "source": [
    "# 自定义训练参数\n",
    "train_params = {\n",
    "  \"emb_dim\": 128,\n",
    "  \"hid_dim\": 256,\n",
    "  \"batch_size\": 4,\n",
    "  \"epochs\": 1,\n",
    "  \"lr\": 5e-3,\n",
    "  \"device\": None\n",
    "}\n",
    "\n",
    "train_elmo(train_items, output_dir, **train_params)"
   ]
  },
  {
   "cell_type": "markdown",
   "metadata": {},
   "source": [
    "\n",
    "## 3.使用模型"
   ]
  },
  {
   "cell_type": "markdown",
   "metadata": {},
   "source": [
    "### 3.1使用训练好的Elmo模型"
   ]
  },
  {
   "cell_type": "code",
   "execution_count": 6,
   "metadata": {},
   "outputs": [
    {
     "name": "stdout",
     "output_type": "stream",
     "text": [
      "torch.Size([512])\n",
      "torch.Size([15, 512])\n",
      "torch.Size([2, 512])\n",
      "torch.Size([2, 25, 512])\n"
     ]
    }
   ],
   "source": [
    "item = [\n",
    "        {'stem': '如图$\\\\FigureID{088f15ea-8b7c-11eb-897e-b46bfc50aa29}$, \\\n",
    "        若$x,y$满足约束条件$\\\\SIFSep$，则$z=x+7 y$的最大值为$\\\\SIFBlank$'},\n",
    "        {'stem': '已知圆$x^{2}+y^{2}-6 x=0$，过点(1,2)的直线被该圆所截得的弦的长度的最小值为'}\n",
    "]\n",
    "\n",
    "tokenizer_kwargs = {\"path\": os.path.join(output_dir, \"vocab.json\")}\n",
    "i2v = Elmo('elmo', 'elmo', output_dir, tokenizer_kwargs=tokenizer_kwargs)\n",
    "\n",
    "# 可以对单个题目进行表征\n",
    "i_vec, t_vec = i2v(item[0]['stem'])\n",
    "print(i_vec.shape) # == torch.Size([x])\n",
    "print(t_vec.shape) # == torch.Size([x, x])\n",
    "\n",
    "# 也可以对题目列表进行表征\n",
    "i_vec, t_vec = i2v([ item[0]['stem'], item[1]['stem'] ])\n",
    "print(i_vec.shape) # == torch.Size([2, x])\n",
    "print(t_vec.shape) # == torch.Size([2, x, x]))\n"
   ]
  },
  {
   "cell_type": "markdown",
   "metadata": {},
   "source": [
    "### 3.2使用Elmo Tokenizer"
   ]
  },
  {
   "cell_type": "code",
   "execution_count": 8,
   "metadata": {},
   "outputs": [
    {
     "name": "stdout",
     "output_type": "stream",
     "text": [
      "([527, 231, 3, 13, 26, 79, 159, 527, 6, 33, 10, 13, 34, 133, 79, 168, 4], 17)\n",
      "\n",
      "([[527, 231, 3, 13, 26, 79, 159, 527, 6, 33, 10, 13, 34, 133, 79, 168, 4], [7, 104, 13, 15, 16, 17, 18, 34, 79, 15, 16, 17, 18, 19, 105, 13, 10, 23, 106, 107, 104, 108, 109, 110, 111]], [17, 25])\n",
      "\n"
     ]
    }
   ],
   "source": [
    "# 加载之前训练的模型tokenizer\n",
    "tokenizer = ElmoTokenizer()\n",
    "tokenizer.load_vocab(os.path.join(output_dir, \"vocab.json\"))\n",
    "\n",
    "# 对题目文本进行令牌化\n",
    "items = [\n",
    "    \"有公式$\\\\FormFigureID{wrong1?}$，如图$\\\\FigureID{088f15ea-xxx}$,\\\n",
    "    若$x,y$满足约束条件公式$\\\\FormFigureBase64{wrong2?}$,$\\\\SIFSep$，则$z=x+7 y$的最大值为$\\\\SIFBlank$\",\n",
    "    \"已知圆$x^{2}+y^{2}-6 x=0$，过点(1,2)的直线被该圆所截得的弦的长度的最小值为\"\n",
    "]\n",
    "# 可以对单个题目进行令牌化\n",
    "print(tokenizer(items[0], freeze_vocab=True))\n",
    "print()\n",
    "\n",
    "# 也可以对题目列表进行令牌化\n",
    "print(tokenizer(items, freeze_vocab=True))\n",
    "print()\n",
    "\n"
   ]
  },
  {
   "cell_type": "code",
   "execution_count": 9,
   "metadata": {},
   "outputs": [
    {
     "name": "stdout",
     "output_type": "stream",
     "text": [
      "['公式', '如图', '[FIGURE]', 'x', ',', 'y', '约束条件', '公式', '[SEP]', 'z', '=', 'x', '+', '7', 'y', '最大值', '[MARK]']\n",
      "[['公式', '如图', '[FIGURE]', 'x', ',', 'y', '约束条件', '公式', '[SEP]', 'z', '=', 'x', '+', '7', 'y', '最大值', '[MARK]'], ['已知', '圆', 'x', '^', '{', '2', '}', '+', 'y', '^', '{', '2', '}', '-', '6', 'x', '=', '0', '过点', '直线', '圆', '截得', '弦', '长度', '最小值']]\n"
     ]
    }
   ],
   "source": [
    "# 可以使用tokenize方法查看令牌化后的文本\n",
    "print(tokenizer.tokenize(items[0], freeze_vocab=True))\n",
    "print(tokenizer.tokenize(items, freeze_vocab=True))"
   ]
  },
  {
   "cell_type": "markdown",
   "metadata": {},
   "source": [
    "### 3.3使用EduNLP中公开的预训练模型"
   ]
  },
  {
   "cell_type": "code",
   "execution_count": 10,
   "metadata": {},
   "outputs": [
    {
     "name": "stderr",
     "output_type": "stream",
     "text": [
      "EduNLP, INFO model_path: /Users/lipingzhi/Desktop/EduNLP/examples/test_model/data/elmo/elmo_pub_math\n",
      "EduNLP, INFO Use pretrained t2v model elmo_pub_math\n",
      "downloader, INFO http://base.ustc.edu.cn/data/model_zoo/modelhub/elmo_pub/1/elmo_pub_math.zip is saved as /Users/lipingzhi/Desktop/EduNLP/examples/test_model/data/elmo/elmo_pub_math.zip\n"
     ]
    },
    {
     "name": "stdout",
     "output_type": "stream",
     "text": [
      "Downloading /Users/lipingzhi/Desktop/EduNLP/examples/test_model/data/elmo/elmo_pub_math.zip 100.00%: 791MB | 791MB\n"
     ]
    },
    {
     "name": "stderr",
     "output_type": "stream",
     "text": [
      "downloader, INFO /Users/lipingzhi/Desktop/EduNLP/examples/test_model/data/elmo/elmo_pub_math.zip is unzip to /Users/lipingzhi/Desktop/EduNLP/examples/test_model/data/elmo/elmo_pub_math\n"
     ]
    }
   ],
   "source": [
    "# 获取公开的预训练模型\n",
    "pretrained_dir = f\"{BASE_DIR}/examples/test_model/data/elmo\"\n",
    "i2v = get_pretrained_i2v(\"elmo_pub_math\", model_dir=pretrained_dir)"
   ]
  },
  {
   "cell_type": "code",
   "execution_count": 13,
   "metadata": {},
   "outputs": [
    {
     "name": "stdout",
     "output_type": "stream",
     "text": [
      "torch.Size([2, 2048])\n",
      "torch.Size([2, 25, 2048])\n",
      "\n",
      "torch.Size([2, 2048])\n",
      "torch.Size([2, 25, 2048])\n",
      "\n",
      "torch.Size([2048])\n",
      "torch.Size([17, 2048])\n"
     ]
    }
   ],
   "source": [
    "items = [\n",
    "    \"有公式$\\\\FormFigureID{wrong1?}$，如图$\\\\FigureID{088f15ea-xxx}$,\\\n",
    "    若$x,y$满足约束条件公式$\\\\FormFigureBase64{wrong2?}$,$\\\\SIFSep$，则$z=x+7 y$的最大值为$\\\\SIFBlank$\",\n",
    "    \"已知圆$x^{2}+y^{2}-6 x=0$，过点(1,2)的直线被该圆所截得的弦的长度的最小值为\"\n",
    "]\n",
    "i_vec, t_vec = i2v(items)\n",
    "print(i_vec.shape)\n",
    "print(t_vec.shape)\n",
    "print()\n",
    "\n",
    "# 也可以单独获取题目表征和各个token的表征\n",
    "i_vec = i2v.infer_item_vector(items)\n",
    "print(i_vec.shape)\n",
    "t_vec = i2v.infer_token_vector(items)\n",
    "print(t_vec.shape)\n",
    "print()\n",
    "\n",
    "# 同样，可以获取单个题目的表征\n",
    "i_vec, t_vec = i2v(items[0])\n",
    "print(i_vec.shape)\n",
    "print(t_vec.shape)"
   ]
  }
 ],
 "metadata": {
  "interpreter": {
   "hash": "776957673adb719a00031a24ed5efd2fa5ce8a13405e5193f8d278edd3805d55"
  },
  "kernelspec": {
   "display_name": "nlp",
   "language": "python",
   "name": "nlp"
  },
  "language_info": {
   "codemirror_mode": {
    "name": "ipython",
    "version": 3
   },
   "file_extension": ".py",
   "mimetype": "text/x-python",
   "name": "python",
   "nbconvert_exporter": "python",
   "pygments_lexer": "ipython3",
   "version": "3.8.13"
  },
  "orig_nbformat": 4
 },
 "nbformat": 4,
 "nbformat_minor": 2
}
