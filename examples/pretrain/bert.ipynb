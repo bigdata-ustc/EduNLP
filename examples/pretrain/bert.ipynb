{
 "cells": [
  {
   "cell_type": "code",
   "execution_count": 1,
   "metadata": {},
   "outputs": [
    {
     "name": "stderr",
     "output_type": "stream",
     "text": [
      "/Users/yutingning/opt/anaconda3/envs/pytorch/lib/python3.7/site-packages/gensim/similarities/__init__.py:15: UserWarning: The gensim.similarities.levenshtein submodule is disabled, because the optional Levenshtein package <https://pypi.org/project/python-Levenshtein/> is unavailable. Install Levenhstein (e.g. `pip install python-Levenshtein`) to suppress this warning.\n",
      "  warnings.warn(msg)\n"
     ]
    }
   ],
   "source": [
    "import torch\n",
    "import numpy as np\n",
    "import os\n",
    "import json\n",
    "from EduNLP.Pretrain import BertTokenizer, finetune_bert\n",
    "from EduNLP.Vector import T2V\n",
    "from EduNLP.I2V import Bert, get_pretrained_i2v\n",
    "\n",
    "import os\n",
    "os.environ[\"WANDB_DISABLED\"] = \"true\""
   ]
  },
  {
   "cell_type": "markdown",
   "metadata": {},
   "source": [
    "# 训练自己的Bert模型\n",
    "## 1. 数据"
   ]
  },
  {
   "cell_type": "code",
   "execution_count": 2,
   "metadata": {},
   "outputs": [],
   "source": [
    "# 设置你的数据路径和输出路径\n",
    "BASE_DIR = \"/your/own/base/path\"\n",
    "\n",
    "data_dir = f\"{BASE_DIR}/static/test_data/OpenLUNA\"\n",
    "output_dir = f\"{BASE_DIR}/examples/test_model/data/bert\""
   ]
  },
  {
   "cell_type": "code",
   "execution_count": 3,
   "metadata": {},
   "outputs": [],
   "source": [
    "def raw_data():\n",
    "    _data = []\n",
    "    data_path = os.path.join(data_dir, \"OpenLUNA.json\")\n",
    "    with open(data_path, encoding=\"utf-8\") as f:\n",
    "        for line in f.readlines():\n",
    "            _data.append(json.loads(line))\n",
    "    return _data\n",
    "\n",
    "def stem_data(data):\n",
    "    _data = []\n",
    "    tokenizer = BertTokenizer()\n",
    "    for e in data:\n",
    "        d = tokenizer(e[\"stem\"])\n",
    "        if d is not None:\n",
    "            _data.append(d)\n",
    "    assert _data\n",
    "    return _data\n",
    "\n",
    "raw_data = raw_data()\n",
    "train_items = stem_data(raw_data)"
   ]
  },
  {
   "cell_type": "markdown",
   "metadata": {},
   "source": [
    "## 2. 训练和评估"
   ]
  },
  {
   "cell_type": "code",
   "execution_count": 4,
   "metadata": {},
   "outputs": [
    {
     "name": "stderr",
     "output_type": "stream",
     "text": [
      "Some weights of the model checkpoint at bert-base-chinese were not used when initializing BertForMaskedLM: ['cls.seq_relationship.weight', 'cls.seq_relationship.bias']\n",
      "- This IS expected if you are initializing BertForMaskedLM from the checkpoint of a model trained on another task or with another architecture (e.g. initializing a BertForSequenceClassification model from a BertForPreTraining model).\n",
      "- This IS NOT expected if you are initializing BertForMaskedLM from the checkpoint of a model that you expect to be exactly identical (initializing a BertForSequenceClassification model from a BertForSequenceClassification model).\n",
      "Using the `WAND_DISABLED` environment variable is deprecated and will be removed in v5. Use the --report_to flag to control the integrations used for logging result (for instance --report_to none).\n",
      "***** Running training *****\n",
      "  Num examples = 50\n",
      "  Num Epochs = 1\n",
      "  Instantaneous batch size per device = 4\n",
      "  Total train batch size (w. parallel, distributed & accumulation) = 4\n",
      "  Gradient Accumulation steps = 1\n",
      "  Total optimization steps = 13\n"
     ]
    },
    {
     "data": {
      "application/vnd.jupyter.widget-view+json": {
       "model_id": "4bc9d060267245aaa18aacd29c3153a6",
       "version_major": 2,
       "version_minor": 0
      },
      "text/plain": [
       "  0%|          | 0/13 [00:00<?, ?it/s]"
      ]
     },
     "metadata": {},
     "output_type": "display_data"
    },
    {
     "name": "stdout",
     "output_type": "stream",
     "text": [
      "{'loss': 1.307, 'learning_rate': 3.846153846153846e-05, 'epoch': 0.23}\n"
     ]
    },
    {
     "name": "stderr",
     "output_type": "stream",
     "text": [
      "Saving model checkpoint to /Users/yutingning/Desktop/Project/EduNLP//examples/test_model/data/bert/checkpoint-5\n",
      "Configuration saved in /Users/yutingning/Desktop/Project/EduNLP//examples/test_model/data/bert/checkpoint-5/config.json\n",
      "Model weights saved in /Users/yutingning/Desktop/Project/EduNLP//examples/test_model/data/bert/checkpoint-5/pytorch_model.bin\n",
      "tokenizer config file saved in /Users/yutingning/Desktop/Project/EduNLP//examples/test_model/data/bert/checkpoint-5/tokenizer_config.json\n",
      "Special tokens file saved in /Users/yutingning/Desktop/Project/EduNLP//examples/test_model/data/bert/checkpoint-5/special_tokens_map.json\n"
     ]
    },
    {
     "name": "stdout",
     "output_type": "stream",
     "text": [
      "{'loss': 1.9422, 'learning_rate': 2.6923076923076923e-05, 'epoch': 0.46}\n",
      "{'loss': 1.5072, 'learning_rate': 1.5384615384615387e-05, 'epoch': 0.69}\n"
     ]
    },
    {
     "name": "stderr",
     "output_type": "stream",
     "text": [
      "Saving model checkpoint to /Users/yutingning/Desktop/Project/EduNLP//examples/test_model/data/bert/checkpoint-10\n",
      "Configuration saved in /Users/yutingning/Desktop/Project/EduNLP//examples/test_model/data/bert/checkpoint-10/config.json\n",
      "Model weights saved in /Users/yutingning/Desktop/Project/EduNLP//examples/test_model/data/bert/checkpoint-10/pytorch_model.bin\n",
      "tokenizer config file saved in /Users/yutingning/Desktop/Project/EduNLP//examples/test_model/data/bert/checkpoint-10/tokenizer_config.json\n",
      "Special tokens file saved in /Users/yutingning/Desktop/Project/EduNLP//examples/test_model/data/bert/checkpoint-10/special_tokens_map.json\n"
     ]
    },
    {
     "name": "stdout",
     "output_type": "stream",
     "text": [
      "{'loss': 1.8462, 'learning_rate': 3.846153846153847e-06, 'epoch': 0.92}\n"
     ]
    },
    {
     "name": "stderr",
     "output_type": "stream",
     "text": [
      "\n",
      "\n",
      "Training completed. Do not forget to share your model on huggingface.co/models =)\n",
      "\n",
      "\n",
      "Saving model checkpoint to /Users/yutingning/Desktop/Project/EduNLP//examples/test_model/data/bert\n",
      "Configuration saved in /Users/yutingning/Desktop/Project/EduNLP//examples/test_model/data/bert/config.json\n"
     ]
    },
    {
     "name": "stdout",
     "output_type": "stream",
     "text": [
      "{'train_runtime': 87.1213, 'train_samples_per_second': 0.574, 'train_steps_per_second': 0.149, 'train_loss': 1.5740307661203237, 'epoch': 1.0}\n"
     ]
    },
    {
     "name": "stderr",
     "output_type": "stream",
     "text": [
      "Model weights saved in /Users/yutingning/Desktop/Project/EduNLP//examples/test_model/data/bert/pytorch_model.bin\n",
      "tokenizer config file saved in /Users/yutingning/Desktop/Project/EduNLP//examples/test_model/data/bert/tokenizer_config.json\n",
      "Special tokens file saved in /Users/yutingning/Desktop/Project/EduNLP//examples/test_model/data/bert/special_tokens_map.json\n",
      "tokenizer config file saved in /Users/yutingning/Desktop/Project/EduNLP//examples/test_model/data/bert/tokenizer_config.json\n",
      "Special tokens file saved in /Users/yutingning/Desktop/Project/EduNLP//examples/test_model/data/bert/special_tokens_map.json\n"
     ]
    }
   ],
   "source": [
    "# 自定义训练参数\n",
    "train_params = {\n",
    "  'epochs': 1,\n",
    "  'save_steps': 5,\n",
    "  'batch_size': 4,\n",
    "  'logging_steps': 3\n",
    "}\n",
    "\n",
    "finetune_bert(\n",
    "  train_items[:50],\n",
    "  output_dir,\n",
    "  train_params=train_params\n",
    ")"
   ]
  },
  {
   "cell_type": "markdown",
   "metadata": {},
   "source": [
    "## 3.使用模型\n",
    "\n",
    "### 3.1 使用训练好的Bert模型"
   ]
  },
  {
   "cell_type": "code",
   "execution_count": 5,
   "metadata": {},
   "outputs": [
    {
     "name": "stderr",
     "output_type": "stream",
     "text": [
      "loading configuration file /Users/yutingning/Desktop/Project/EduNLP//examples/test_model/data/bert/config.json\n",
      "Model config BertConfig {\n",
      "  \"_name_or_path\": \"bert-base-chinese\",\n",
      "  \"architectures\": [\n",
      "    \"BertForMaskedLM\"\n",
      "  ],\n",
      "  \"attention_probs_dropout_prob\": 0.1,\n",
      "  \"classifier_dropout\": null,\n",
      "  \"directionality\": \"bidi\",\n",
      "  \"gradient_checkpointing\": false,\n",
      "  \"hidden_act\": \"gelu\",\n",
      "  \"hidden_dropout_prob\": 0.1,\n",
      "  \"hidden_size\": 768,\n",
      "  \"initializer_range\": 0.02,\n",
      "  \"intermediate_size\": 3072,\n",
      "  \"layer_norm_eps\": 1e-12,\n",
      "  \"max_position_embeddings\": 512,\n",
      "  \"model_type\": \"bert\",\n",
      "  \"num_attention_heads\": 12,\n",
      "  \"num_hidden_layers\": 12,\n",
      "  \"pad_token_id\": 0,\n",
      "  \"pooler_fc_size\": 768,\n",
      "  \"pooler_num_attention_heads\": 12,\n",
      "  \"pooler_num_fc_layers\": 3,\n",
      "  \"pooler_size_per_head\": 128,\n",
      "  \"pooler_type\": \"first_token_transform\",\n",
      "  \"position_embedding_type\": \"absolute\",\n",
      "  \"torch_dtype\": \"float32\",\n",
      "  \"transformers_version\": \"4.10.2\",\n",
      "  \"type_vocab_size\": 2,\n",
      "  \"use_cache\": true,\n",
      "  \"vocab_size\": 21132\n",
      "}\n",
      "\n",
      "loading weights file /Users/yutingning/Desktop/Project/EduNLP//examples/test_model/data/bert/pytorch_model.bin\n",
      "Some weights of the model checkpoint at /Users/yutingning/Desktop/Project/EduNLP//examples/test_model/data/bert were not used when initializing BertModel: ['cls.predictions.bias', 'cls.predictions.transform.dense.bias', 'cls.predictions.transform.LayerNorm.bias', 'cls.predictions.decoder.bias', 'cls.predictions.transform.dense.weight', 'cls.predictions.transform.LayerNorm.weight', 'cls.predictions.decoder.weight']\n",
      "- This IS expected if you are initializing BertModel from the checkpoint of a model trained on another task or with another architecture (e.g. initializing a BertForSequenceClassification model from a BertForPreTraining model).\n",
      "- This IS NOT expected if you are initializing BertModel from the checkpoint of a model that you expect to be exactly identical (initializing a BertForSequenceClassification model from a BertForSequenceClassification model).\n",
      "Some weights of BertModel were not initialized from the model checkpoint at /Users/yutingning/Desktop/Project/EduNLP//examples/test_model/data/bert and are newly initialized: ['bert.pooler.dense.bias', 'bert.pooler.dense.weight']\n",
      "You should probably TRAIN this model on a down-stream task to be able to use it for predictions and inference.\n",
      "loading file /Users/yutingning/Desktop/Project/EduNLP//examples/test_model/data/bert/vocab.txt\n",
      "loading file /Users/yutingning/Desktop/Project/EduNLP//examples/test_model/data/bert/tokenizer.json\n",
      "loading file /Users/yutingning/Desktop/Project/EduNLP//examples/test_model/data/bert/added_tokens.json\n",
      "loading file /Users/yutingning/Desktop/Project/EduNLP//examples/test_model/data/bert/special_tokens_map.json\n",
      "loading file /Users/yutingning/Desktop/Project/EduNLP//examples/test_model/data/bert/tokenizer_config.json\n"
     ]
    },
    {
     "name": "stdout",
     "output_type": "stream",
     "text": [
      "torch.Size([1, 768])\n",
      "torch.Size([1, 21, 768])\n",
      "\n",
      "torch.Size([2, 768])\n",
      "torch.Size([2, 32, 768])\n"
     ]
    }
   ],
   "source": [
    "item = [\n",
    "        {'stem': '如图$\\\\FigureID{088f15ea-8b7c-11eb-897e-b46bfc50aa29}$, \\\n",
    "        若$x,y$满足约束条件$\\\\SIFSep$，则$z=x+7 y$的最大值为$\\\\SIFBlank$'},\n",
    "        {'stem': '已知圆$x^{2}+y^{2}-6 x=0$，过点(1,2)的直线被该圆所截得的弦的长度的最小值为'}\n",
    "]\n",
    "\n",
    "tokenizer_kwargs = {\"tokenizer_config_dir\": output_dir}\n",
    "i2v = Bert('bert', 'bert', output_dir, tokenizer_kwargs=tokenizer_kwargs)\n",
    "\n",
    "# 可以对单个题目进行表征\n",
    "i_vec, t_vec = i2v(item[0]['stem'])\n",
    "print(i_vec.shape) # == torch.Size([x, x])\n",
    "print(t_vec.shape) # == torch.Size([x, x, x])\n",
    "print()\n",
    "\n",
    "# 也可以对题目列表进行表征\n",
    "i_vec, t_vec = i2v([ item[0]['stem'], item[1]['stem'] ])\n",
    "print(i_vec.shape) # == torch.Size([x, x])\n",
    "print(t_vec.shape) # == torch.Size([x, x, x])"
   ]
  },
  {
   "cell_type": "markdown",
   "metadata": {},
   "source": [
    "### 3.2 使用BertTokenizer"
   ]
  },
  {
   "cell_type": "code",
   "execution_count": 6,
   "metadata": {},
   "outputs": [
    {
     "name": "stderr",
     "output_type": "stream",
     "text": [
      "loading configuration file https://huggingface.co/bert-base-chinese/resolve/main/config.json from cache at /Users/yutingning/.cache/huggingface/transformers/6cc404ca8136bc87bae0fb24f2259904943d776a6c5ddc26598bbdc319476f42.0f9bcd8314d841c06633e7b92b04509f1802c16796ee67b0f1177065739e24ae\n",
      "Model config BertConfig {\n",
      "  \"architectures\": [\n",
      "    \"BertForMaskedLM\"\n",
      "  ],\n",
      "  \"attention_probs_dropout_prob\": 0.1,\n",
      "  \"classifier_dropout\": null,\n",
      "  \"directionality\": \"bidi\",\n",
      "  \"gradient_checkpointing\": false,\n",
      "  \"hidden_act\": \"gelu\",\n",
      "  \"hidden_dropout_prob\": 0.1,\n",
      "  \"hidden_size\": 768,\n",
      "  \"initializer_range\": 0.02,\n",
      "  \"intermediate_size\": 3072,\n",
      "  \"layer_norm_eps\": 1e-12,\n",
      "  \"max_position_embeddings\": 512,\n",
      "  \"model_type\": \"bert\",\n",
      "  \"num_attention_heads\": 12,\n",
      "  \"num_hidden_layers\": 12,\n",
      "  \"pad_token_id\": 0,\n",
      "  \"pooler_fc_size\": 768,\n",
      "  \"pooler_num_attention_heads\": 12,\n",
      "  \"pooler_num_fc_layers\": 3,\n",
      "  \"pooler_size_per_head\": 128,\n",
      "  \"pooler_type\": \"first_token_transform\",\n",
      "  \"position_embedding_type\": \"absolute\",\n",
      "  \"transformers_version\": \"4.10.2\",\n",
      "  \"type_vocab_size\": 2,\n",
      "  \"use_cache\": true,\n",
      "  \"vocab_size\": 21128\n",
      "}\n",
      "\n",
      "loading file https://huggingface.co/bert-base-chinese/resolve/main/vocab.txt from cache at /Users/yutingning/.cache/huggingface/transformers/36acdf4f3edf0a14ffb2b2c68ba47e93abd9448825202377ddb16dae8114fe07.accd894ff58c6ff7bd4f3072890776c14f4ea34fcc08e79cd88c2d157756dceb\n",
      "loading file https://huggingface.co/bert-base-chinese/resolve/main/tokenizer.json from cache at /Users/yutingning/.cache/huggingface/transformers/7e23f4e1f58f867d672f84d9a459826e41cea3be6d0fe62502ddce9920f57e48.4495f7812b44ff0568ce7c4ff3fdbb2bac5eaf330440ffa30f46893bf749184d\n",
      "loading file https://huggingface.co/bert-base-chinese/resolve/main/added_tokens.json from cache at None\n",
      "loading file https://huggingface.co/bert-base-chinese/resolve/main/special_tokens_map.json from cache at None\n",
      "loading file https://huggingface.co/bert-base-chinese/resolve/main/tokenizer_config.json from cache at /Users/yutingning/.cache/huggingface/transformers/2dc6085404c55008ba7fc09ab7483ef3f0a4ca2496ccee0cdbf51c2b5d529dff.ec5c189f89475aac7d8cbd243960a0655cfadc3d0474da8ff2ed0bf1699c2a5f\n",
      "loading configuration file https://huggingface.co/bert-base-chinese/resolve/main/config.json from cache at /Users/yutingning/.cache/huggingface/transformers/6cc404ca8136bc87bae0fb24f2259904943d776a6c5ddc26598bbdc319476f42.0f9bcd8314d841c06633e7b92b04509f1802c16796ee67b0f1177065739e24ae\n",
      "Model config BertConfig {\n",
      "  \"architectures\": [\n",
      "    \"BertForMaskedLM\"\n",
      "  ],\n",
      "  \"attention_probs_dropout_prob\": 0.1,\n",
      "  \"classifier_dropout\": null,\n",
      "  \"directionality\": \"bidi\",\n",
      "  \"gradient_checkpointing\": false,\n",
      "  \"hidden_act\": \"gelu\",\n",
      "  \"hidden_dropout_prob\": 0.1,\n",
      "  \"hidden_size\": 768,\n",
      "  \"initializer_range\": 0.02,\n",
      "  \"intermediate_size\": 3072,\n",
      "  \"layer_norm_eps\": 1e-12,\n",
      "  \"max_position_embeddings\": 512,\n",
      "  \"model_type\": \"bert\",\n",
      "  \"num_attention_heads\": 12,\n",
      "  \"num_hidden_layers\": 12,\n",
      "  \"pad_token_id\": 0,\n",
      "  \"pooler_fc_size\": 768,\n",
      "  \"pooler_num_attention_heads\": 12,\n",
      "  \"pooler_num_fc_layers\": 3,\n",
      "  \"pooler_size_per_head\": 128,\n",
      "  \"pooler_type\": \"first_token_transform\",\n",
      "  \"position_embedding_type\": \"absolute\",\n",
      "  \"transformers_version\": \"4.10.2\",\n",
      "  \"type_vocab_size\": 2,\n",
      "  \"use_cache\": true,\n",
      "  \"vocab_size\": 21128\n",
      "}\n",
      "\n",
      "Assigning ['[FORMULA]', '[FIGURE]', '[MARK]', '[TAG]', '[SEP]'] to the additional_special_tokens key of the tokenizer\n"
     ]
    },
    {
     "name": "stdout",
     "output_type": "stream",
     "text": [
      "{'input_ids': [101, 1062, 2466, 1963, 1745, 21129, 166, 117, 167, 5276, 3338, 3340, 816, 1062, 2466, 102, 168, 134, 166, 116, 128, 8179, 3297, 1920, 966, 21130, 102], 'token_type_ids': [0, 0, 0, 0, 0, 0, 0, 0, 0, 0, 0, 0, 0, 0, 0, 0, 0, 0, 0, 0, 0, 0, 0, 0, 0, 0, 0], 'attention_mask': [1, 1, 1, 1, 1, 1, 1, 1, 1, 1, 1, 1, 1, 1, 1, 1, 1, 1, 1, 1, 1, 1, 1, 1, 1, 1, 1]}\n",
      "\n",
      "{'input_ids': [[101, 1062, 2466, 1963, 1745, 21129, 166, 117, 167, 5276, 3338, 3340, 816, 1062, 2466, 102, 168, 134, 166, 116, 128, 8179, 3297, 1920, 966, 21130, 102, 0, 0, 0, 0, 0, 0, 0], [101, 2347, 4761, 1749, 166, 141, 169, 123, 171, 116, 167, 141, 169, 123, 171, 118, 127, 8206, 134, 121, 6814, 4157, 4684, 5296, 1749, 2779, 2533, 2478, 7270, 2428, 3297, 2207, 966, 102]], 'token_type_ids': [[0, 0, 0, 0, 0, 0, 0, 0, 0, 0, 0, 0, 0, 0, 0, 0, 0, 0, 0, 0, 0, 0, 0, 0, 0, 0, 0, 0, 0, 0, 0, 0, 0, 0], [0, 0, 0, 0, 0, 0, 0, 0, 0, 0, 0, 0, 0, 0, 0, 0, 0, 0, 0, 0, 0, 0, 0, 0, 0, 0, 0, 0, 0, 0, 0, 0, 0, 0]], 'attention_mask': [[1, 1, 1, 1, 1, 1, 1, 1, 1, 1, 1, 1, 1, 1, 1, 1, 1, 1, 1, 1, 1, 1, 1, 1, 1, 1, 1, 0, 0, 0, 0, 0, 0, 0], [1, 1, 1, 1, 1, 1, 1, 1, 1, 1, 1, 1, 1, 1, 1, 1, 1, 1, 1, 1, 1, 1, 1, 1, 1, 1, 1, 1, 1, 1, 1, 1, 1, 1]]}\n",
      "\n",
      "{'input_ids': tensor([[  101,  1062,  2466,  1963,  1745, 21129,   166,   117,   167,  5276,\n",
      "          3338,  3340,   816,  1062,  2466,   102,   168,   134,   166,   116,\n",
      "           128,  8179,  3297,  1920,   966, 21130,   102]]), 'token_type_ids': tensor([[0, 0, 0, 0, 0, 0, 0, 0, 0, 0, 0, 0, 0, 0, 0, 0, 0, 0, 0, 0, 0, 0, 0, 0,\n",
      "         0, 0, 0]]), 'attention_mask': tensor([[1, 1, 1, 1, 1, 1, 1, 1, 1, 1, 1, 1, 1, 1, 1, 1, 1, 1, 1, 1, 1, 1, 1, 1,\n",
      "         1, 1, 1]])}\n"
     ]
    }
   ],
   "source": [
    "# 在Bert-base-chinese的基础上初始化tokenizer\n",
    "tokenizer = BertTokenizer(add_special_tokens=True, pretrain_model=\"bert-base-chinese\")\n",
    "\n",
    "# 对题目文本进行令牌化\n",
    "items = [\n",
    "    \"有公式$\\\\FormFigureID{wrong1?}$，如图$\\\\FigureID{088f15ea-xxx}$,\\\n",
    "    若$x,y$满足约束条件公式$\\\\FormFigureBase64{wrong2?}$,$\\\\SIFSep$，则$z=x+7 y$的最大值为$\\\\SIFBlank$\",\n",
    "    \"已知圆$x^{2}+y^{2}-6 x=0$，过点(1,2)的直线被该圆所截得的弦的长度的最小值为\"\n",
    "]\n",
    "\n",
    "# 可以对单个题目进行令牌化\n",
    "print(tokenizer(items[0]))\n",
    "print()\n",
    "\n",
    "# 也可以对题目列表进行令牌化\n",
    "token_items = tokenizer(items)\n",
    "print(token_items)\n",
    "print()\n",
    "\n",
    "# 可以使用return_tensors参数指定返回张量的类型\n",
    "print(tokenizer(items[0], return_tensors='pt'))"
   ]
  },
  {
   "cell_type": "code",
   "execution_count": 7,
   "metadata": {},
   "outputs": [
    {
     "name": "stdout",
     "output_type": "stream",
     "text": [
      "['公', '式', '如', '图', '[FIGURE]', 'x', ',', 'y', '约', '束', '条', '件', '公', '式', '[SEP]', 'z', '=', 'x', '+', '7', '##y', '最', '大', '值', '[MARK]']\n",
      "[['公', '式', '如', '图', '[FIGURE]', 'x', ',', 'y', '约', '束', '条', '件', '公', '式', '[SEP]', 'z', '=', 'x', '+', '7', '##y', '最', '大', '值', '[MARK]'], ['已', '知', '圆', 'x', '^', '{', '2', '}', '+', 'y', '^', '{', '2', '}', '-', '6', '##x', '=', '0', '过', '点', '直', '线', '圆', '截', '得', '弦', '长', '度', '最', '小', '值']]\n"
     ]
    }
   ],
   "source": [
    "# 可以使用tokenize方法查看令牌化后的文本\n",
    "print(tokenizer.tokenize(items[0]))\n",
    "print(tokenizer.tokenize(items))"
   ]
  },
  {
   "cell_type": "markdown",
   "metadata": {},
   "source": [
    "## 3.3 使用EduNLP中公开的预训练模型"
   ]
  },
  {
   "cell_type": "code",
   "execution_count": 8,
   "metadata": {},
   "outputs": [
    {
     "name": "stderr",
     "output_type": "stream",
     "text": [
      "EduNLP, INFO model_path: /Users/yutingning/Desktop/Project/EduNLP/examples/test_model/data/bert/luna_pub_bert_math_base\n",
      "EduNLP, INFO Use pretrained t2v model luna_pub_bert_math_base\n",
      "downloader, INFO http://base.ustc.edu.cn/data/model_zoo/modelhub/bert_pub/1/luna_pub_bert_math_base.zip is saved as /Users/yutingning/Desktop/Project/EduNLP/examples/test_model/data/bert/luna_pub_bert_math_base.zip\n",
      "downloader, INFO file existed, skipped\n",
      "loading configuration file /Users/yutingning/Desktop/Project/EduNLP/examples/test_model/data/bert/luna_pub_bert_math_base/config.json\n",
      "Model config BertConfig {\n",
      "  \"_name_or_path\": \"bert-base-chinese\",\n",
      "  \"architectures\": [\n",
      "    \"BertForMaskedLM\"\n",
      "  ],\n",
      "  \"attention_probs_dropout_prob\": 0.1,\n",
      "  \"classifier_dropout\": null,\n",
      "  \"directionality\": \"bidi\",\n",
      "  \"gradient_checkpointing\": false,\n",
      "  \"hidden_act\": \"gelu\",\n",
      "  \"hidden_dropout_prob\": 0.1,\n",
      "  \"hidden_size\": 768,\n",
      "  \"initializer_range\": 0.02,\n",
      "  \"intermediate_size\": 3072,\n",
      "  \"layer_norm_eps\": 1e-12,\n",
      "  \"max_position_embeddings\": 512,\n",
      "  \"model_type\": \"bert\",\n",
      "  \"num_attention_heads\": 12,\n",
      "  \"num_hidden_layers\": 12,\n",
      "  \"pad_token_id\": 0,\n",
      "  \"pooler_fc_size\": 768,\n",
      "  \"pooler_num_attention_heads\": 12,\n",
      "  \"pooler_num_fc_layers\": 3,\n",
      "  \"pooler_size_per_head\": 128,\n",
      "  \"pooler_type\": \"first_token_transform\",\n",
      "  \"position_embedding_type\": \"absolute\",\n",
      "  \"torch_dtype\": \"float32\",\n",
      "  \"transformers_version\": \"4.10.2\",\n",
      "  \"type_vocab_size\": 2,\n",
      "  \"use_cache\": true,\n",
      "  \"vocab_size\": 21132\n",
      "}\n",
      "\n",
      "loading weights file /Users/yutingning/Desktop/Project/EduNLP/examples/test_model/data/bert/luna_pub_bert_math_base/pytorch_model.bin\n",
      "Some weights of the model checkpoint at /Users/yutingning/Desktop/Project/EduNLP/examples/test_model/data/bert/luna_pub_bert_math_base were not used when initializing BertModel: ['cls.predictions.bias', 'cls.predictions.transform.dense.bias', 'cls.predictions.transform.LayerNorm.bias', 'cls.predictions.decoder.bias', 'cls.predictions.transform.dense.weight', 'cls.predictions.transform.LayerNorm.weight', 'cls.predictions.decoder.weight']\n",
      "- This IS expected if you are initializing BertModel from the checkpoint of a model trained on another task or with another architecture (e.g. initializing a BertForSequenceClassification model from a BertForPreTraining model).\n",
      "- This IS NOT expected if you are initializing BertModel from the checkpoint of a model that you expect to be exactly identical (initializing a BertForSequenceClassification model from a BertForSequenceClassification model).\n",
      "Some weights of BertModel were not initialized from the model checkpoint at /Users/yutingning/Desktop/Project/EduNLP/examples/test_model/data/bert/luna_pub_bert_math_base and are newly initialized: ['bert.pooler.dense.bias', 'bert.pooler.dense.weight']\n",
      "You should probably TRAIN this model on a down-stream task to be able to use it for predictions and inference.\n",
      "loading file /Users/yutingning/Desktop/Project/EduNLP/examples/test_model/data/bert/luna_pub_bert_math_base/vocab.txt\n",
      "loading file /Users/yutingning/Desktop/Project/EduNLP/examples/test_model/data/bert/luna_pub_bert_math_base/tokenizer.json\n",
      "loading file /Users/yutingning/Desktop/Project/EduNLP/examples/test_model/data/bert/luna_pub_bert_math_base/added_tokens.json\n",
      "loading file /Users/yutingning/Desktop/Project/EduNLP/examples/test_model/data/bert/luna_pub_bert_math_base/special_tokens_map.json\n",
      "loading file /Users/yutingning/Desktop/Project/EduNLP/examples/test_model/data/bert/luna_pub_bert_math_base/tokenizer_config.json\n"
     ]
    }
   ],
   "source": [
    "# 获取公开的预训练模型\n",
    "pretrained_dir = f\"{BASE_DIR}/examples/test_model/data/bert\"\n",
    "i2v = get_pretrained_i2v(\"luna_pub_bert_math_base\", model_dir=pretrained_dir)"
   ]
  },
  {
   "cell_type": "code",
   "execution_count": 11,
   "metadata": {},
   "outputs": [
    {
     "name": "stdout",
     "output_type": "stream",
     "text": [
      "torch.Size([2, 768])\n",
      "torch.Size([2, 32, 768])\n",
      "\n",
      "torch.Size([2, 768])\n",
      "torch.Size([2, 32, 768])\n",
      "\n",
      "torch.Size([1, 768])\n",
      "torch.Size([1, 2, 768])\n"
     ]
    }
   ],
   "source": [
    "items = [\n",
    "    \"有公式$\\\\FormFigureID{wrong1?}$，如图$\\\\FigureID{088f15ea-xxx}$,\\\n",
    "    若$x,y$满足约束条件公式$\\\\FormFigureBase64{wrong2?}$,$\\\\SIFSep$，则$z=x+7 y$的最大值为$\\\\SIFBlank$\",\n",
    "    \"已知圆$x^{2}+y^{2}-6 x=0$，过点(1,2)的直线被该圆所截得的弦的长度的最小值为\"\n",
    "]\n",
    "i_vec, t_vec = i2v(items)\n",
    "print(i_vec.shape)\n",
    "print(t_vec.shape)\n",
    "print()\n",
    "\n",
    "# 也可以单独获取题目表征和各个token的表征\n",
    "i_vec = i2v.infer_item_vector(items)\n",
    "print(i_vec.shape)\n",
    "t_vec = i2v.infer_token_vector(items)\n",
    "print(t_vec.shape)\n",
    "print()\n",
    "\n",
    "# 同样，可以获取单个题目的表征\n",
    "i_vec, t_vec = i2v(item[0])\n",
    "print(i_vec.shape)\n",
    "print(t_vec.shape)"
   ]
  },
  {
   "cell_type": "code",
   "execution_count": null,
   "metadata": {},
   "outputs": [],
   "source": []
  }
 ],
 "metadata": {
  "interpreter": {
   "hash": "f7f2a26ee7085c593a24cc14fd3813042ae0d8924be52d70a5ae56ba8d7e7914"
  },
  "kernelspec": {
   "display_name": "Python 3.7.11 ('pytorch')",
   "language": "python",
   "name": "python3"
  },
  "language_info": {
   "codemirror_mode": {
    "name": "ipython",
    "version": 3
   },
   "file_extension": ".py",
   "mimetype": "text/x-python",
   "name": "python",
   "nbconvert_exporter": "python",
   "pygments_lexer": "ipython3",
   "version": "3.7.11"
  },
  "orig_nbformat": 4
 },
 "nbformat": 4,
 "nbformat_minor": 2
}
