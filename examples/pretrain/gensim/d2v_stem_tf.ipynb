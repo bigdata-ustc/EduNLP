{
 "cells": [
  {
   "cell_type": "markdown",
   "source": [
    "# d2v_stem_tf"
   ],
   "metadata": {}
  },
  {
   "cell_type": "code",
   "execution_count": 1,
   "source": [
    "import json\r\n",
    "from tqdm import tqdm\r\n",
    "\r\n",
    "def load_items():\r\n",
    "    with open(\"../../../data/OpenLUNA.json\", encoding=\"utf-8\") as f:\r\n",
    "        for line in f:\r\n",
    "            yield json.loads(line)\r\n",
    "\r\n",
    "\r\n",
    "from EduNLP.Pretrain import GensimWordTokenizer\r\n",
    "\r\n",
    "tokenizer = GensimWordTokenizer(symbol=\"gm\")\r\n",
    "sif_items = []\r\n",
    "for item in tqdm(load_items(), \"sifing\"):\r\n",
    "    sif_item = tokenizer(\r\n",
    "        item[\"stem\"]\r\n",
    "    )\r\n",
    "    if sif_item:\r\n",
    "        sif_items.append(sif_item.tokens)\r\n",
    "\r\n",
    "sif_items[0]"
   ],
   "outputs": [
    {
     "output_type": "stream",
     "name": "stderr",
     "text": [
      "d:\\env\\python3.8\\lib\\site-packages\\gensim\\similarities\\__init__.py:15: UserWarning: The gensim.similarities.levenshtein submodule is disabled, because the optional Levenshtein package <https://pypi.org/project/python-Levenshtein/> is unavailable. Install Levenhstein (e.g. `pip install python-Levenshtein`) to suppress this warning.\n",
      "  warnings.warn(msg)\n",
      "sifing: 792it [00:39, 19.82it/s]\n"
     ]
    },
    {
     "output_type": "stream",
     "name": "stdout",
     "text": [
      "'LaTeX-incompatible input and strict mode is set to \\'warn\\': Unrecognized Unicode character \"①\" (9312) [unknownSymbol]'\n",
      "'LaTeX-incompatible input and strict mode is set to \\'warn\\': Unrecognized Unicode character \"②\" (9313) [unknownSymbol]'\n",
      "'LaTeX-incompatible input and strict mode is set to \\'warn\\': Unrecognized Unicode character \"③\" (9314) [unknownSymbol]'\n",
      "'LaTeX-incompatible input and strict mode is set to \\'warn\\': Unrecognized Unicode character \"④\" (9315) [unknownSymbol]'\n",
      "'LaTeX-incompatible input and strict mode is set to \\'warn\\': Unicode text character \"，\" used in math mode [unicodeTextInMathMode]'\n",
      "'LaTeX-incompatible input and strict mode is set to \\'warn\\': Unicode text character \"，\" used in math mode [unicodeTextInMathMode]'\n",
      "'LaTeX-incompatible input and strict mode is set to \\'warn\\': Unicode text character \"：\" used in math mode [unicodeTextInMathMode]'\n",
      "'LaTeX-incompatible input and strict mode is set to \\'warn\\': Unicode text character \"二\" used in math mode [unicodeTextInMathMode]'\n",
      "'LaTeX-incompatible input and strict mode is set to \\'warn\\': Unicode text character \"项\" used in math mode [unicodeTextInMathMode]'\n",
      "'LaTeX-incompatible input and strict mode is set to \\'warn\\': Unicode text character \"式\" used in math mode [unicodeTextInMathMode]'\n",
      "\"LaTeX-incompatible input and strict mode is set to 'warn': Too few columns specified in the {array} column argument. [textEnv]\"\n",
      "'LaTeX-incompatible input and strict mode is set to \\'warn\\': Unicode text character \"，\" used in math mode [unicodeTextInMathMode]'\n",
      "'LaTeX-incompatible input and strict mode is set to \\'warn\\': Unicode text character \"，\" used in math mode [unicodeTextInMathMode]'\n",
      "'LaTeX-incompatible input and strict mode is set to \\'warn\\': Unicode text character \"，\" used in math mode [unicodeTextInMathMode]'\n",
      "'LaTeX-incompatible input and strict mode is set to \\'warn\\': Unicode text character \"，\" used in math mode [unicodeTextInMathMode]'\n",
      "'LaTeX-incompatible input and strict mode is set to \\'warn\\': Unicode text character \"，\" used in math mode [unicodeTextInMathMode]'\n",
      "'LaTeX-incompatible input and strict mode is set to \\'warn\\': Unicode text character \"＞\" used in math mode [unicodeTextInMathMode]'\n",
      "'LaTeX-incompatible input and strict mode is set to \\'warn\\': Unicode text character \"（\" used in math mode [unicodeTextInMathMode]'\n",
      "'LaTeX-incompatible input and strict mode is set to \\'warn\\': Unicode text character \"，\" used in math mode [unicodeTextInMathMode]'\n",
      "'LaTeX-incompatible input and strict mode is set to \\'warn\\': Unicode text character \"）\" used in math mode [unicodeTextInMathMode]'\n",
      "'LaTeX-incompatible input and strict mode is set to \\'warn\\': Unicode text character \"，\" used in math mode [unicodeTextInMathMode]'\n",
      "'LaTeX-incompatible input and strict mode is set to \\'warn\\': Unicode text character \"，\" used in math mode [unicodeTextInMathMode]'\n",
      "'LaTeX-incompatible input and strict mode is set to \\'warn\\': Unicode text character \"，\" used in math mode [unicodeTextInMathMode]'\n",
      "'LaTeX-incompatible input and strict mode is set to \\'warn\\': Unicode text character \"，\" used in math mode [unicodeTextInMathMode]'\n",
      "'LaTeX-incompatible input and strict mode is set to \\'warn\\': Unicode text character \"，\" used in math mode [unicodeTextInMathMode]'\n",
      "'LaTeX-incompatible input and strict mode is set to \\'warn\\': Unicode text character \"，\" used in math mode [unicodeTextInMathMode]'\n",
      "'LaTeX-incompatible input and strict mode is set to \\'warn\\': Unicode text character \"，\" used in math mode [unicodeTextInMathMode]'\n",
      "'LaTeX-incompatible input and strict mode is set to \\'warn\\': Unicode text character \"，\" used in math mode [unicodeTextInMathMode]'\n",
      "'LaTeX-incompatible input and strict mode is set to \\'warn\\': Unicode text character \"，\" used in math mode [unicodeTextInMathMode]'\n",
      "'LaTeX-incompatible input and strict mode is set to \\'warn\\': Unicode text character \"，\" used in math mode [unicodeTextInMathMode]'\n",
      "'LaTeX-incompatible input and strict mode is set to \\'warn\\': Unicode text character \"（\" used in math mode [unicodeTextInMathMode]'\n",
      "'LaTeX-incompatible input and strict mode is set to \\'warn\\': Unicode text character \"，\" used in math mode [unicodeTextInMathMode]'\n",
      "'LaTeX-incompatible input and strict mode is set to \\'warn\\': Unicode text character \"）\" used in math mode [unicodeTextInMathMode]'\n",
      "'LaTeX-incompatible input and strict mode is set to \\'warn\\': Unicode text character \"：\" used in math mode [unicodeTextInMathMode]'\n",
      "'LaTeX-incompatible input and strict mode is set to \\'warn\\': Unicode text character \"，\" used in math mode [unicodeTextInMathMode]'\n",
      "'LaTeX-incompatible input and strict mode is set to \\'warn\\': Unrecognized Unicode character \"﹣\" (65123) [unknownSymbol]'\n",
      "'LaTeX-incompatible input and strict mode is set to \\'warn\\': Unicode text character \"，\" used in math mode [unicodeTextInMathMode]'\n",
      "'LaTeX-incompatible input and strict mode is set to \\'warn\\': Unicode text character \"（\" used in math mode [unicodeTextInMathMode]'\n",
      "'LaTeX-incompatible input and strict mode is set to \\'warn\\': Unicode text character \"，\" used in math mode [unicodeTextInMathMode]'\n",
      "'LaTeX-incompatible input and strict mode is set to \\'warn\\': Unicode text character \"）\" used in math mode [unicodeTextInMathMode]'\n",
      "\"LaTeX-incompatible input and strict mode is set to 'warn': Too few columns specified in the {array} column argument. [textEnv]\"\n",
      "'LaTeX-incompatible input and strict mode is set to \\'warn\\': Unicode text character \"，\" used in math mode [unicodeTextInMathMode]'\n",
      "'LaTeX-incompatible input and strict mode is set to \\'warn\\': Unicode text character \"，\" used in math mode [unicodeTextInMathMode]'\n",
      "'LaTeX-incompatible input and strict mode is set to \\'warn\\': Unicode text character \"，\" used in math mode [unicodeTextInMathMode]'\n",
      "'LaTeX-incompatible input and strict mode is set to \\'warn\\': Unicode text character \"，\" used in math mode [unicodeTextInMathMode]'\n",
      "'LaTeX-incompatible input and strict mode is set to \\'warn\\': Unicode text character \"＞\" used in math mode [unicodeTextInMathMode]'\n",
      "'LaTeX-incompatible input and strict mode is set to \\'warn\\': Unicode text character \"，\" used in math mode [unicodeTextInMathMode]'\n",
      "'LaTeX-incompatible input and strict mode is set to \\'warn\\': Unicode text character \"，\" used in math mode [unicodeTextInMathMode]'\n",
      "'LaTeX-incompatible input and strict mode is set to \\'warn\\': Unicode text character \"，\" used in math mode [unicodeTextInMathMode]'\n",
      "'LaTeX-incompatible input and strict mode is set to \\'warn\\': Unicode text character \"，\" used in math mode [unicodeTextInMathMode]'\n",
      "'LaTeX-incompatible input and strict mode is set to \\'warn\\': Unicode text character \"，\" used in math mode [unicodeTextInMathMode]'\n",
      "'LaTeX-incompatible input and strict mode is set to \\'warn\\': Unicode text character \"，\" used in math mode [unicodeTextInMathMode]'\n",
      "'LaTeX-incompatible input and strict mode is set to \\'warn\\': Unicode text character \"，\" used in math mode [unicodeTextInMathMode]'\n",
      "'LaTeX-incompatible input and strict mode is set to \\'warn\\': Unicode text character \"，\" used in math mode [unicodeTextInMathMode]'\n",
      "'LaTeX-incompatible input and strict mode is set to \\'warn\\': Unicode text character \"，\" used in math mode [unicodeTextInMathMode]'\n",
      "'LaTeX-incompatible input and strict mode is set to \\'warn\\': Unicode text character \"，\" used in math mode [unicodeTextInMathMode]'\n",
      "'LaTeX-incompatible input and strict mode is set to \\'warn\\': Unicode text character \"，\" used in math mode [unicodeTextInMathMode]'\n",
      "'LaTeX-incompatible input and strict mode is set to \\'warn\\': Unrecognized Unicode character \"﹣\" (65123) [unknownSymbol]'\n",
      "'LaTeX-incompatible input and strict mode is set to \\'warn\\': Unicode text character \"，\" used in math mode [unicodeTextInMathMode]'\n",
      "'LaTeX-incompatible input and strict mode is set to \\'warn\\': Unicode text character \"，\" used in math mode [unicodeTextInMathMode]'\n",
      "'LaTeX-incompatible input and strict mode is set to \\'warn\\': Unicode text character \"，\" used in math mode [unicodeTextInMathMode]'\n",
      "'LaTeX-incompatible input and strict mode is set to \\'warn\\': Unrecognized Unicode character \"﹣\" (65123) [unknownSymbol]'\n",
      "'LaTeX-incompatible input and strict mode is set to \\'warn\\': Unrecognized Unicode character \"﹣\" (65123) [unknownSymbol]'\n",
      "'LaTeX-incompatible input and strict mode is set to \\'warn\\': Unicode text character \"，\" used in math mode [unicodeTextInMathMode]'\n",
      "'LaTeX-incompatible input and strict mode is set to \\'warn\\': Unicode text character \"，\" used in math mode [unicodeTextInMathMode]'\n",
      "'LaTeX-incompatible input and strict mode is set to \\'warn\\': Unicode text character \"，\" used in math mode [unicodeTextInMathMode]'\n",
      "'LaTeX-incompatible input and strict mode is set to \\'warn\\': Unicode text character \"，\" used in math mode [unicodeTextInMathMode]'\n",
      "'LaTeX-incompatible input and strict mode is set to \\'warn\\': Unicode text character \"，\" used in math mode [unicodeTextInMathMode]'\n",
      "'LaTeX-incompatible input and strict mode is set to \\'warn\\': Unicode text character \"，\" used in math mode [unicodeTextInMathMode]'\n",
      "'LaTeX-incompatible input and strict mode is set to \\'warn\\': Unicode text character \"，\" used in math mode [unicodeTextInMathMode]'\n",
      "\"LaTeX-incompatible input and strict mode is set to 'warn': Too few columns specified in the {array} column argument. [textEnv]\"\n",
      "'LaTeX-incompatible input and strict mode is set to \\'warn\\': Unicode text character \"，\" used in math mode [unicodeTextInMathMode]'\n",
      "'LaTeX-incompatible input and strict mode is set to \\'warn\\': Unicode text character \"）\" used in math mode [unicodeTextInMathMode]'\n",
      "'LaTeX-incompatible input and strict mode is set to \\'warn\\': Unrecognized Unicode character \"﹣\" (65123) [unknownSymbol]'\n",
      "'LaTeX-incompatible input and strict mode is set to \\'warn\\': Unicode text character \"，\" used in math mode [unicodeTextInMathMode]'\n",
      "'LaTeX-incompatible input and strict mode is set to \\'warn\\': Unicode text character \"＜\" used in math mode [unicodeTextInMathMode]'\n",
      "'LaTeX-incompatible input and strict mode is set to \\'warn\\': Unicode text character \"，\" used in math mode [unicodeTextInMathMode]'\n",
      "'LaTeX-incompatible input and strict mode is set to \\'warn\\': Unicode text character \"：\" used in math mode [unicodeTextInMathMode]'\n",
      "'LaTeX-incompatible input and strict mode is set to \\'warn\\': Unicode text character \"，\" used in math mode [unicodeTextInMathMode]'\n",
      "'LaTeX-incompatible input and strict mode is set to \\'warn\\': Unicode text character \"，\" used in math mode [unicodeTextInMathMode]'\n",
      "'LaTeX-incompatible input and strict mode is set to \\'warn\\': Unicode text character \"＞\" used in math mode [unicodeTextInMathMode]'\n",
      "'LaTeX-incompatible input and strict mode is set to \\'warn\\': Unicode text character \"，\" used in math mode [unicodeTextInMathMode]'\n",
      "'LaTeX-incompatible input and strict mode is set to \\'warn\\': Unicode text character \"（\" used in math mode [unicodeTextInMathMode]'\n",
      "'LaTeX-incompatible input and strict mode is set to \\'warn\\': Unicode text character \"，\" used in math mode [unicodeTextInMathMode]'\n",
      "'LaTeX-incompatible input and strict mode is set to \\'warn\\': Unicode text character \"，\" used in math mode [unicodeTextInMathMode]'\n",
      "'LaTeX-incompatible input and strict mode is set to \\'warn\\': Unicode text character \"，\" used in math mode [unicodeTextInMathMode]'\n",
      "'LaTeX-incompatible input and strict mode is set to \\'warn\\': Unicode text character \"）\" used in math mode [unicodeTextInMathMode]'\n",
      "'LaTeX-incompatible input and strict mode is set to \\'warn\\': Unicode text character \"，\" used in math mode [unicodeTextInMathMode]'\n",
      "'LaTeX-incompatible input and strict mode is set to \\'warn\\': Unicode text character \"，\" used in math mode [unicodeTextInMathMode]'\n",
      "'LaTeX-incompatible input and strict mode is set to \\'warn\\': Unicode text character \"：\" used in math mode [unicodeTextInMathMode]'\n",
      "'LaTeX-incompatible input and strict mode is set to \\'warn\\': Unicode text character \"：\" used in math mode [unicodeTextInMathMode]'\n",
      "'LaTeX-incompatible input and strict mode is set to \\'warn\\': Unicode text character \"＞\" used in math mode [unicodeTextInMathMode]'\n",
      "'LaTeX-incompatible input and strict mode is set to \\'warn\\': Unicode text character \"：\" used in math mode [unicodeTextInMathMode]'\n",
      "'LaTeX-incompatible input and strict mode is set to \\'warn\\': Unicode text character \"，\" used in math mode [unicodeTextInMathMode]'\n",
      "'LaTeX-incompatible input and strict mode is set to \\'warn\\': Unicode text character \"则\" used in math mode [unicodeTextInMathMode]'\n",
      "'LaTeX-incompatible input and strict mode is set to \\'warn\\': Unicode text character \"所\" used in math mode [unicodeTextInMathMode]'\n",
      "'LaTeX-incompatible input and strict mode is set to \\'warn\\': Unicode text character \"成\" used in math mode [unicodeTextInMathMode]'\n",
      "'LaTeX-incompatible input and strict mode is set to \\'warn\\': Unicode text character \"角\" used in math mode [unicodeTextInMathMode]'\n",
      "'LaTeX-incompatible input and strict mode is set to \\'warn\\': Unicode text character \"的\" used in math mode [unicodeTextInMathMode]'\n",
      "'LaTeX-incompatible input and strict mode is set to \\'warn\\': Unicode text character \"正\" used in math mode [unicodeTextInMathMode]'\n",
      "'LaTeX-incompatible input and strict mode is set to \\'warn\\': Unicode text character \"弦\" used in math mode [unicodeTextInMathMode]'\n",
      "'LaTeX-incompatible input and strict mode is set to \\'warn\\': Unicode text character \"值\" used in math mode [unicodeTextInMathMode]'\n",
      "'LaTeX-incompatible input and strict mode is set to \\'warn\\': Unicode text character \"为\" used in math mode [unicodeTextInMathMode]'\n",
      "'LaTeX-incompatible input and strict mode is set to \\'warn\\': Unicode text character \"，\" used in math mode [unicodeTextInMathMode]'\n",
      "'LaTeX-incompatible input and strict mode is set to \\'warn\\': Unicode text character \"，\" used in math mode [unicodeTextInMathMode]'\n",
      "'LaTeX-incompatible input and strict mode is set to \\'warn\\': Unicode text character \"则\" used in math mode [unicodeTextInMathMode]'\n",
      "'LaTeX-incompatible input and strict mode is set to \\'warn\\': Unicode text character \"四\" used in math mode [unicodeTextInMathMode]'\n",
      "'LaTeX-incompatible input and strict mode is set to \\'warn\\': Unicode text character \"点\" used in math mode [unicodeTextInMathMode]'\n",
      "\"LaTeX-incompatible input and strict mode is set to 'warn': Too few columns specified in the {array} column argument. [textEnv]\"\n",
      "'LaTeX-incompatible input and strict mode is set to \\'warn\\': Unicode text character \"，\" used in math mode [unicodeTextInMathMode]'\n",
      "'LaTeX-incompatible input and strict mode is set to \\'warn\\': Unicode text character \"，\" used in math mode [unicodeTextInMathMode]'\n",
      "'LaTeX-incompatible input and strict mode is set to \\'warn\\': Unicode text character \"，\" used in math mode [unicodeTextInMathMode]'\n",
      "'LaTeX-incompatible input and strict mode is set to \\'warn\\': Unicode text character \"，\" used in math mode [unicodeTextInMathMode]'\n",
      "'LaTeX-incompatible input and strict mode is set to \\'warn\\': Unicode text character \"，\" used in math mode [unicodeTextInMathMode]'\n",
      "'LaTeX-incompatible input and strict mode is set to \\'warn\\': Unicode text character \"，\" used in math mode [unicodeTextInMathMode]'\n",
      "'LaTeX-incompatible input and strict mode is set to \\'warn\\': Unicode text character \"，\" used in math mode [unicodeTextInMathMode]'\n",
      "'LaTeX-incompatible input and strict mode is set to \\'warn\\': Unicode text character \"，\" used in math mode [unicodeTextInMathMode]'\n",
      "'LaTeX-incompatible input and strict mode is set to \\'warn\\': Unicode text character \"，\" used in math mode [unicodeTextInMathMode]'\n",
      "'LaTeX-incompatible input and strict mode is set to \\'warn\\': Unicode text character \"，\" used in math mode [unicodeTextInMathMode]'\n",
      "'LaTeX-incompatible input and strict mode is set to \\'warn\\': Unicode text character \"，\" used in math mode [unicodeTextInMathMode]'\n",
      "'LaTeX-incompatible input and strict mode is set to \\'warn\\': Unicode text character \"，\" used in math mode [unicodeTextInMathMode]'\n",
      "\"LaTeX-incompatible input and strict mode is set to 'warn': Too few columns specified in the {array} column argument. [textEnv]\"\n",
      "'LaTeX-incompatible input and strict mode is set to \\'warn\\': Unicode text character \"（\" used in math mode [unicodeTextInMathMode]'\n",
      "'LaTeX-incompatible input and strict mode is set to \\'warn\\': Unicode text character \"）\" used in math mode [unicodeTextInMathMode]'\n",
      "'LaTeX-incompatible input and strict mode is set to \\'warn\\': Unicode text character \"，\" used in math mode [unicodeTextInMathMode]'\n",
      "\"LaTeX-incompatible input and strict mode is set to 'warn': Too few columns specified in the {array} column argument. [textEnv]\"\n",
      "'LaTeX-incompatible input and strict mode is set to \\'warn\\': Unicode text character \"＞\" used in math mode [unicodeTextInMathMode]'\n",
      "'LaTeX-incompatible input and strict mode is set to \\'warn\\': Unicode text character \"，\" used in math mode [unicodeTextInMathMode]'\n",
      "'LaTeX-incompatible input and strict mode is set to \\'warn\\': Unicode text character \"，\" used in math mode [unicodeTextInMathMode]'\n",
      "'LaTeX-incompatible input and strict mode is set to \\'warn\\': Unicode text character \"，\" used in math mode [unicodeTextInMathMode]'\n",
      "'LaTeX-incompatible input and strict mode is set to \\'warn\\': Unicode text character \"＞\" used in math mode [unicodeTextInMathMode]'\n",
      "'LaTeX-incompatible input and strict mode is set to \\'warn\\': Unicode text character \"＞\" used in math mode [unicodeTextInMathMode]'\n",
      "'LaTeX-incompatible input and strict mode is set to \\'warn\\': Unicode text character \"＞\" used in math mode [unicodeTextInMathMode]'\n",
      "'LaTeX-incompatible input and strict mode is set to \\'warn\\': Unicode text character \"＜\" used in math mode [unicodeTextInMathMode]'\n",
      "'LaTeX-incompatible input and strict mode is set to \\'warn\\': Unicode text character \"＜\" used in math mode [unicodeTextInMathMode]'\n"
     ]
    },
    {
     "output_type": "execute_result",
     "data": {
      "text/plain": [
       "['已知',\n",
       " '集合',\n",
       " 'mathord',\n",
       " '=',\n",
       " 'mathord',\n",
       " '\\\\mid',\n",
       " 'mathord',\n",
       " 'textord',\n",
       " '{ }',\n",
       " '^',\n",
       " '-',\n",
       " 'textord',\n",
       " 'mathord',\n",
       " '-',\n",
       " 'textord',\n",
       " '<',\n",
       " 'textord',\n",
       " '\\\\{',\n",
       " ',',\n",
       " 'mathord',\n",
       " '=',\n",
       " '\\\\{',\n",
       " '-',\n",
       " 'textord',\n",
       " ',',\n",
       " 'textord',\n",
       " ',',\n",
       " 'textord',\n",
       " ',',\n",
       " 'textord',\n",
       " '\\\\}',\n",
       " ',',\n",
       " 'mathord',\n",
       " '\\\\cap',\n",
       " 'mathord',\n",
       " '=']"
      ]
     },
     "metadata": {},
     "execution_count": 1
    }
   ],
   "metadata": {
    "collapsed": true
   }
  },
  {
   "cell_type": "code",
   "execution_count": 2,
   "source": [
    "len(sif_items)"
   ],
   "outputs": [
    {
     "output_type": "execute_result",
     "data": {
      "text/plain": [
       "788"
      ]
     },
     "metadata": {},
     "execution_count": 2
    }
   ],
   "metadata": {
    "collapsed": false,
    "pycharm": {
     "name": "#%%\n"
    }
   }
  },
  {
   "cell_type": "code",
   "execution_count": 3,
   "source": [
    "from EduNLP.Pretrain import train_vector"
   ],
   "outputs": [],
   "metadata": {
    "collapsed": false,
    "pycharm": {
     "name": "#%%\n"
    }
   }
  },
  {
   "cell_type": "code",
   "execution_count": 4,
   "source": [
    "# 10 dimension with fasstext method\r\n",
    "train_vector(sif_items, \"../../../data/w2v/gensim_luna_stem_tf_\", 10, method=\"d2v\")"
   ],
   "outputs": [
    {
     "output_type": "stream",
     "name": "stderr",
     "text": [
      "EduNLP, INFO Epoch #0: loss-0.0000 \n",
      "EduNLP, INFO Epoch #1: loss-0.0000 \n",
      "EduNLP, INFO Epoch #2: loss-0.0000 \n",
      "EduNLP, INFO Epoch #3: loss-0.0000 \n",
      "EduNLP, INFO Epoch #4: loss-0.0000 \n",
      "EduNLP, INFO Epoch #5: loss-0.0000 \n",
      "EduNLP, INFO Epoch #6: loss-0.0000 \n",
      "EduNLP, INFO Epoch #7: loss-0.0000 \n",
      "EduNLP, INFO Epoch #8: loss-0.0000 \n",
      "EduNLP, INFO Epoch #9: loss-0.0000 \n",
      "EduNLP, INFO model is saved to ../../../data/w2v/gensim_luna_stem_tf_d2v_10.bin\n"
     ]
    },
    {
     "output_type": "execute_result",
     "data": {
      "text/plain": [
       "'../../../data/w2v/gensim_luna_stem_tf_d2v_10.bin'"
      ]
     },
     "metadata": {},
     "execution_count": 4
    }
   ],
   "metadata": {
    "collapsed": false,
    "pycharm": {
     "name": "#%%\n"
    }
   }
  },
  {
   "cell_type": "code",
   "execution_count": 5,
   "source": [
    "from EduNLP.Vector import D2V\r\n",
    "\r\n",
    "d2v = D2V(\"../../../data/w2v/gensim_luna_stem_tf_d2v_10.bin\")\r\n",
    "d2v(sif_items[0])"
   ],
   "outputs": [
    {
     "output_type": "execute_result",
     "data": {
      "text/plain": [
       "array([-0.16680606, -0.04633714,  0.05006265,  0.2665265 , -0.04968905,\n",
       "        0.00479913,  0.0338746 ,  0.04415674, -0.22469515, -0.00274831],\n",
       "      dtype=float32)"
      ]
     },
     "metadata": {},
     "execution_count": 5
    }
   ],
   "metadata": {
    "collapsed": false,
    "pycharm": {
     "name": "#%%\n"
    }
   }
  }
 ],
 "metadata": {
  "interpreter": {
   "hash": "776957673adb719a00031a24ed5efd2fa5ce8a13405e5193f8d278edd3805d55"
  },
  "kernelspec": {
   "display_name": "Python 3.6.13 64-bit ('data': conda)",
   "name": "python3"
  },
  "language_info": {
   "name": "python",
   "version": ""
  }
 },
 "nbformat": 4,
 "nbformat_minor": 2
}
