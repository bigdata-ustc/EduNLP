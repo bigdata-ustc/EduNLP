{
 "cells": [
  {
   "cell_type": "code",
   "execution_count": 1,
   "metadata": {
    "collapsed": true
   },
   "outputs": [
    {
     "name": "stderr",
     "output_type": "stream",
     "text": [
      "d:\\env\\python3.8\\lib\\site-packages\\gensim\\similarities\\__init__.py:15: UserWarning: The gensim.similarities.levenshtein submodule is disabled, because the optional Levenshtein package <https://pypi.org/project/python-Levenshtein/> is unavailable. Install Levenhstein (e.g. `pip install python-Levenshtein`) to suppress this warning.\n",
      "  warnings.warn(msg)\n",
      "sifing: 792it [00:00, 845.20it/s]\n"
     ]
    },
    {
     "data": {
      "text/plain": "['已知', '集合', '[FORMULA]', '[FORMULA]']"
     },
     "execution_count": 1,
     "metadata": {},
     "output_type": "execute_result"
    }
   ],
   "source": [
    "import json\n",
    "from tqdm import tqdm\n",
    "\n",
    "def load_items():\n",
    "    with open(\"../../../data/OpenLUNA.json\", encoding=\"utf-8\") as f:\n",
    "        for line in f:\n",
    "            yield json.loads(line)\n",
    "\n",
    "from EduNLP.Pretrain import train_vector, GensimWordTokenizer\n",
    "\n",
    "tokenizer = GensimWordTokenizer(symbol=\"fgm\")\n",
    "\n",
    "sif_items = [\n",
    "    tokenizer(item[\"stem\"]).tokens for item in tqdm(load_items(), \"sifing\")\n",
    "]\n",
    "\n",
    "sif_items[0]"
   ]
  },
  {
   "cell_type": "code",
   "execution_count": 2,
   "outputs": [
    {
     "data": {
      "text/plain": "792"
     },
     "execution_count": 2,
     "metadata": {},
     "output_type": "execute_result"
    }
   ],
   "source": [
    "len(sif_items)"
   ],
   "metadata": {
    "collapsed": false,
    "pycharm": {
     "name": "#%%\n"
    }
   }
  },
  {
   "cell_type": "code",
   "execution_count": 3,
   "outputs": [
    {
     "name": "stderr",
     "output_type": "stream",
     "text": [
      "EduNLP, INFO Epoch #0: loss-0.0000 \n",
      "EduNLP, INFO Epoch #1: loss-0.0000 \n",
      "EduNLP, INFO Epoch #2: loss-0.0000 \n",
      "EduNLP, INFO Epoch #3: loss-0.0000 \n",
      "EduNLP, INFO Epoch #4: loss-0.0000 \n",
      "EduNLP, INFO model is saved to ../../../data/w2v/gensim_luna_stem_t_sg_100.kv\n"
     ]
    },
    {
     "data": {
      "text/plain": "'../../../data/w2v/gensim_luna_stem_t_sg_100.kv'"
     },
     "execution_count": 3,
     "metadata": {},
     "output_type": "execute_result"
    }
   ],
   "source": [
    "# 100 dimension with skipgram method\n",
    "train_vector(sif_items, \"../../../data/w2v/gensim_luna_stem_t_\", 100)"
   ],
   "metadata": {
    "collapsed": false,
    "pycharm": {
     "name": "#%%\n"
    }
   }
  },
  {
   "cell_type": "code",
   "execution_count": 4,
   "outputs": [
    {
     "name": "stderr",
     "output_type": "stream",
     "text": [
      "EduNLP, INFO Epoch #0: loss-0.0000 \n",
      "EduNLP, INFO Epoch #1: loss-0.0000 \n",
      "EduNLP, INFO Epoch #2: loss-0.0000 \n",
      "EduNLP, INFO Epoch #3: loss-0.0000 \n",
      "EduNLP, INFO Epoch #4: loss-0.0000 \n",
      "EduNLP, INFO model is saved to ../../../data/w2v/gensim_luna_stem_t_cbow_50.kv\n"
     ]
    },
    {
     "data": {
      "text/plain": "'../../../data/w2v/gensim_luna_stem_t_cbow_50.kv'"
     },
     "execution_count": 4,
     "metadata": {},
     "output_type": "execute_result"
    }
   ],
   "source": [
    "# 50 dimension with cbow method\n",
    "train_vector(sif_items, \"../../../data/w2v/gensim_luna_stem_t_\", 50, method=\"cbow\")"
   ],
   "metadata": {
    "collapsed": false,
    "pycharm": {
     "name": "#%%\n"
    }
   }
  },
  {
   "cell_type": "code",
   "execution_count": 5,
   "outputs": [
    {
     "name": "stderr",
     "output_type": "stream",
     "text": [
      "EduNLP, INFO Epoch #0: loss-0.0000 \n",
      "EduNLP, INFO Epoch #1: loss-0.0000 \n",
      "EduNLP, INFO Epoch #2: loss-0.0000 \n",
      "EduNLP, INFO Epoch #3: loss-0.0000 \n",
      "EduNLP, INFO Epoch #4: loss-0.0000 \n",
      "EduNLP, INFO model is saved to ../../../data/w2v/gensim_luna_stem_t_fasttext_10.bin\n"
     ]
    },
    {
     "data": {
      "text/plain": "'../../../data/w2v/gensim_luna_stem_t_fasttext_10.bin'"
     },
     "execution_count": 5,
     "metadata": {},
     "output_type": "execute_result"
    }
   ],
   "source": [
    "# 10 dimension with fasstext method\n",
    "train_vector(sif_items, \"../../../data/w2v/gensim_luna_stem_t_\", 10, method=\"fasttext\")"
   ],
   "metadata": {
    "collapsed": false,
    "pycharm": {
     "name": "#%%\n"
    }
   }
  },
  {
   "cell_type": "code",
   "execution_count": 6,
   "outputs": [
    {
     "data": {
      "text/plain": "array([-0.16754825,  0.2707899 ,  0.01005908, -0.03040857,  0.10938002,\n       -0.28348687,  0.19054936,  0.41737646, -0.3885515 , -0.14650987,\n        0.1157743 , -0.2406684 , -0.11294927,  0.12082661,  0.1759571 ,\n        0.17807944,  0.07178611, -0.16182491, -0.18266837, -0.52223957,\n       -0.05876796,  0.0450548 ,  0.26906556,  0.02253102,  0.1025768 ,\n        0.29827935, -0.441235  , -0.06949052, -0.22638813, -0.10846554,\n       -0.05917242,  0.12802479,  0.21151058, -0.4611071 , -0.16157094,\n        0.32488874,  0.36630565, -0.36908495,  0.24223483, -0.3510737 ,\n       -0.15079798,  0.10832163,  0.00392658, -0.20019084,  0.18827583,\n       -0.17247967, -0.27385622,  0.17878376,  0.05156241,  0.30575123,\n       -0.16626868,  0.01431947,  0.05540735,  0.03373449,  0.36685058,\n       -0.05511234,  0.09583379, -0.09495933,  0.01121055,  0.18113017,\n        0.29060405,  0.06472825,  0.20568778, -0.02780204, -0.17310621,\n        0.23243082,  0.2480153 ,  0.07856195, -0.03825858,  0.10257348,\n       -0.02105796,  0.4248383 ,  0.03114873, -0.09995517,  0.16022007,\n        0.08843125,  0.06128069, -0.03922344,  0.02587396,  0.03067247,\n        0.1209543 , -0.05948736, -0.25567266,  0.53167033, -0.4149    ,\n        0.08551055,  0.42399153,  0.18317291,  0.12455773, -0.10759205,\n        0.17496923,  0.2781072 ,  0.25744784,  0.1921185 ,  0.43071204,\n        0.09138201, -0.37603223, -0.07436363,  0.2961049 ,  0.02517671],\n      dtype=float32)"
     },
     "execution_count": 6,
     "metadata": {},
     "output_type": "execute_result"
    }
   ],
   "source": [
    "from EduNLP.Vector import W2V\n",
    "\n",
    "w2v = W2V(\"../../../data/w2v/gensim_luna_stem_t_sg_100.kv\")\n",
    "w2v[\"[FORMULA]\"]"
   ],
   "metadata": {
    "collapsed": false,
    "pycharm": {
     "name": "#%%\n"
    }
   }
  }
 ],
 "metadata": {
  "kernelspec": {
   "display_name": "Python 3",
   "language": "python",
   "name": "python3"
  },
  "language_info": {
   "codemirror_mode": {
    "name": "ipython",
    "version": 2
   },
   "file_extension": ".py",
   "mimetype": "text/x-python",
   "name": "python",
   "nbconvert_exporter": "python",
   "pygments_lexer": "ipython2",
   "version": "2.7.6"
  }
 },
 "nbformat": 4,
 "nbformat_minor": 0
}