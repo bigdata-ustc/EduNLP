{
 "cells": [
  {
   "cell_type": "markdown",
   "source": [
    "# w2v_stem_text"
   ],
   "metadata": {}
  },
  {
   "cell_type": "code",
   "execution_count": 1,
   "source": [
    "import json\r\n",
    "from tqdm import tqdm\r\n",
    "\r\n",
    "def load_items():\r\n",
    "    with open(\"../../../data/OpenLUNA.json\", encoding=\"utf-8\") as f:\r\n",
    "        for line in f:\r\n",
    "            yield json.loads(line)\r\n",
    "\r\n",
    "from EduNLP.Pretrain import train_vector, GensimWordTokenizer\r\n",
    "\r\n",
    "tokenizer = GensimWordTokenizer(symbol=\"fgm\")\r\n",
    "\r\n",
    "sif_items = [\r\n",
    "    tokenizer(item[\"stem\"]).tokens for item in tqdm(load_items(), \"sifing\")\r\n",
    "]\r\n",
    "\r\n",
    "sif_items[0]"
   ],
   "outputs": [],
   "metadata": {
    "collapsed": true
   }
  },
  {
   "cell_type": "code",
   "execution_count": 2,
   "source": [
    "len(sif_items)"
   ],
   "outputs": [
    {
     "output_type": "execute_result",
     "data": {
      "text/plain": [
       "792"
      ]
     },
     "metadata": {},
     "execution_count": 2
    }
   ],
   "metadata": {
    "collapsed": false,
    "pycharm": {
     "name": "#%%\n"
    }
   }
  },
  {
   "cell_type": "code",
   "execution_count": 3,
   "source": [
    "# 100 dimension with skipgram method\r\n",
    "train_vector(sif_items, \"../../../data/w2v/gensim_luna_stem_t_\", 100)"
   ],
   "outputs": [
    {
     "output_type": "stream",
     "name": "stderr",
     "text": [
      "EduNLP, INFO Epoch #0: loss-0.0000 \n",
      "EduNLP, INFO Epoch #1: loss-0.0000 \n",
      "EduNLP, INFO Epoch #2: loss-0.0000 \n",
      "EduNLP, INFO Epoch #3: loss-0.0000 \n",
      "EduNLP, INFO Epoch #4: loss-0.0000 \n",
      "EduNLP, INFO model is saved to ../../../data/w2v/gensim_luna_stem_t_sg_100.kv\n"
     ]
    },
    {
     "output_type": "execute_result",
     "data": {
      "text/plain": [
       "'../../../data/w2v/gensim_luna_stem_t_sg_100.kv'"
      ]
     },
     "metadata": {},
     "execution_count": 3
    }
   ],
   "metadata": {
    "collapsed": false,
    "pycharm": {
     "name": "#%%\n"
    }
   }
  },
  {
   "cell_type": "code",
   "execution_count": 4,
   "source": [
    "# 50 dimension with cbow method\r\n",
    "train_vector(sif_items, \"../../../data/w2v/gensim_luna_stem_t_\", 50, method=\"cbow\")"
   ],
   "outputs": [
    {
     "output_type": "stream",
     "name": "stderr",
     "text": [
      "EduNLP, INFO Epoch #0: loss-0.0000 \n",
      "EduNLP, INFO Epoch #1: loss-0.0000 \n",
      "EduNLP, INFO Epoch #2: loss-0.0000 \n",
      "EduNLP, INFO Epoch #3: loss-0.0000 \n",
      "EduNLP, INFO Epoch #4: loss-0.0000 \n",
      "EduNLP, INFO model is saved to ../../../data/w2v/gensim_luna_stem_t_cbow_50.kv\n"
     ]
    },
    {
     "output_type": "execute_result",
     "data": {
      "text/plain": [
       "'../../../data/w2v/gensim_luna_stem_t_cbow_50.kv'"
      ]
     },
     "metadata": {},
     "execution_count": 4
    }
   ],
   "metadata": {
    "collapsed": false,
    "pycharm": {
     "name": "#%%\n"
    }
   }
  },
  {
   "cell_type": "code",
   "execution_count": 5,
   "source": [
    "# 10 dimension with fasstext method\n",
    "train_vector(sif_items, \"../../../data/w2v/gensim_luna_stem_t_\", 10, method=\"fasttext\")"
   ],
   "outputs": [
    {
     "output_type": "stream",
     "name": "stderr",
     "text": [
      "EduNLP, INFO Epoch #0: loss-0.0000 \n",
      "EduNLP, INFO Epoch #1: loss-0.0000 \n",
      "EduNLP, INFO Epoch #2: loss-0.0000 \n",
      "EduNLP, INFO Epoch #3: loss-0.0000 \n",
      "EduNLP, INFO Epoch #4: loss-0.0000 \n",
      "EduNLP, INFO model is saved to ../../../data/w2v/gensim_luna_stem_t_fasttext_10.bin\n"
     ]
    },
    {
     "output_type": "execute_result",
     "data": {
      "text/plain": [
       "'../../../data/w2v/gensim_luna_stem_t_fasttext_10.bin'"
      ]
     },
     "metadata": {},
     "execution_count": 5
    }
   ],
   "metadata": {
    "collapsed": false,
    "pycharm": {
     "name": "#%%\n"
    }
   }
  },
  {
   "cell_type": "code",
   "execution_count": 6,
   "source": [
    "from EduNLP.Vector import W2V\n",
    "\n",
    "w2v = W2V(\"../../../data/w2v/gensim_luna_stem_t_sg_100.kv\")\n",
    "w2v[\"[FORMULA]\"]"
   ],
   "outputs": [
    {
     "output_type": "execute_result",
     "data": {
      "text/plain": [
       "array([-0.16754825,  0.2707899 ,  0.01005908, -0.03040857,  0.10938002,\n",
       "       -0.28348687,  0.19054936,  0.41737646, -0.3885515 , -0.14650987,\n",
       "        0.1157743 , -0.2406684 , -0.11294927,  0.12082661,  0.1759571 ,\n",
       "        0.17807944,  0.07178611, -0.16182491, -0.18266837, -0.52223957,\n",
       "       -0.05876796,  0.0450548 ,  0.26906556,  0.02253102,  0.1025768 ,\n",
       "        0.29827935, -0.441235  , -0.06949052, -0.22638813, -0.10846554,\n",
       "       -0.05917242,  0.12802479,  0.21151058, -0.4611071 , -0.16157094,\n",
       "        0.32488874,  0.36630565, -0.36908495,  0.24223483, -0.3510737 ,\n",
       "       -0.15079798,  0.10832163,  0.00392658, -0.20019084,  0.18827583,\n",
       "       -0.17247967, -0.27385622,  0.17878376,  0.05156241,  0.30575123,\n",
       "       -0.16626868,  0.01431947,  0.05540735,  0.03373449,  0.36685058,\n",
       "       -0.05511234,  0.09583379, -0.09495933,  0.01121055,  0.18113017,\n",
       "        0.29060405,  0.06472825,  0.20568778, -0.02780204, -0.17310621,\n",
       "        0.23243082,  0.2480153 ,  0.07856195, -0.03825858,  0.10257348,\n",
       "       -0.02105796,  0.4248383 ,  0.03114873, -0.09995517,  0.16022007,\n",
       "        0.08843125,  0.06128069, -0.03922344,  0.02587396,  0.03067247,\n",
       "        0.1209543 , -0.05948736, -0.25567266,  0.53167033, -0.4149    ,\n",
       "        0.08551055,  0.42399153,  0.18317291,  0.12455773, -0.10759205,\n",
       "        0.17496923,  0.2781072 ,  0.25744784,  0.1921185 ,  0.43071204,\n",
       "        0.09138201, -0.37603223, -0.07436363,  0.2961049 ,  0.02517671],\n",
       "      dtype=float32)"
      ]
     },
     "metadata": {},
     "execution_count": 6
    }
   ],
   "metadata": {
    "collapsed": false,
    "pycharm": {
     "name": "#%%\n"
    }
   }
  }
 ],
 "metadata": {
  "kernelspec": {
   "name": "python3",
   "display_name": "Python 3.8.5 64-bit"
  },
  "language_info": {
   "name": "python",
   "version": "3.8.5",
   "mimetype": "text/x-python",
   "codemirror_mode": {
    "name": "ipython",
    "version": 3
   },
   "pygments_lexer": "ipython3",
   "nbconvert_exporter": "python",
   "file_extension": ".py"
  },
  "interpreter": {
   "hash": "e7370f93d1d0cde622a1f8e1c04877d8463912d04d973331ad4851f04de6915a"
  }
 },
 "nbformat": 4,
 "nbformat_minor": 2
}