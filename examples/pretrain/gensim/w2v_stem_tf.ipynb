{
 "cells": [
  {
   "cell_type": "markdown",
   "source": [
    "# w2v_stem_tf"
   ],
   "metadata": {}
  },
  {
   "cell_type": "code",
   "execution_count": 1,
   "source": [
    "import json\r\n",
    "from tqdm import tqdm\r\n",
    "\r\n",
    "def load_items():\r\n",
    "    with open(\"../../../data/OpenLUNA.json\", encoding=\"utf-8\") as f:\r\n",
    "        for line in f:\r\n",
    "            yield json.loads(line)\r\n",
    "\r\n",
    "\r\n",
    "from EduNLP.Pretrain import GensimWordTokenizer\r\n",
    "\r\n",
    "tokenizer = GensimWordTokenizer(symbol=\"gm\")\r\n",
    "sif_items = []\r\n",
    "for item in tqdm(load_items(), \"sifing\"):\r\n",
    "    sif_item = tokenizer(\r\n",
    "        item[\"stem\"]\r\n",
    "    )\r\n",
    "    if sif_item:\r\n",
    "        sif_items.append(sif_item.tokens)\r\n",
    "\r\n",
    "sif_items[0]"
   ],
   "outputs": [
    {
     "output_type": "stream",
     "name": "stderr",
     "text": [
      "d:\\env\\python3.8\\lib\\site-packages\\gensim\\similarities\\__init__.py:15: UserWarning: The gensim.similarities.levenshtein submodule is disabled, because the optional Levenshtein package <https://pypi.org/project/python-Levenshtein/> is unavailable. Install Levenhstein (e.g. `pip install python-Levenshtein`) to suppress this warning.\n",
      "  warnings.warn(msg)\n",
      "sifing: 792it [00:42, 18.83it/s]\n"
     ]
    },
    {
     "output_type": "stream",
     "name": "stdout",
     "text": [
      "'LaTeX-incompatible input and strict mode is set to \\'warn\\': Unrecognized Unicode character \"①\" (9312) [unknownSymbol]'\n",
      "'LaTeX-incompatible input and strict mode is set to \\'warn\\': Unrecognized Unicode character \"②\" (9313) [unknownSymbol]'\n",
      "'LaTeX-incompatible input and strict mode is set to \\'warn\\': Unrecognized Unicode character \"③\" (9314) [unknownSymbol]'\n",
      "'LaTeX-incompatible input and strict mode is set to \\'warn\\': Unrecognized Unicode character \"④\" (9315) [unknownSymbol]'\n",
      "'LaTeX-incompatible input and strict mode is set to \\'warn\\': Unicode text character \"，\" used in math mode [unicodeTextInMathMode]'\n",
      "'LaTeX-incompatible input and strict mode is set to \\'warn\\': Unicode text character \"，\" used in math mode [unicodeTextInMathMode]'\n",
      "'LaTeX-incompatible input and strict mode is set to \\'warn\\': Unicode text character \"：\" used in math mode [unicodeTextInMathMode]'\n",
      "'LaTeX-incompatible input and strict mode is set to \\'warn\\': Unicode text character \"二\" used in math mode [unicodeTextInMathMode]'\n",
      "'LaTeX-incompatible input and strict mode is set to \\'warn\\': Unicode text character \"项\" used in math mode [unicodeTextInMathMode]'\n",
      "'LaTeX-incompatible input and strict mode is set to \\'warn\\': Unicode text character \"式\" used in math mode [unicodeTextInMathMode]'\n",
      "\"LaTeX-incompatible input and strict mode is set to 'warn': Too few columns specified in the {array} column argument. [textEnv]\"\n",
      "'LaTeX-incompatible input and strict mode is set to \\'warn\\': Unicode text character \"，\" used in math mode [unicodeTextInMathMode]'\n",
      "'LaTeX-incompatible input and strict mode is set to \\'warn\\': Unicode text character \"，\" used in math mode [unicodeTextInMathMode]'\n",
      "'LaTeX-incompatible input and strict mode is set to \\'warn\\': Unicode text character \"，\" used in math mode [unicodeTextInMathMode]'\n",
      "'LaTeX-incompatible input and strict mode is set to \\'warn\\': Unicode text character \"，\" used in math mode [unicodeTextInMathMode]'\n",
      "'LaTeX-incompatible input and strict mode is set to \\'warn\\': Unicode text character \"，\" used in math mode [unicodeTextInMathMode]'\n",
      "'LaTeX-incompatible input and strict mode is set to \\'warn\\': Unicode text character \"＞\" used in math mode [unicodeTextInMathMode]'\n",
      "'LaTeX-incompatible input and strict mode is set to \\'warn\\': Unicode text character \"（\" used in math mode [unicodeTextInMathMode]'\n",
      "'LaTeX-incompatible input and strict mode is set to \\'warn\\': Unicode text character \"，\" used in math mode [unicodeTextInMathMode]'\n",
      "'LaTeX-incompatible input and strict mode is set to \\'warn\\': Unicode text character \"）\" used in math mode [unicodeTextInMathMode]'\n",
      "'LaTeX-incompatible input and strict mode is set to \\'warn\\': Unicode text character \"，\" used in math mode [unicodeTextInMathMode]'\n",
      "'LaTeX-incompatible input and strict mode is set to \\'warn\\': Unicode text character \"，\" used in math mode [unicodeTextInMathMode]'\n",
      "'LaTeX-incompatible input and strict mode is set to \\'warn\\': Unicode text character \"，\" used in math mode [unicodeTextInMathMode]'\n",
      "'LaTeX-incompatible input and strict mode is set to \\'warn\\': Unicode text character \"，\" used in math mode [unicodeTextInMathMode]'\n",
      "'LaTeX-incompatible input and strict mode is set to \\'warn\\': Unicode text character \"，\" used in math mode [unicodeTextInMathMode]'\n",
      "'LaTeX-incompatible input and strict mode is set to \\'warn\\': Unicode text character \"，\" used in math mode [unicodeTextInMathMode]'\n",
      "'LaTeX-incompatible input and strict mode is set to \\'warn\\': Unicode text character \"，\" used in math mode [unicodeTextInMathMode]'\n",
      "'LaTeX-incompatible input and strict mode is set to \\'warn\\': Unicode text character \"，\" used in math mode [unicodeTextInMathMode]'\n",
      "'LaTeX-incompatible input and strict mode is set to \\'warn\\': Unicode text character \"，\" used in math mode [unicodeTextInMathMode]'\n",
      "'LaTeX-incompatible input and strict mode is set to \\'warn\\': Unicode text character \"，\" used in math mode [unicodeTextInMathMode]'\n",
      "'LaTeX-incompatible input and strict mode is set to \\'warn\\': Unicode text character \"（\" used in math mode [unicodeTextInMathMode]'\n",
      "'LaTeX-incompatible input and strict mode is set to \\'warn\\': Unicode text character \"，\" used in math mode [unicodeTextInMathMode]'\n",
      "'LaTeX-incompatible input and strict mode is set to \\'warn\\': Unicode text character \"）\" used in math mode [unicodeTextInMathMode]'\n",
      "'LaTeX-incompatible input and strict mode is set to \\'warn\\': Unicode text character \"：\" used in math mode [unicodeTextInMathMode]'\n",
      "'LaTeX-incompatible input and strict mode is set to \\'warn\\': Unicode text character \"，\" used in math mode [unicodeTextInMathMode]'\n",
      "'LaTeX-incompatible input and strict mode is set to \\'warn\\': Unrecognized Unicode character \"﹣\" (65123) [unknownSymbol]'\n",
      "'LaTeX-incompatible input and strict mode is set to \\'warn\\': Unicode text character \"，\" used in math mode [unicodeTextInMathMode]'\n",
      "'LaTeX-incompatible input and strict mode is set to \\'warn\\': Unicode text character \"（\" used in math mode [unicodeTextInMathMode]'\n",
      "'LaTeX-incompatible input and strict mode is set to \\'warn\\': Unicode text character \"，\" used in math mode [unicodeTextInMathMode]'\n",
      "'LaTeX-incompatible input and strict mode is set to \\'warn\\': Unicode text character \"）\" used in math mode [unicodeTextInMathMode]'\n",
      "\"LaTeX-incompatible input and strict mode is set to 'warn': Too few columns specified in the {array} column argument. [textEnv]\"\n",
      "'LaTeX-incompatible input and strict mode is set to \\'warn\\': Unicode text character \"，\" used in math mode [unicodeTextInMathMode]'\n",
      "'LaTeX-incompatible input and strict mode is set to \\'warn\\': Unicode text character \"，\" used in math mode [unicodeTextInMathMode]'\n",
      "'LaTeX-incompatible input and strict mode is set to \\'warn\\': Unicode text character \"，\" used in math mode [unicodeTextInMathMode]'\n",
      "'LaTeX-incompatible input and strict mode is set to \\'warn\\': Unicode text character \"，\" used in math mode [unicodeTextInMathMode]'\n",
      "'LaTeX-incompatible input and strict mode is set to \\'warn\\': Unicode text character \"＞\" used in math mode [unicodeTextInMathMode]'\n",
      "'LaTeX-incompatible input and strict mode is set to \\'warn\\': Unicode text character \"，\" used in math mode [unicodeTextInMathMode]'\n",
      "'LaTeX-incompatible input and strict mode is set to \\'warn\\': Unicode text character \"，\" used in math mode [unicodeTextInMathMode]'\n",
      "'LaTeX-incompatible input and strict mode is set to \\'warn\\': Unicode text character \"，\" used in math mode [unicodeTextInMathMode]'\n",
      "'LaTeX-incompatible input and strict mode is set to \\'warn\\': Unicode text character \"，\" used in math mode [unicodeTextInMathMode]'\n",
      "'LaTeX-incompatible input and strict mode is set to \\'warn\\': Unicode text character \"，\" used in math mode [unicodeTextInMathMode]'\n",
      "'LaTeX-incompatible input and strict mode is set to \\'warn\\': Unicode text character \"，\" used in math mode [unicodeTextInMathMode]'\n",
      "'LaTeX-incompatible input and strict mode is set to \\'warn\\': Unicode text character \"，\" used in math mode [unicodeTextInMathMode]'\n",
      "'LaTeX-incompatible input and strict mode is set to \\'warn\\': Unicode text character \"，\" used in math mode [unicodeTextInMathMode]'\n",
      "'LaTeX-incompatible input and strict mode is set to \\'warn\\': Unicode text character \"，\" used in math mode [unicodeTextInMathMode]'\n",
      "'LaTeX-incompatible input and strict mode is set to \\'warn\\': Unicode text character \"，\" used in math mode [unicodeTextInMathMode]'\n",
      "'LaTeX-incompatible input and strict mode is set to \\'warn\\': Unicode text character \"，\" used in math mode [unicodeTextInMathMode]'\n",
      "'LaTeX-incompatible input and strict mode is set to \\'warn\\': Unrecognized Unicode character \"﹣\" (65123) [unknownSymbol]'\n",
      "'LaTeX-incompatible input and strict mode is set to \\'warn\\': Unicode text character \"，\" used in math mode [unicodeTextInMathMode]'\n",
      "'LaTeX-incompatible input and strict mode is set to \\'warn\\': Unicode text character \"，\" used in math mode [unicodeTextInMathMode]'\n",
      "'LaTeX-incompatible input and strict mode is set to \\'warn\\': Unicode text character \"，\" used in math mode [unicodeTextInMathMode]'\n",
      "'LaTeX-incompatible input and strict mode is set to \\'warn\\': Unrecognized Unicode character \"﹣\" (65123) [unknownSymbol]'\n",
      "'LaTeX-incompatible input and strict mode is set to \\'warn\\': Unrecognized Unicode character \"﹣\" (65123) [unknownSymbol]'\n",
      "'LaTeX-incompatible input and strict mode is set to \\'warn\\': Unicode text character \"，\" used in math mode [unicodeTextInMathMode]'\n",
      "'LaTeX-incompatible input and strict mode is set to \\'warn\\': Unicode text character \"，\" used in math mode [unicodeTextInMathMode]'\n",
      "'LaTeX-incompatible input and strict mode is set to \\'warn\\': Unicode text character \"，\" used in math mode [unicodeTextInMathMode]'\n",
      "'LaTeX-incompatible input and strict mode is set to \\'warn\\': Unicode text character \"，\" used in math mode [unicodeTextInMathMode]'\n",
      "'LaTeX-incompatible input and strict mode is set to \\'warn\\': Unicode text character \"，\" used in math mode [unicodeTextInMathMode]'\n",
      "'LaTeX-incompatible input and strict mode is set to \\'warn\\': Unicode text character \"，\" used in math mode [unicodeTextInMathMode]'\n",
      "'LaTeX-incompatible input and strict mode is set to \\'warn\\': Unicode text character \"，\" used in math mode [unicodeTextInMathMode]'\n",
      "\"LaTeX-incompatible input and strict mode is set to 'warn': Too few columns specified in the {array} column argument. [textEnv]\"\n",
      "'LaTeX-incompatible input and strict mode is set to \\'warn\\': Unicode text character \"，\" used in math mode [unicodeTextInMathMode]'\n",
      "'LaTeX-incompatible input and strict mode is set to \\'warn\\': Unicode text character \"）\" used in math mode [unicodeTextInMathMode]'\n",
      "'LaTeX-incompatible input and strict mode is set to \\'warn\\': Unrecognized Unicode character \"﹣\" (65123) [unknownSymbol]'\n",
      "'LaTeX-incompatible input and strict mode is set to \\'warn\\': Unicode text character \"，\" used in math mode [unicodeTextInMathMode]'\n",
      "'LaTeX-incompatible input and strict mode is set to \\'warn\\': Unicode text character \"＜\" used in math mode [unicodeTextInMathMode]'\n",
      "'LaTeX-incompatible input and strict mode is set to \\'warn\\': Unicode text character \"，\" used in math mode [unicodeTextInMathMode]'\n",
      "'LaTeX-incompatible input and strict mode is set to \\'warn\\': Unicode text character \"：\" used in math mode [unicodeTextInMathMode]'\n",
      "'LaTeX-incompatible input and strict mode is set to \\'warn\\': Unicode text character \"，\" used in math mode [unicodeTextInMathMode]'\n",
      "'LaTeX-incompatible input and strict mode is set to \\'warn\\': Unicode text character \"，\" used in math mode [unicodeTextInMathMode]'\n",
      "'LaTeX-incompatible input and strict mode is set to \\'warn\\': Unicode text character \"＞\" used in math mode [unicodeTextInMathMode]'\n",
      "'LaTeX-incompatible input and strict mode is set to \\'warn\\': Unicode text character \"，\" used in math mode [unicodeTextInMathMode]'\n",
      "'LaTeX-incompatible input and strict mode is set to \\'warn\\': Unicode text character \"（\" used in math mode [unicodeTextInMathMode]'\n",
      "'LaTeX-incompatible input and strict mode is set to \\'warn\\': Unicode text character \"，\" used in math mode [unicodeTextInMathMode]'\n",
      "'LaTeX-incompatible input and strict mode is set to \\'warn\\': Unicode text character \"，\" used in math mode [unicodeTextInMathMode]'\n",
      "'LaTeX-incompatible input and strict mode is set to \\'warn\\': Unicode text character \"，\" used in math mode [unicodeTextInMathMode]'\n",
      "'LaTeX-incompatible input and strict mode is set to \\'warn\\': Unicode text character \"）\" used in math mode [unicodeTextInMathMode]'\n",
      "'LaTeX-incompatible input and strict mode is set to \\'warn\\': Unicode text character \"，\" used in math mode [unicodeTextInMathMode]'\n",
      "'LaTeX-incompatible input and strict mode is set to \\'warn\\': Unicode text character \"，\" used in math mode [unicodeTextInMathMode]'\n",
      "'LaTeX-incompatible input and strict mode is set to \\'warn\\': Unicode text character \"：\" used in math mode [unicodeTextInMathMode]'\n",
      "'LaTeX-incompatible input and strict mode is set to \\'warn\\': Unicode text character \"：\" used in math mode [unicodeTextInMathMode]'\n",
      "'LaTeX-incompatible input and strict mode is set to \\'warn\\': Unicode text character \"＞\" used in math mode [unicodeTextInMathMode]'\n",
      "'LaTeX-incompatible input and strict mode is set to \\'warn\\': Unicode text character \"：\" used in math mode [unicodeTextInMathMode]'\n",
      "'LaTeX-incompatible input and strict mode is set to \\'warn\\': Unicode text character \"，\" used in math mode [unicodeTextInMathMode]'\n",
      "'LaTeX-incompatible input and strict mode is set to \\'warn\\': Unicode text character \"则\" used in math mode [unicodeTextInMathMode]'\n",
      "'LaTeX-incompatible input and strict mode is set to \\'warn\\': Unicode text character \"所\" used in math mode [unicodeTextInMathMode]'\n",
      "'LaTeX-incompatible input and strict mode is set to \\'warn\\': Unicode text character \"成\" used in math mode [unicodeTextInMathMode]'\n",
      "'LaTeX-incompatible input and strict mode is set to \\'warn\\': Unicode text character \"角\" used in math mode [unicodeTextInMathMode]'\n",
      "'LaTeX-incompatible input and strict mode is set to \\'warn\\': Unicode text character \"的\" used in math mode [unicodeTextInMathMode]'\n",
      "'LaTeX-incompatible input and strict mode is set to \\'warn\\': Unicode text character \"正\" used in math mode [unicodeTextInMathMode]'\n",
      "'LaTeX-incompatible input and strict mode is set to \\'warn\\': Unicode text character \"弦\" used in math mode [unicodeTextInMathMode]'\n",
      "'LaTeX-incompatible input and strict mode is set to \\'warn\\': Unicode text character \"值\" used in math mode [unicodeTextInMathMode]'\n",
      "'LaTeX-incompatible input and strict mode is set to \\'warn\\': Unicode text character \"为\" used in math mode [unicodeTextInMathMode]'\n",
      "'LaTeX-incompatible input and strict mode is set to \\'warn\\': Unicode text character \"，\" used in math mode [unicodeTextInMathMode]'\n",
      "'LaTeX-incompatible input and strict mode is set to \\'warn\\': Unicode text character \"，\" used in math mode [unicodeTextInMathMode]'\n",
      "'LaTeX-incompatible input and strict mode is set to \\'warn\\': Unicode text character \"则\" used in math mode [unicodeTextInMathMode]'\n",
      "'LaTeX-incompatible input and strict mode is set to \\'warn\\': Unicode text character \"四\" used in math mode [unicodeTextInMathMode]'\n",
      "'LaTeX-incompatible input and strict mode is set to \\'warn\\': Unicode text character \"点\" used in math mode [unicodeTextInMathMode]'\n",
      "\"LaTeX-incompatible input and strict mode is set to 'warn': Too few columns specified in the {array} column argument. [textEnv]\"\n",
      "'LaTeX-incompatible input and strict mode is set to \\'warn\\': Unicode text character \"，\" used in math mode [unicodeTextInMathMode]'\n",
      "'LaTeX-incompatible input and strict mode is set to \\'warn\\': Unicode text character \"，\" used in math mode [unicodeTextInMathMode]'\n",
      "'LaTeX-incompatible input and strict mode is set to \\'warn\\': Unicode text character \"，\" used in math mode [unicodeTextInMathMode]'\n",
      "'LaTeX-incompatible input and strict mode is set to \\'warn\\': Unicode text character \"，\" used in math mode [unicodeTextInMathMode]'\n",
      "'LaTeX-incompatible input and strict mode is set to \\'warn\\': Unicode text character \"，\" used in math mode [unicodeTextInMathMode]'\n",
      "'LaTeX-incompatible input and strict mode is set to \\'warn\\': Unicode text character \"，\" used in math mode [unicodeTextInMathMode]'\n",
      "'LaTeX-incompatible input and strict mode is set to \\'warn\\': Unicode text character \"，\" used in math mode [unicodeTextInMathMode]'\n",
      "'LaTeX-incompatible input and strict mode is set to \\'warn\\': Unicode text character \"，\" used in math mode [unicodeTextInMathMode]'\n",
      "'LaTeX-incompatible input and strict mode is set to \\'warn\\': Unicode text character \"，\" used in math mode [unicodeTextInMathMode]'\n",
      "'LaTeX-incompatible input and strict mode is set to \\'warn\\': Unicode text character \"，\" used in math mode [unicodeTextInMathMode]'\n",
      "'LaTeX-incompatible input and strict mode is set to \\'warn\\': Unicode text character \"，\" used in math mode [unicodeTextInMathMode]'\n",
      "'LaTeX-incompatible input and strict mode is set to \\'warn\\': Unicode text character \"，\" used in math mode [unicodeTextInMathMode]'\n",
      "\"LaTeX-incompatible input and strict mode is set to 'warn': Too few columns specified in the {array} column argument. [textEnv]\"\n",
      "'LaTeX-incompatible input and strict mode is set to \\'warn\\': Unicode text character \"（\" used in math mode [unicodeTextInMathMode]'\n",
      "'LaTeX-incompatible input and strict mode is set to \\'warn\\': Unicode text character \"）\" used in math mode [unicodeTextInMathMode]'\n",
      "'LaTeX-incompatible input and strict mode is set to \\'warn\\': Unicode text character \"，\" used in math mode [unicodeTextInMathMode]'\n",
      "\"LaTeX-incompatible input and strict mode is set to 'warn': Too few columns specified in the {array} column argument. [textEnv]\"\n",
      "'LaTeX-incompatible input and strict mode is set to \\'warn\\': Unicode text character \"＞\" used in math mode [unicodeTextInMathMode]'\n",
      "'LaTeX-incompatible input and strict mode is set to \\'warn\\': Unicode text character \"，\" used in math mode [unicodeTextInMathMode]'\n",
      "'LaTeX-incompatible input and strict mode is set to \\'warn\\': Unicode text character \"，\" used in math mode [unicodeTextInMathMode]'\n",
      "'LaTeX-incompatible input and strict mode is set to \\'warn\\': Unicode text character \"，\" used in math mode [unicodeTextInMathMode]'\n",
      "'LaTeX-incompatible input and strict mode is set to \\'warn\\': Unicode text character \"＞\" used in math mode [unicodeTextInMathMode]'\n",
      "'LaTeX-incompatible input and strict mode is set to \\'warn\\': Unicode text character \"＞\" used in math mode [unicodeTextInMathMode]'\n",
      "'LaTeX-incompatible input and strict mode is set to \\'warn\\': Unicode text character \"＞\" used in math mode [unicodeTextInMathMode]'\n",
      "'LaTeX-incompatible input and strict mode is set to \\'warn\\': Unicode text character \"＜\" used in math mode [unicodeTextInMathMode]'\n",
      "'LaTeX-incompatible input and strict mode is set to \\'warn\\': Unicode text character \"＜\" used in math mode [unicodeTextInMathMode]'\n"
     ]
    },
    {
     "output_type": "execute_result",
     "data": {
      "text/plain": [
       "['埃及',\n",
       " '胡夫',\n",
       " '金字塔',\n",
       " '古代',\n",
       " '世界',\n",
       " '建筑',\n",
       " '奇迹',\n",
       " '形状',\n",
       " '视为',\n",
       " '正四',\n",
       " '棱锥',\n",
       " '以该',\n",
       " '四',\n",
       " '棱锥',\n",
       " '高为',\n",
       " '边长',\n",
       " '正方形',\n",
       " '面积',\n",
       " '等于',\n",
       " '四',\n",
       " '棱锥',\n",
       " '侧面',\n",
       " '三角形',\n",
       " '面积',\n",
       " '侧面',\n",
       " '三角形',\n",
       " '底边',\n",
       " '高',\n",
       " '底面',\n",
       " '正方形',\n",
       " '边长',\n",
       " '比值',\n",
       " '[FIGURE]',\n",
       " '[FIGURE]',\n",
       " '[FIGURE]',\n",
       " '[FIGURE]',\n",
       " '[FIGURE]']"
      ]
     },
     "metadata": {},
     "execution_count": 1
    }
   ],
   "metadata": {
    "collapsed": true
   }
  },
  {
   "cell_type": "code",
   "execution_count": 3,
   "source": [
    "len(sif_items)"
   ],
   "outputs": [
    {
     "output_type": "execute_result",
     "data": {
      "text/plain": [
       "792"
      ]
     },
     "metadata": {},
     "execution_count": 3
    }
   ],
   "metadata": {
    "collapsed": false,
    "pycharm": {
     "name": "#%%\n"
    }
   }
  },
  {
   "cell_type": "code",
   "execution_count": 4,
   "source": [
    "from EduNLP.Pretrain import train_vector"
   ],
   "outputs": [],
   "metadata": {
    "collapsed": false,
    "pycharm": {
     "name": "#%%\n"
    }
   }
  },
  {
   "cell_type": "code",
   "execution_count": 5,
   "source": [
    "# 100 dimension with skipgram method\r\n",
    "train_vector(sif_items, \"../../../data/w2v/gensim_luna_stem_tf_\", 100)"
   ],
   "outputs": [
    {
     "output_type": "stream",
     "name": "stderr",
     "text": [
      "EduNLP, INFO Epoch #0: loss-0.0000 \n",
      "EduNLP, INFO Epoch #1: loss-0.0000 \n",
      "EduNLP, INFO Epoch #2: loss-0.0000 \n",
      "EduNLP, INFO Epoch #3: loss-0.0000 \n",
      "EduNLP, INFO Epoch #4: loss-0.0000 \n",
      "EduNLP, INFO model is saved to ../../../data/w2v/gensim_luna_stem_tf_sg_100.kv\n"
     ]
    },
    {
     "output_type": "execute_result",
     "data": {
      "text/plain": [
       "'../../../data/w2v/gensim_luna_stem_tf_sg_100.kv'"
      ]
     },
     "metadata": {},
     "execution_count": 5
    }
   ],
   "metadata": {
    "collapsed": false,
    "pycharm": {
     "name": "#%%\n"
    }
   }
  },
  {
   "cell_type": "code",
   "execution_count": 6,
   "source": [
    "# 50 dimension with cbow method\r\n",
    "train_vector(sif_items, \"../../../data/w2v/gensim_luna_stem_tf_\", 50, method=\"cbow\")"
   ],
   "outputs": [
    {
     "output_type": "stream",
     "name": "stderr",
     "text": [
      "EduNLP, INFO Epoch #0: loss-0.0000 \n",
      "EduNLP, INFO Epoch #1: loss-0.0000 \n",
      "EduNLP, INFO Epoch #2: loss-0.0000 \n",
      "EduNLP, INFO Epoch #3: loss-0.0000 \n",
      "EduNLP, INFO Epoch #4: loss-0.0000 \n",
      "EduNLP, INFO model is saved to ../../../data/w2v/gensim_luna_stem_tf_cbow_50.kv\n"
     ]
    },
    {
     "output_type": "execute_result",
     "data": {
      "text/plain": [
       "'../../../data/w2v/gensim_luna_stem_tf_cbow_50.kv'"
      ]
     },
     "metadata": {},
     "execution_count": 6
    }
   ],
   "metadata": {
    "collapsed": false,
    "pycharm": {
     "name": "#%%\n"
    }
   }
  },
  {
   "cell_type": "code",
   "execution_count": 7,
   "source": [
    "# 10 dimension with fasstext method\r\n",
    "train_vector(sif_items, \"../../../data/w2v/gensim_luna_stem_tf_\", 10, method=\"fasttext\")"
   ],
   "outputs": [
    {
     "output_type": "stream",
     "name": "stderr",
     "text": [
      "EduNLP, INFO Epoch #0: loss-0.0000 \n",
      "EduNLP, INFO Epoch #1: loss-0.0000 \n",
      "EduNLP, INFO Epoch #2: loss-0.0000 \n",
      "EduNLP, INFO Epoch #3: loss-0.0000 \n",
      "EduNLP, INFO Epoch #4: loss-0.0000 \n",
      "EduNLP, INFO model is saved to ../../../data/w2v/gensim_luna_stem_tf_fasttext_10.bin\n"
     ]
    },
    {
     "output_type": "execute_result",
     "data": {
      "text/plain": [
       "'../../../data/w2v/gensim_luna_stem_tf_fasttext_10.bin'"
      ]
     },
     "metadata": {},
     "execution_count": 7
    }
   ],
   "metadata": {
    "collapsed": false,
    "pycharm": {
     "name": "#%%\n"
    }
   }
  },
  {
   "cell_type": "code",
   "execution_count": 8,
   "source": [
    "from EduNLP.Vector import W2V\n",
    "\n",
    "w2v = W2V(\"../../../data/w2v/gensim_luna_stem_tf_fasttext_10.bin\", method=\"fasttext\")\n",
    "w2v[\"[FIGURE]\"]"
   ],
   "outputs": [
    {
     "output_type": "execute_result",
     "data": {
      "text/plain": [
       "array([ 0.3322667 , -0.701586  , -0.6528301 , -0.02556002,  0.44070247,\n",
       "        0.44261315,  0.54466563,  0.8991576 , -1.0600986 ,  0.19438864],\n",
       "      dtype=float32)"
      ]
     },
     "metadata": {},
     "execution_count": 8
    }
   ],
   "metadata": {
    "collapsed": false,
    "pycharm": {
     "name": "#%%\n"
    }
   }
  }
 ],
 "metadata": {
  "kernelspec": {
   "display_name": "Python 3",
   "language": "python",
   "name": "python3"
  },
  "language_info": {
   "codemirror_mode": {
    "name": "ipython",
    "version": 2
   },
   "file_extension": ".py",
   "mimetype": "text/x-python",
   "name": "python",
   "nbconvert_exporter": "python",
   "pygments_lexer": "ipython2",
   "version": "2.7.6"
  }
 },
 "nbformat": 4,
 "nbformat_minor": 2
}
