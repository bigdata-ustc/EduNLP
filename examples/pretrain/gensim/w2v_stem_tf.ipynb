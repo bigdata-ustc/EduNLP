{
 "cells": [
  {
   "cell_type": "code",
   "execution_count": 1,
   "metadata": {
    "collapsed": true
   },
   "outputs": [
    {
     "name": "stderr",
     "output_type": "stream",
     "text": [
      "d:\\env\\python3.8\\lib\\site-packages\\gensim\\similarities\\__init__.py:15: UserWarning: The gensim.similarities.levenshtein submodule is disabled, because the optional Levenshtein package <https://pypi.org/project/python-Levenshtein/> is unavailable. Install Levenhstein (e.g. `pip install python-Levenshtein`) to suppress this warning.\n",
      "  warnings.warn(msg)\n",
      "sifing: 792it [00:42, 18.83it/s]\n"
     ]
    },
    {
     "name": "stdout",
     "output_type": "stream",
     "text": [
      "'LaTeX-incompatible input and strict mode is set to \\'warn\\': Unrecognized Unicode character \"①\" (9312) [unknownSymbol]'\n",
      "'LaTeX-incompatible input and strict mode is set to \\'warn\\': Unrecognized Unicode character \"②\" (9313) [unknownSymbol]'\n",
      "'LaTeX-incompatible input and strict mode is set to \\'warn\\': Unrecognized Unicode character \"③\" (9314) [unknownSymbol]'\n",
      "'LaTeX-incompatible input and strict mode is set to \\'warn\\': Unrecognized Unicode character \"④\" (9315) [unknownSymbol]'\n",
      "'LaTeX-incompatible input and strict mode is set to \\'warn\\': Unicode text character \"，\" used in math mode [unicodeTextInMathMode]'\n",
      "'LaTeX-incompatible input and strict mode is set to \\'warn\\': Unicode text character \"，\" used in math mode [unicodeTextInMathMode]'\n",
      "'LaTeX-incompatible input and strict mode is set to \\'warn\\': Unicode text character \"：\" used in math mode [unicodeTextInMathMode]'\n",
      "'LaTeX-incompatible input and strict mode is set to \\'warn\\': Unicode text character \"二\" used in math mode [unicodeTextInMathMode]'\n",
      "'LaTeX-incompatible input and strict mode is set to \\'warn\\': Unicode text character \"项\" used in math mode [unicodeTextInMathMode]'\n",
      "'LaTeX-incompatible input and strict mode is set to \\'warn\\': Unicode text character \"式\" used in math mode [unicodeTextInMathMode]'\n",
      "\"LaTeX-incompatible input and strict mode is set to 'warn': Too few columns specified in the {array} column argument. [textEnv]\"\n",
      "'LaTeX-incompatible input and strict mode is set to \\'warn\\': Unicode text character \"，\" used in math mode [unicodeTextInMathMode]'\n",
      "'LaTeX-incompatible input and strict mode is set to \\'warn\\': Unicode text character \"，\" used in math mode [unicodeTextInMathMode]'\n",
      "'LaTeX-incompatible input and strict mode is set to \\'warn\\': Unicode text character \"，\" used in math mode [unicodeTextInMathMode]'\n",
      "'LaTeX-incompatible input and strict mode is set to \\'warn\\': Unicode text character \"，\" used in math mode [unicodeTextInMathMode]'\n",
      "'LaTeX-incompatible input and strict mode is set to \\'warn\\': Unicode text character \"，\" used in math mode [unicodeTextInMathMode]'\n",
      "'LaTeX-incompatible input and strict mode is set to \\'warn\\': Unicode text character \"＞\" used in math mode [unicodeTextInMathMode]'\n",
      "'LaTeX-incompatible input and strict mode is set to \\'warn\\': Unicode text character \"（\" used in math mode [unicodeTextInMathMode]'\n",
      "'LaTeX-incompatible input and strict mode is set to \\'warn\\': Unicode text character \"，\" used in math mode [unicodeTextInMathMode]'\n",
      "'LaTeX-incompatible input and strict mode is set to \\'warn\\': Unicode text character \"）\" used in math mode [unicodeTextInMathMode]'\n",
      "'LaTeX-incompatible input and strict mode is set to \\'warn\\': Unicode text character \"，\" used in math mode [unicodeTextInMathMode]'\n",
      "'LaTeX-incompatible input and strict mode is set to \\'warn\\': Unicode text character \"，\" used in math mode [unicodeTextInMathMode]'\n",
      "'LaTeX-incompatible input and strict mode is set to \\'warn\\': Unicode text character \"，\" used in math mode [unicodeTextInMathMode]'\n",
      "'LaTeX-incompatible input and strict mode is set to \\'warn\\': Unicode text character \"，\" used in math mode [unicodeTextInMathMode]'\n",
      "'LaTeX-incompatible input and strict mode is set to \\'warn\\': Unicode text character \"，\" used in math mode [unicodeTextInMathMode]'\n",
      "'LaTeX-incompatible input and strict mode is set to \\'warn\\': Unicode text character \"，\" used in math mode [unicodeTextInMathMode]'\n",
      "'LaTeX-incompatible input and strict mode is set to \\'warn\\': Unicode text character \"，\" used in math mode [unicodeTextInMathMode]'\n",
      "'LaTeX-incompatible input and strict mode is set to \\'warn\\': Unicode text character \"，\" used in math mode [unicodeTextInMathMode]'\n",
      "'LaTeX-incompatible input and strict mode is set to \\'warn\\': Unicode text character \"，\" used in math mode [unicodeTextInMathMode]'\n",
      "'LaTeX-incompatible input and strict mode is set to \\'warn\\': Unicode text character \"，\" used in math mode [unicodeTextInMathMode]'\n",
      "'LaTeX-incompatible input and strict mode is set to \\'warn\\': Unicode text character \"（\" used in math mode [unicodeTextInMathMode]'\n",
      "'LaTeX-incompatible input and strict mode is set to \\'warn\\': Unicode text character \"，\" used in math mode [unicodeTextInMathMode]'\n",
      "'LaTeX-incompatible input and strict mode is set to \\'warn\\': Unicode text character \"）\" used in math mode [unicodeTextInMathMode]'\n",
      "'LaTeX-incompatible input and strict mode is set to \\'warn\\': Unicode text character \"：\" used in math mode [unicodeTextInMathMode]'\n",
      "'LaTeX-incompatible input and strict mode is set to \\'warn\\': Unicode text character \"，\" used in math mode [unicodeTextInMathMode]'\n",
      "'LaTeX-incompatible input and strict mode is set to \\'warn\\': Unrecognized Unicode character \"﹣\" (65123) [unknownSymbol]'\n",
      "'LaTeX-incompatible input and strict mode is set to \\'warn\\': Unicode text character \"，\" used in math mode [unicodeTextInMathMode]'\n",
      "'LaTeX-incompatible input and strict mode is set to \\'warn\\': Unicode text character \"（\" used in math mode [unicodeTextInMathMode]'\n",
      "'LaTeX-incompatible input and strict mode is set to \\'warn\\': Unicode text character \"，\" used in math mode [unicodeTextInMathMode]'\n",
      "'LaTeX-incompatible input and strict mode is set to \\'warn\\': Unicode text character \"）\" used in math mode [unicodeTextInMathMode]'\n",
      "\"LaTeX-incompatible input and strict mode is set to 'warn': Too few columns specified in the {array} column argument. [textEnv]\"\n",
      "'LaTeX-incompatible input and strict mode is set to \\'warn\\': Unicode text character \"，\" used in math mode [unicodeTextInMathMode]'\n",
      "'LaTeX-incompatible input and strict mode is set to \\'warn\\': Unicode text character \"，\" used in math mode [unicodeTextInMathMode]'\n",
      "'LaTeX-incompatible input and strict mode is set to \\'warn\\': Unicode text character \"，\" used in math mode [unicodeTextInMathMode]'\n",
      "'LaTeX-incompatible input and strict mode is set to \\'warn\\': Unicode text character \"，\" used in math mode [unicodeTextInMathMode]'\n",
      "'LaTeX-incompatible input and strict mode is set to \\'warn\\': Unicode text character \"＞\" used in math mode [unicodeTextInMathMode]'\n",
      "'LaTeX-incompatible input and strict mode is set to \\'warn\\': Unicode text character \"，\" used in math mode [unicodeTextInMathMode]'\n",
      "'LaTeX-incompatible input and strict mode is set to \\'warn\\': Unicode text character \"，\" used in math mode [unicodeTextInMathMode]'\n",
      "'LaTeX-incompatible input and strict mode is set to \\'warn\\': Unicode text character \"，\" used in math mode [unicodeTextInMathMode]'\n",
      "'LaTeX-incompatible input and strict mode is set to \\'warn\\': Unicode text character \"，\" used in math mode [unicodeTextInMathMode]'\n",
      "'LaTeX-incompatible input and strict mode is set to \\'warn\\': Unicode text character \"，\" used in math mode [unicodeTextInMathMode]'\n",
      "'LaTeX-incompatible input and strict mode is set to \\'warn\\': Unicode text character \"，\" used in math mode [unicodeTextInMathMode]'\n",
      "'LaTeX-incompatible input and strict mode is set to \\'warn\\': Unicode text character \"，\" used in math mode [unicodeTextInMathMode]'\n",
      "'LaTeX-incompatible input and strict mode is set to \\'warn\\': Unicode text character \"，\" used in math mode [unicodeTextInMathMode]'\n",
      "'LaTeX-incompatible input and strict mode is set to \\'warn\\': Unicode text character \"，\" used in math mode [unicodeTextInMathMode]'\n",
      "'LaTeX-incompatible input and strict mode is set to \\'warn\\': Unicode text character \"，\" used in math mode [unicodeTextInMathMode]'\n",
      "'LaTeX-incompatible input and strict mode is set to \\'warn\\': Unicode text character \"，\" used in math mode [unicodeTextInMathMode]'\n",
      "'LaTeX-incompatible input and strict mode is set to \\'warn\\': Unrecognized Unicode character \"﹣\" (65123) [unknownSymbol]'\n",
      "'LaTeX-incompatible input and strict mode is set to \\'warn\\': Unicode text character \"，\" used in math mode [unicodeTextInMathMode]'\n",
      "'LaTeX-incompatible input and strict mode is set to \\'warn\\': Unicode text character \"，\" used in math mode [unicodeTextInMathMode]'\n",
      "'LaTeX-incompatible input and strict mode is set to \\'warn\\': Unicode text character \"，\" used in math mode [unicodeTextInMathMode]'\n",
      "'LaTeX-incompatible input and strict mode is set to \\'warn\\': Unrecognized Unicode character \"﹣\" (65123) [unknownSymbol]'\n",
      "'LaTeX-incompatible input and strict mode is set to \\'warn\\': Unrecognized Unicode character \"﹣\" (65123) [unknownSymbol]'\n",
      "'LaTeX-incompatible input and strict mode is set to \\'warn\\': Unicode text character \"，\" used in math mode [unicodeTextInMathMode]'\n",
      "'LaTeX-incompatible input and strict mode is set to \\'warn\\': Unicode text character \"，\" used in math mode [unicodeTextInMathMode]'\n",
      "'LaTeX-incompatible input and strict mode is set to \\'warn\\': Unicode text character \"，\" used in math mode [unicodeTextInMathMode]'\n",
      "'LaTeX-incompatible input and strict mode is set to \\'warn\\': Unicode text character \"，\" used in math mode [unicodeTextInMathMode]'\n",
      "'LaTeX-incompatible input and strict mode is set to \\'warn\\': Unicode text character \"，\" used in math mode [unicodeTextInMathMode]'\n",
      "'LaTeX-incompatible input and strict mode is set to \\'warn\\': Unicode text character \"，\" used in math mode [unicodeTextInMathMode]'\n",
      "'LaTeX-incompatible input and strict mode is set to \\'warn\\': Unicode text character \"，\" used in math mode [unicodeTextInMathMode]'\n",
      "\"LaTeX-incompatible input and strict mode is set to 'warn': Too few columns specified in the {array} column argument. [textEnv]\"\n",
      "'LaTeX-incompatible input and strict mode is set to \\'warn\\': Unicode text character \"，\" used in math mode [unicodeTextInMathMode]'\n",
      "'LaTeX-incompatible input and strict mode is set to \\'warn\\': Unicode text character \"）\" used in math mode [unicodeTextInMathMode]'\n",
      "'LaTeX-incompatible input and strict mode is set to \\'warn\\': Unrecognized Unicode character \"﹣\" (65123) [unknownSymbol]'\n",
      "'LaTeX-incompatible input and strict mode is set to \\'warn\\': Unicode text character \"，\" used in math mode [unicodeTextInMathMode]'\n",
      "'LaTeX-incompatible input and strict mode is set to \\'warn\\': Unicode text character \"＜\" used in math mode [unicodeTextInMathMode]'\n",
      "'LaTeX-incompatible input and strict mode is set to \\'warn\\': Unicode text character \"，\" used in math mode [unicodeTextInMathMode]'\n",
      "'LaTeX-incompatible input and strict mode is set to \\'warn\\': Unicode text character \"：\" used in math mode [unicodeTextInMathMode]'\n",
      "'LaTeX-incompatible input and strict mode is set to \\'warn\\': Unicode text character \"，\" used in math mode [unicodeTextInMathMode]'\n",
      "'LaTeX-incompatible input and strict mode is set to \\'warn\\': Unicode text character \"，\" used in math mode [unicodeTextInMathMode]'\n",
      "'LaTeX-incompatible input and strict mode is set to \\'warn\\': Unicode text character \"＞\" used in math mode [unicodeTextInMathMode]'\n",
      "'LaTeX-incompatible input and strict mode is set to \\'warn\\': Unicode text character \"，\" used in math mode [unicodeTextInMathMode]'\n",
      "'LaTeX-incompatible input and strict mode is set to \\'warn\\': Unicode text character \"（\" used in math mode [unicodeTextInMathMode]'\n",
      "'LaTeX-incompatible input and strict mode is set to \\'warn\\': Unicode text character \"，\" used in math mode [unicodeTextInMathMode]'\n",
      "'LaTeX-incompatible input and strict mode is set to \\'warn\\': Unicode text character \"，\" used in math mode [unicodeTextInMathMode]'\n",
      "'LaTeX-incompatible input and strict mode is set to \\'warn\\': Unicode text character \"，\" used in math mode [unicodeTextInMathMode]'\n",
      "'LaTeX-incompatible input and strict mode is set to \\'warn\\': Unicode text character \"）\" used in math mode [unicodeTextInMathMode]'\n",
      "'LaTeX-incompatible input and strict mode is set to \\'warn\\': Unicode text character \"，\" used in math mode [unicodeTextInMathMode]'\n",
      "'LaTeX-incompatible input and strict mode is set to \\'warn\\': Unicode text character \"，\" used in math mode [unicodeTextInMathMode]'\n",
      "'LaTeX-incompatible input and strict mode is set to \\'warn\\': Unicode text character \"：\" used in math mode [unicodeTextInMathMode]'\n",
      "'LaTeX-incompatible input and strict mode is set to \\'warn\\': Unicode text character \"：\" used in math mode [unicodeTextInMathMode]'\n",
      "'LaTeX-incompatible input and strict mode is set to \\'warn\\': Unicode text character \"＞\" used in math mode [unicodeTextInMathMode]'\n",
      "'LaTeX-incompatible input and strict mode is set to \\'warn\\': Unicode text character \"：\" used in math mode [unicodeTextInMathMode]'\n",
      "'LaTeX-incompatible input and strict mode is set to \\'warn\\': Unicode text character \"，\" used in math mode [unicodeTextInMathMode]'\n",
      "'LaTeX-incompatible input and strict mode is set to \\'warn\\': Unicode text character \"则\" used in math mode [unicodeTextInMathMode]'\n",
      "'LaTeX-incompatible input and strict mode is set to \\'warn\\': Unicode text character \"所\" used in math mode [unicodeTextInMathMode]'\n",
      "'LaTeX-incompatible input and strict mode is set to \\'warn\\': Unicode text character \"成\" used in math mode [unicodeTextInMathMode]'\n",
      "'LaTeX-incompatible input and strict mode is set to \\'warn\\': Unicode text character \"角\" used in math mode [unicodeTextInMathMode]'\n",
      "'LaTeX-incompatible input and strict mode is set to \\'warn\\': Unicode text character \"的\" used in math mode [unicodeTextInMathMode]'\n",
      "'LaTeX-incompatible input and strict mode is set to \\'warn\\': Unicode text character \"正\" used in math mode [unicodeTextInMathMode]'\n",
      "'LaTeX-incompatible input and strict mode is set to \\'warn\\': Unicode text character \"弦\" used in math mode [unicodeTextInMathMode]'\n",
      "'LaTeX-incompatible input and strict mode is set to \\'warn\\': Unicode text character \"值\" used in math mode [unicodeTextInMathMode]'\n",
      "'LaTeX-incompatible input and strict mode is set to \\'warn\\': Unicode text character \"为\" used in math mode [unicodeTextInMathMode]'\n",
      "'LaTeX-incompatible input and strict mode is set to \\'warn\\': Unicode text character \"，\" used in math mode [unicodeTextInMathMode]'\n",
      "'LaTeX-incompatible input and strict mode is set to \\'warn\\': Unicode text character \"，\" used in math mode [unicodeTextInMathMode]'\n",
      "'LaTeX-incompatible input and strict mode is set to \\'warn\\': Unicode text character \"则\" used in math mode [unicodeTextInMathMode]'\n",
      "'LaTeX-incompatible input and strict mode is set to \\'warn\\': Unicode text character \"四\" used in math mode [unicodeTextInMathMode]'\n",
      "'LaTeX-incompatible input and strict mode is set to \\'warn\\': Unicode text character \"点\" used in math mode [unicodeTextInMathMode]'\n",
      "\"LaTeX-incompatible input and strict mode is set to 'warn': Too few columns specified in the {array} column argument. [textEnv]\"\n",
      "'LaTeX-incompatible input and strict mode is set to \\'warn\\': Unicode text character \"，\" used in math mode [unicodeTextInMathMode]'\n",
      "'LaTeX-incompatible input and strict mode is set to \\'warn\\': Unicode text character \"，\" used in math mode [unicodeTextInMathMode]'\n",
      "'LaTeX-incompatible input and strict mode is set to \\'warn\\': Unicode text character \"，\" used in math mode [unicodeTextInMathMode]'\n",
      "'LaTeX-incompatible input and strict mode is set to \\'warn\\': Unicode text character \"，\" used in math mode [unicodeTextInMathMode]'\n",
      "'LaTeX-incompatible input and strict mode is set to \\'warn\\': Unicode text character \"，\" used in math mode [unicodeTextInMathMode]'\n",
      "'LaTeX-incompatible input and strict mode is set to \\'warn\\': Unicode text character \"，\" used in math mode [unicodeTextInMathMode]'\n",
      "'LaTeX-incompatible input and strict mode is set to \\'warn\\': Unicode text character \"，\" used in math mode [unicodeTextInMathMode]'\n",
      "'LaTeX-incompatible input and strict mode is set to \\'warn\\': Unicode text character \"，\" used in math mode [unicodeTextInMathMode]'\n",
      "'LaTeX-incompatible input and strict mode is set to \\'warn\\': Unicode text character \"，\" used in math mode [unicodeTextInMathMode]'\n",
      "'LaTeX-incompatible input and strict mode is set to \\'warn\\': Unicode text character \"，\" used in math mode [unicodeTextInMathMode]'\n",
      "'LaTeX-incompatible input and strict mode is set to \\'warn\\': Unicode text character \"，\" used in math mode [unicodeTextInMathMode]'\n",
      "'LaTeX-incompatible input and strict mode is set to \\'warn\\': Unicode text character \"，\" used in math mode [unicodeTextInMathMode]'\n",
      "\"LaTeX-incompatible input and strict mode is set to 'warn': Too few columns specified in the {array} column argument. [textEnv]\"\n",
      "'LaTeX-incompatible input and strict mode is set to \\'warn\\': Unicode text character \"（\" used in math mode [unicodeTextInMathMode]'\n",
      "'LaTeX-incompatible input and strict mode is set to \\'warn\\': Unicode text character \"）\" used in math mode [unicodeTextInMathMode]'\n",
      "'LaTeX-incompatible input and strict mode is set to \\'warn\\': Unicode text character \"，\" used in math mode [unicodeTextInMathMode]'\n",
      "\"LaTeX-incompatible input and strict mode is set to 'warn': Too few columns specified in the {array} column argument. [textEnv]\"\n",
      "'LaTeX-incompatible input and strict mode is set to \\'warn\\': Unicode text character \"＞\" used in math mode [unicodeTextInMathMode]'\n",
      "'LaTeX-incompatible input and strict mode is set to \\'warn\\': Unicode text character \"，\" used in math mode [unicodeTextInMathMode]'\n",
      "'LaTeX-incompatible input and strict mode is set to \\'warn\\': Unicode text character \"，\" used in math mode [unicodeTextInMathMode]'\n",
      "'LaTeX-incompatible input and strict mode is set to \\'warn\\': Unicode text character \"，\" used in math mode [unicodeTextInMathMode]'\n",
      "'LaTeX-incompatible input and strict mode is set to \\'warn\\': Unicode text character \"＞\" used in math mode [unicodeTextInMathMode]'\n",
      "'LaTeX-incompatible input and strict mode is set to \\'warn\\': Unicode text character \"＞\" used in math mode [unicodeTextInMathMode]'\n",
      "'LaTeX-incompatible input and strict mode is set to \\'warn\\': Unicode text character \"＞\" used in math mode [unicodeTextInMathMode]'\n",
      "'LaTeX-incompatible input and strict mode is set to \\'warn\\': Unicode text character \"＜\" used in math mode [unicodeTextInMathMode]'\n",
      "'LaTeX-incompatible input and strict mode is set to \\'warn\\': Unicode text character \"＜\" used in math mode [unicodeTextInMathMode]'\n"
     ]
    },
    {
     "data": {
      "text/plain": "['埃及',\n '胡夫',\n '金字塔',\n '古代',\n '世界',\n '建筑',\n '奇迹',\n '形状',\n '视为',\n '正四',\n '棱锥',\n '以该',\n '四',\n '棱锥',\n '高为',\n '边长',\n '正方形',\n '面积',\n '等于',\n '四',\n '棱锥',\n '侧面',\n '三角形',\n '面积',\n '侧面',\n '三角形',\n '底边',\n '高',\n '底面',\n '正方形',\n '边长',\n '比值',\n '[FIGURE]',\n '[FIGURE]',\n '[FIGURE]',\n '[FIGURE]',\n '[FIGURE]']"
     },
     "execution_count": 1,
     "metadata": {},
     "output_type": "execute_result"
    }
   ],
   "source": [
    "import json\n",
    "from tqdm import tqdm\n",
    "\n",
    "def load_items():\n",
    "    with open(\"../../../data/OpenLUNA.json\", encoding=\"utf-8\") as f:\n",
    "        for line in f:\n",
    "            yield json.loads(line)\n",
    "\n",
    "\n",
    "from EduNLP.Pretrain import GensimWordTokenizer\n",
    "\n",
    "tokenizer = GensimWordTokenizer(symbol=\"gm\")\n",
    "sif_items = []\n",
    "for item in tqdm(load_items(), \"sifing\"):\n",
    "    sif_item = tokenizer(\n",
    "        item[\"stem\"]\n",
    "    )\n",
    "    if sif_item:\n",
    "        sif_items.append(sif_item.tokens)\n",
    "\n",
    "sif_items[0]"
   ]
  },
  {
   "cell_type": "code",
   "execution_count": 3,
   "outputs": [
    {
     "data": {
      "text/plain": "792"
     },
     "execution_count": 3,
     "metadata": {},
     "output_type": "execute_result"
    }
   ],
   "source": [
    "len(sif_items)"
   ],
   "metadata": {
    "collapsed": false,
    "pycharm": {
     "name": "#%%\n"
    }
   }
  },
  {
   "cell_type": "code",
   "execution_count": 4,
   "outputs": [],
   "source": [
    "from EduNLP.Pretrain import train_vector"
   ],
   "metadata": {
    "collapsed": false,
    "pycharm": {
     "name": "#%%\n"
    }
   }
  },
  {
   "cell_type": "code",
   "execution_count": 5,
   "outputs": [
    {
     "name": "stderr",
     "output_type": "stream",
     "text": [
      "EduNLP, INFO Epoch #0: loss-0.0000 \n",
      "EduNLP, INFO Epoch #1: loss-0.0000 \n",
      "EduNLP, INFO Epoch #2: loss-0.0000 \n",
      "EduNLP, INFO Epoch #3: loss-0.0000 \n",
      "EduNLP, INFO Epoch #4: loss-0.0000 \n",
      "EduNLP, INFO model is saved to ../../../data/w2v/gensim_luna_stem_tf_sg_100.kv\n"
     ]
    },
    {
     "data": {
      "text/plain": "'../../../data/w2v/gensim_luna_stem_tf_sg_100.kv'"
     },
     "execution_count": 5,
     "metadata": {},
     "output_type": "execute_result"
    }
   ],
   "source": [
    "# 100 dimension with skipgram method\n",
    "train_vector(sif_items, \"../../../data/w2v/gensim_luna_stem_tf_\", 100)"
   ],
   "metadata": {
    "collapsed": false,
    "pycharm": {
     "name": "#%%\n"
    }
   }
  },
  {
   "cell_type": "code",
   "execution_count": 6,
   "outputs": [
    {
     "name": "stderr",
     "output_type": "stream",
     "text": [
      "EduNLP, INFO Epoch #0: loss-0.0000 \n",
      "EduNLP, INFO Epoch #1: loss-0.0000 \n",
      "EduNLP, INFO Epoch #2: loss-0.0000 \n",
      "EduNLP, INFO Epoch #3: loss-0.0000 \n",
      "EduNLP, INFO Epoch #4: loss-0.0000 \n",
      "EduNLP, INFO model is saved to ../../../data/w2v/gensim_luna_stem_tf_cbow_50.kv\n"
     ]
    },
    {
     "data": {
      "text/plain": "'../../../data/w2v/gensim_luna_stem_tf_cbow_50.kv'"
     },
     "execution_count": 6,
     "metadata": {},
     "output_type": "execute_result"
    }
   ],
   "source": [
    "# 50 dimension with cbow method\n",
    "train_vector(sif_items, \"../../../data/w2v/gensim_luna_stem_tf_\", 50, method=\"cbow\")"
   ],
   "metadata": {
    "collapsed": false,
    "pycharm": {
     "name": "#%%\n"
    }
   }
  },
  {
   "cell_type": "code",
   "execution_count": 7,
   "outputs": [
    {
     "name": "stderr",
     "output_type": "stream",
     "text": [
      "EduNLP, INFO Epoch #0: loss-0.0000 \n",
      "EduNLP, INFO Epoch #1: loss-0.0000 \n",
      "EduNLP, INFO Epoch #2: loss-0.0000 \n",
      "EduNLP, INFO Epoch #3: loss-0.0000 \n",
      "EduNLP, INFO Epoch #4: loss-0.0000 \n",
      "EduNLP, INFO model is saved to ../../../data/w2v/gensim_luna_stem_tf_fasttext_10.bin\n"
     ]
    },
    {
     "data": {
      "text/plain": "'../../../data/w2v/gensim_luna_stem_tf_fasttext_10.bin'"
     },
     "execution_count": 7,
     "metadata": {},
     "output_type": "execute_result"
    }
   ],
   "source": [
    "# 10 dimension with fasstext method\n",
    "train_vector(sif_items, \"../../../data/w2v/gensim_luna_stem_tf_\", 10, method=\"fasttext\")"
   ],
   "metadata": {
    "collapsed": false,
    "pycharm": {
     "name": "#%%\n"
    }
   }
  },
  {
   "cell_type": "code",
   "execution_count": 8,
   "outputs": [
    {
     "data": {
      "text/plain": "array([ 0.3322667 , -0.701586  , -0.6528301 , -0.02556002,  0.44070247,\n        0.44261315,  0.54466563,  0.8991576 , -1.0600986 ,  0.19438864],\n      dtype=float32)"
     },
     "execution_count": 8,
     "metadata": {},
     "output_type": "execute_result"
    }
   ],
   "source": [
    "from EduNLP.Vector import W2V\n",
    "\n",
    "w2v = W2V(\"../../../data/w2v/gensim_luna_stem_tf_fasttext_10.bin\", method=\"fasttext\")\n",
    "w2v[\"[FIGURE]\"]"
   ],
   "metadata": {
    "collapsed": false,
    "pycharm": {
     "name": "#%%\n"
    }
   }
  }
 ],
 "metadata": {
  "kernelspec": {
   "display_name": "Python 3",
   "language": "python",
   "name": "python3"
  },
  "language_info": {
   "codemirror_mode": {
    "name": "ipython",
    "version": 2
   },
   "file_extension": ".py",
   "mimetype": "text/x-python",
   "name": "python",
   "nbconvert_exporter": "python",
   "pygments_lexer": "ipython2",
   "version": "2.7.6"
  }
 },
 "nbformat": 4,
 "nbformat_minor": 0
}