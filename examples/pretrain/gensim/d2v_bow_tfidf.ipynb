{
 "cells": [
  {
   "cell_type": "markdown",
   "source": [
    "# 1. load and tokenize test_items"
   ],
   "metadata": {}
  },
  {
   "cell_type": "code",
   "execution_count": 1,
   "source": [
    "from platform import processor\r\n",
    "from gensim import corpora,models\r\n",
    "# from collections import defaultdict\r\n",
    "import json\r\n",
    "from tqdm import tqdm\r\n",
    "from EduNLP.Pretrain import GensimWordTokenizer,train_vector\r\n",
    "from EduNLP.Vector import D2V\r\n",
    "from EduNLP.SIF.segment import seg\r\n",
    "from EduNLP.SIF.tokenization import tokenize\r\n",
    "import time\r\n",
    "\r\n",
    "output_file_head = \"test\"  # subject = english | liberal | science |all\r\n",
    "baseDir = \"E:/Workustc/lunadata/d2v\"\r\n",
    "# baseDir = \"/home/qlh/data_pretrain\"\r\n",
    "work_file_path = baseDir + \"/data/\" + output_file_head + \"_raw.json\"\r\n",
    "\r\n",
    "test_items = [{'ques_content':'有公式$\\\\FormFigureID{wrong1?}$和公式$\\\\FormFigureBase64{wrong2?}$，如图$\\\\FigureID{088f15ea-8b7c-11eb-897e-b46bfc50aa29}$,若$x,y$满足约束条件$\\\\SIFSep$，则$z=x+7 y$的最大值为$\\\\SIFBlank$'},\r\n",
    "             {\"ques_content\":\"Human machine interface for lab abc computer applications\"},\r\n",
    "             {\"ques_content\": \"A survey of user opinion of computer system response time\"},\r\n",
    "             {\"ques_content\": \"The EPS user interface management system\"},\r\n",
    "             {\"ques_content\": \"System and human system engineering testing of EPS\"},\r\n",
    "             {\"ques_content\": \"Relation of user perceived response time to error measurement\"},\r\n",
    "             {\"ques_content\": \"The generation of random binary unordered trees\"},\r\n",
    "             {\"ques_content\": \"The intersection graph of paths in trees\"},\r\n",
    "             {\"ques_content\": \"Graph minors IV Widths of trees and well quasi ordering\"},\r\n",
    "             {\"ques_content\": \"Graph minors A survey\"}\r\n",
    "             ]\r\n",
    "\r\n",
    "def load_items():\r\n",
    "    for line in test_items:\r\n",
    "        yield line\r\n",
    "    # with open(work_file_path, 'r', encoding=\"utf-8\") as f:\r\n",
    "    #     for line in f:\r\n",
    "    #         yield json.loads(line)\r\n",
    "\r\n",
    "def data2Token():\r\n",
    "    # 线性分词，而不使用ast\r\n",
    "    tokenization_params = {\r\n",
    "        \"formula_params\": {\r\n",
    "            \"method\": \"linear\",\r\n",
    "        }\r\n",
    "    }\r\n",
    "    \r\n",
    "    token_items = []\r\n",
    "    count = 1\r\n",
    "    for item in tqdm(load_items(), \"sifing\"):\r\n",
    "        count = count + 1\r\n",
    "        # -------------------------------------------- # \r\n",
    "        # \"\"\"除文本、公式外，其他转化为特殊标记\"\"\"\r\n",
    "        # seg_ret = seg(item[\"ques_content\"], symbol=\"gmas\")\r\n",
    "        # token_item = tokenize(seg_ret, **tokenization_params)\r\n",
    "        tokenizer = GensimWordTokenizer(symbol=\"gmas\", general=True)\r\n",
    "        token_item = tokenizer(item[\"ques_content\"])\r\n",
    "\r\n",
    "        # -------------------------------------------- # \r\n",
    "        if token_item:\r\n",
    "            # print(\"[i] = \", count)\r\n",
    "            # print(\"[tokens] = \", token_item)\r\n",
    "            token_items.append(token_item.tokens)\r\n",
    "    print(\"[data2Token] finish ========================> num = \",len(token_items))\r\n",
    "    return token_items\r\n",
    "\r\n",
    "token_items = data2Token()\r\n",
    "token_items[0]"
   ],
   "outputs": [
    {
     "output_type": "stream",
     "name": "stderr",
     "text": [
      "D:\\MySoftwares\\Anaconda\\envs\\data\\lib\\site-packages\\gensim\\similarities\\__init__.py:15: UserWarning: The gensim.similarities.levenshtein submodule is disabled, because the optional Levenshtein package <https://pypi.org/project/python-Levenshtein/> is unavailable. Install Levenhstein (e.g. `pip install python-Levenshtein`) to suppress this warning.\n",
      "  warnings.warn(msg)\n",
      "sifing: 10it [00:00, 18.57it/s]"
     ]
    },
    {
     "output_type": "stream",
     "name": "stdout",
     "text": [
      "[data2Token] finish ========================> num =  10\n"
     ]
    },
    {
     "output_type": "stream",
     "name": "stderr",
     "text": [
      "\n"
     ]
    },
    {
     "output_type": "execute_result",
     "data": {
      "text/plain": [
       "['公式',\n",
       " '[FORMULA]',\n",
       " '公式',\n",
       " '[FORMULA]',\n",
       " '如图',\n",
       " '[FIGURE]',\n",
       " 'x',\n",
       " ',',\n",
       " 'y',\n",
       " '约束条件',\n",
       " '[SEP]',\n",
       " 'z',\n",
       " '=',\n",
       " 'x',\n",
       " '+',\n",
       " '7',\n",
       " 'y',\n",
       " '最大值',\n",
       " '[MARK]']"
      ]
     },
     "metadata": {},
     "execution_count": 1
    }
   ],
   "metadata": {}
  },
  {
   "cell_type": "code",
   "execution_count": 2,
   "source": [
    "len(token_items[0])"
   ],
   "outputs": [
    {
     "output_type": "execute_result",
     "data": {
      "text/plain": [
       "19"
      ]
     },
     "metadata": {},
     "execution_count": 2
    }
   ],
   "metadata": {
    "pycharm": {
     "name": "#%%\n"
    }
   }
  },
  {
   "cell_type": "markdown",
   "source": [
    "# 2. train and test model by 'bow'"
   ],
   "metadata": {
    "pycharm": {
     "name": "#%%\n"
    }
   }
  },
  {
   "cell_type": "code",
   "execution_count": 3,
   "source": [
    "from EduNLP.Pretrain import train_vector\r\n",
    "#10 dimension with fasstext method\r\n",
    "train_vector(token_items, \"../../../data/d2v/gensim_luna_stem_tf_\", method=\"bow\")"
   ],
   "outputs": [
    {
     "output_type": "stream",
     "name": "stderr",
     "text": [
      "EduNLP, INFO model is saved to ../../../data/d2v/gensim_luna_stem_tf_bow.bin\n"
     ]
    },
    {
     "output_type": "execute_result",
     "data": {
      "text/plain": [
       "'../../../data/d2v/gensim_luna_stem_tf_bow.bin'"
      ]
     },
     "metadata": {},
     "execution_count": 3
    }
   ],
   "metadata": {
    "pycharm": {
     "name": "#%%\n"
    }
   }
  },
  {
   "cell_type": "code",
   "execution_count": 4,
   "source": [
    "from EduNLP.Vector import D2V\r\n",
    "\r\n",
    "d2v = D2V(\"../../../data/d2v/gensim_luna_stem_tf_bow.bin\", method = \"bow\")\r\n",
    "print(d2v(token_items[1]))"
   ],
   "outputs": [
    {
     "output_type": "stream",
     "name": "stdout",
     "text": [
      "[0, 0, 0, 0, 0, 0, 0, 0, 0, 0, 0, 0, 0, 0, 0, 1, 1, 1, 1, 1, 1, 1, 1, 0, 0, 0, 0, 0, 0, 0, 0, 0, 0, 0, 0, 0, 0, 0, 0, 0, 0, 0, 0, 0, 0, 0, 0, 0, 0, 0, 0, 0, 0, 0, 0, 0, 0, 0, 0, 0, 0, 0, 0]\n"
     ]
    }
   ],
   "metadata": {
    "pycharm": {
     "name": "#%%\n"
    }
   }
  },
  {
   "cell_type": "markdown",
   "source": [
    "# 3. train and test model by 'tfidf'"
   ],
   "metadata": {}
  },
  {
   "cell_type": "code",
   "execution_count": 5,
   "source": [
    "from EduNLP.Pretrain import train_vector\r\n",
    "#10 dimension with fasstext method\r\n",
    "train_vector(token_items, \"../../../data/d2v/gensim_luna_stem_tf_\", method=\"tfidf\")"
   ],
   "outputs": [
    {
     "output_type": "stream",
     "name": "stderr",
     "text": [
      "EduNLP, INFO model is saved to ../../../data/d2v/gensim_luna_stem_tf_bow.bin\n",
      "EduNLP, INFO model is saved to ../../../data/d2v/gensim_luna_stem_tf_tfidf.bin\n"
     ]
    },
    {
     "output_type": "execute_result",
     "data": {
      "text/plain": [
       "'../../../data/d2v/gensim_luna_stem_tf_tfidf.bin'"
      ]
     },
     "metadata": {},
     "execution_count": 5
    }
   ],
   "metadata": {}
  },
  {
   "cell_type": "code",
   "execution_count": 6,
   "source": [
    "from EduNLP.Vector import D2V\r\n",
    "\r\n",
    "d2v = D2V(\"../../../data/d2v/gensim_luna_stem_tf_tfidf.bin\", method = \"tfidf\")\r\n",
    "vec_size = d2v.vector_size\r\n",
    "print(\"vec_size = \", vec_size)\r\n",
    "d2v(token_items[1])"
   ],
   "outputs": [
    {
     "output_type": "stream",
     "name": "stdout",
     "text": [
      "vec_size =  63\n"
     ]
    },
    {
     "output_type": "execute_result",
     "data": {
      "text/plain": [
       "[(15, 0.37858374396389033),\n",
       " (16, 0.37858374396389033),\n",
       " (17, 0.37858374396389033),\n",
       " (18, 0.2646186811599866),\n",
       " (19, 0.37858374396389033),\n",
       " (20, 0.2646186811599866),\n",
       " (21, 0.37858374396389033),\n",
       " (22, 0.37858374396389033)]"
      ]
     },
     "metadata": {},
     "execution_count": 6
    }
   ],
   "metadata": {}
  }
 ],
 "metadata": {
  "kernelspec": {
   "display_name": "Python 3",
   "language": "python",
   "name": "python3"
  },
  "language_info": {
   "codemirror_mode": {
    "name": "ipython",
    "version": 3
   },
   "file_extension": ".py",
   "mimetype": "text/x-python",
   "name": "python",
   "nbconvert_exporter": "python",
   "pygments_lexer": "ipython3",
   "version": "3.6.13"
  }
 },
 "nbformat": 4,
 "nbformat_minor": 1
}