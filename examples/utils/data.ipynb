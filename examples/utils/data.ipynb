{
 "cells": [
  {
   "cell_type": "markdown",
   "source": [
    "# 语义成分分解\r\n",
    "\r\n",
    "此模块通过dict2str4sif函数，将字典型的item转换为符合sif格式的字符串型，为后面的令牌化、向量化做准备。本部分仅介绍dict2str4sif的基本使用方法和效果，此外还有着选择添加标签的位置、是否进行列表计数、是否遮掩等众多功能，如需深入学习请查看[语义成分分解](https://edunlp.readthedocs.io/en/docs_dev/tutorial/zh/seg/语义成分分解.html)部分。"
   ],
   "metadata": {}
  },
  {
   "cell_type": "code",
   "execution_count": 1,
   "source": [
    "from EduNLP.utils import dict2str4sif"
   ],
   "outputs": [
    {
     "output_type": "stream",
     "name": "stderr",
     "text": [
      "/home/lvrui/.local/lib/python3.8/site-packages/gensim/similarities/__init__.py:15: UserWarning: The gensim.similarities.levenshtein submodule is disabled, because the optional Levenshtein package <https://pypi.org/project/python-Levenshtein/> is unavailable. Install Levenhstein (e.g. `pip install python-Levenshtein`) to suppress this warning.\n",
      "  warnings.warn(msg)\n"
     ]
    }
   ],
   "metadata": {}
  },
  {
   "cell_type": "code",
   "execution_count": 3,
   "source": [
    "item = {\r\n",
    "    \"stem\": r\"若复数$z=1+2 i+i^{3}$，则$|z|=$\",\r\n",
    "    \"options\": ['0', '1', r'$\\sqrt{2}$', '2'],\r\n",
    "    }\r\n",
    "item"
   ],
   "outputs": [
    {
     "output_type": "execute_result",
     "data": {
      "text/plain": [
       "{'stem': '若复数$z=1+2 i+i^{3}$，则$|z|=$',\n",
       " 'options': ['0', '1', '$\\\\sqrt{2}$', '2']}"
      ]
     },
     "metadata": {},
     "execution_count": 3
    }
   ],
   "metadata": {}
  },
  {
   "cell_type": "code",
   "execution_count": 4,
   "source": [
    "# 给题目各个部分加标签\r\n",
    "dict2str4sif(item)"
   ],
   "outputs": [
    {
     "output_type": "execute_result",
     "data": {
      "text/plain": [
       "'$\\\\SIFTag{stem_begin}$若复数$z=1+2 i+i^{3}$，则$|z|=$$\\\\SIFTag{stem_end}$$\\\\SIFTag{options_begin}$$\\\\SIFTag{list_0}$0$\\\\SIFTag{list_1}$1$\\\\SIFTag{list_2}$$\\\\sqrt{2}$$\\\\SIFTag{list_3}$2$\\\\SIFTag{options_end}$'"
      ]
     },
     "metadata": {},
     "execution_count": 4
    }
   ],
   "metadata": {}
  }
 ],
 "metadata": {
  "orig_nbformat": 4,
  "language_info": {
   "name": "python",
   "version": "3.8.5",
   "mimetype": "text/x-python",
   "codemirror_mode": {
    "name": "ipython",
    "version": 3
   },
   "pygments_lexer": "ipython3",
   "nbconvert_exporter": "python",
   "file_extension": ".py"
  },
  "kernelspec": {
   "name": "python3",
   "display_name": "Python 3.8.5 64-bit"
  },
  "interpreter": {
   "hash": "e7370f93d1d0cde622a1f8e1c04877d8463912d04d973331ad4851f04de6915a"
  }
 },
 "nbformat": 4,
 "nbformat_minor": 2
}