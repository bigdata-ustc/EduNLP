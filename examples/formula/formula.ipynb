{
 "cells": [
  {
   "cell_type": "markdown",
   "source": [
    "# Formula\r\n",
    "\r\n",
    "## 概述\r\n",
    "\r\n",
    "Formula 首先在分词功能中对原始文本的公式做切分处理，另外提供多种功能使之能够适应多种用户需求，例如 [公式解析树] 功能，可以将数学公式的抽象语法分析树用文本或图片的形式表示出来；又如[公式变量标准化]的功能，能判断几个子公式内的‘x’为同一变量。\r\n",
    "\r\n",
    "由于本部分常作为中间模块，故仅展示基本调用方法，如需更进一步学习模块相关参数请参见对应文档。"
   ],
   "metadata": {}
  },
  {
   "cell_type": "code",
   "execution_count": 1,
   "source": [
    "import matplotlib.pyplot as plt\r\n",
    "from EduNLP.Formula import Formula\r\n",
    "from EduNLP.Formula import FormulaGroup\r\n",
    "from EduNLP.Formula.viz import ForestPlotter"
   ],
   "outputs": [],
   "metadata": {}
  },
  {
   "cell_type": "markdown",
   "source": [
    "## 公式语法结构分析\n",
    "\n",
    "### 初始化实例\n",
    "\n",
    "- item 类型：`str or List[Dict]` \n",
    "- item 内容：latex 公式 或 公式经解析后产生的抽象语法分析树(abstracted syntax tree)"
   ],
   "metadata": {}
  },
  {
   "cell_type": "code",
   "execution_count": 2,
   "source": [
    "f = Formula(\"x^2 + x+1 = y\")\r\n",
    "f "
   ],
   "outputs": [
    {
     "output_type": "execute_result",
     "data": {
      "text/plain": [
       "<Formula: x^2 + x+1 = y>"
      ]
     },
     "metadata": {},
     "execution_count": 2
    }
   ],
   "metadata": {
    "collapsed": true
   }
  },
  {
   "cell_type": "markdown",
   "source": [
    "## 方程组结构解析\n",
    "\n",
    "调用 `FormulaGroup` 类解析公式方程组，相关的属性和函数方法同上。"
   ],
   "metadata": {}
  },
  {
   "cell_type": "code",
   "execution_count": 21,
   "source": [
    "fs = FormulaGroup([\r\n",
    "    \"x^2 = y\",\r\n",
    "    \"x^3 = y^2\",\r\n",
    "    \"x + y = \\pi\"\r\n",
    "])\r\n",
    "fs"
   ],
   "outputs": [
    {
     "output_type": "execute_result",
     "data": {
      "text/plain": [
       "<FormulaGroup: <Formula: x^2 = y>;<Formula: x^3 = y^2>;<Formula: x + y = \\pi>>"
      ]
     },
     "metadata": {},
     "execution_count": 21
    }
   ],
   "metadata": {
    "collapsed": false,
    "pycharm": {
     "name": "#%%\n"
    }
   }
  }
 ],
 "metadata": {
  "kernelspec": {
   "name": "python3",
   "display_name": "Python 3.8.5 64-bit"
  },
  "language_info": {
   "name": "python",
   "version": "3.8.5",
   "mimetype": "text/x-python",
   "codemirror_mode": {
    "name": "ipython",
    "version": 3
   },
   "pygments_lexer": "ipython3",
   "nbconvert_exporter": "python",
   "file_extension": ".py"
  },
  "interpreter": {
   "hash": "e7370f93d1d0cde622a1f8e1c04877d8463912d04d973331ad4851f04de6915a"
  }
 },
 "nbformat": 4,
 "nbformat_minor": 2
}