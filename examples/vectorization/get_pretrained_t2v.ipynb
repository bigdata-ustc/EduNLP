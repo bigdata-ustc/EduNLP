{
 "cells": [
  {
   "cell_type": "markdown",
   "source": [
    "# get_pretrained_t2v\n",
    "\n",
    "## 概述\n",
    "\n",
    "使用 EduNLP 项目组给定的预训练模型将一组题目的切分序列表征为向量。\n",
    "\n",
    "- 优点：简单方便。\n",
    "- 缺点：只能使用项目中给定的模型，局限性较大。"
   ],
   "metadata": {}
  },
  {
   "cell_type": "markdown",
   "source": [
    "## 导入功能块"
   ],
   "metadata": {}
  },
  {
   "cell_type": "code",
   "execution_count": 1,
   "source": [
    "from tqdm import tqdm\n",
    "from EduNLP.SIF.segment import seg\n",
    "from EduNLP.SIF.tokenization import tokenize\n",
    "from EduNLP.Pretrain import GensimWordTokenizer\n",
    "from EduNLP.Vector import get_pretrained_t2v"
   ],
   "outputs": [],
   "metadata": {}
  },
  {
   "cell_type": "markdown",
   "source": [
    "## 输入\n",
    "\n",
    "类型：list  \n",
    "内容：一个题组中每个题目切分序列的组合。\n",
    "> 这里需要调用 `GensimWordTokenizer` 将题目文本（`str` 类型）转换成 tokens。"
   ],
   "metadata": {}
  },
  {
   "cell_type": "code",
   "execution_count": 2,
   "source": [
    "def load_items():\n",
    "    test_items = [\n",
    "        {'ques_content':'有公式$\\\\FormFigureID{wrong1?}$和公式$\\\\FormFigureBase64{wrong2?}$，如图$\\\\FigureID{088f15ea-8b7c-11eb-897e-b46bfc50aa29}$,若$x,y$满足约束条件$\\\\SIFSep$，则$z=x+7 y$的最大值为$\\\\SIFBlank$'},\n",
    "        {'ques_content':'如图$\\\\FigureID{088f15ea-8b7c-11eb-897e-b46bfc50aa29}$,若$x,y$满足约束条件$\\\\SIFSep$，则$z=x+7 y$的最大值为$\\\\SIFBlank$'},\n",
    "        {'ques_content':'<div>Below is a discussion on a website.<br><table border=\\1'},\n",
    "    ]\n",
    "    for line in test_items:\n",
    "        yield line\n",
    "\n",
    "\n",
    "token_items = []\n",
    "for item in tqdm(load_items(), \"sifing\"):\n",
    "    # transform content into special marks('g','m','a','s'), except text('t') and formula('f').\n",
    "    # 'general' means symbolize the Formula in figure format and use 'linear' method for formula segmentation\n",
    "    tokenizer = GensimWordTokenizer(symbol=\"gmas\", general=True)\n",
    "    token_item = tokenizer(item[\"ques_content\"])\n",
    "    if token_item:\n",
    "        token_items.append(token_item.tokens)"
   ],
   "outputs": [
    {
     "output_type": "stream",
     "name": "stderr",
     "text": [
      "sifing: 3it [00:01,  1.69it/s]\n"
     ]
    }
   ],
   "metadata": {}
  },
  {
   "cell_type": "markdown",
   "source": [
    "## 模型的选择与使用\n",
    "\n",
    "根据题目所属学科选择预训练模型：  \n",
    " 预训练模型名称 | 模型训练数据的所属学科 \n",
    " -------------- | ---------------------- \n",
    " d2v_all_256    | 全学科                 \n",
    " d2v_sci_256    | 理科                   \n",
    " d2v_eng_256    | 英语                   \n",
    " d2v_lit_256    | 文科                   "
   ],
   "metadata": {}
  },
  {
   "cell_type": "code",
   "execution_count": 3,
   "source": [
    "# make a model -> t2v\n",
    "t2v = get_pretrained_t2v(\"d2v_sci_256\")"
   ],
   "outputs": [
    {
     "output_type": "stream",
     "name": "stderr",
     "text": [
      "downloader, INFO http://base.ustc.edu.cn/data/model_zoo/EduNLP/d2v/general_science_256.zip is saved as /home/lvrui/.EduNLP/model/general_science_256.zip\n",
      "downloader, INFO file existed, skipped\n"
     ]
    }
   ],
   "metadata": {}
  },
  {
   "cell_type": "markdown",
   "source": [
    "- 注意：\n",
    "    默认的 EduNLP 项目存储地址为根目录(`~/.EduNLP`)，模型存储地址为项目存储地址下的 `model` 文件夹。您可以通过修改下面的环境变量来修改模型存储地址：\n",
    "    - EduNLP 项目存储地址：`EDUNLPPATH = xx/xx/xx`\n",
    "    - 模型存储地址：`EDUNLPMODELPATH = xx/xx/xx`"
   ],
   "metadata": {}
  },
  {
   "cell_type": "code",
   "execution_count": null,
   "source": [
    "t2v(token_items)"
   ],
   "outputs": [],
   "metadata": {}
  }
 ],
 "metadata": {
  "orig_nbformat": 4,
  "language_info": {
   "name": "python",
   "version": "3.8.5",
   "mimetype": "text/x-python",
   "codemirror_mode": {
    "name": "ipython",
    "version": 3
   },
   "pygments_lexer": "ipython3",
   "nbconvert_exporter": "python",
   "file_extension": ".py"
  },
  "kernelspec": {
   "name": "python3",
   "display_name": "Python 3.8.5 64-bit"
  },
  "interpreter": {
   "hash": "e7370f93d1d0cde622a1f8e1c04877d8463912d04d973331ad4851f04de6915a"
  }
 },
 "nbformat": 4,
 "nbformat_minor": 2
}