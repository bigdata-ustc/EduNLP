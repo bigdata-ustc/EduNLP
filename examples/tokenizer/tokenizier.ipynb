{
 "cells": [
  {
   "cell_type": "code",
   "execution_count": 1,
   "source": [
    "from EduNLP.Tokenizer import PureTextTokenizer, TextTokenizer, get_tokenizer"
   ],
   "outputs": [
    {
     "output_type": "stream",
     "name": "stderr",
     "text": [
      "D:\\MySoftwares\\Anaconda\\envs\\data\\lib\\site-packages\\gensim\\similarities\\__init__.py:15: UserWarning: The gensim.similarities.levenshtein submodule is disabled, because the optional Levenshtein package <https://pypi.org/project/python-Levenshtein/> is unavailable. Install Levenhstein (e.g. `pip install python-Levenshtein`) to suppress this warning.\n",
      "  warnings.warn(msg)\n"
     ]
    }
   ],
   "metadata": {}
  },
  {
   "cell_type": "markdown",
   "source": [
    "# TextTokenizer and PureTextTokenizer\r\n",
    "\r\n",
    "- ‘text’ Tokenizer ignores and skips the FormulaFigures and tokenize latex Formulas as Text\r\n",
    "- ‘pure_text’ Tokenizer symbolizes the FormulaFigures as [FUMULA] and tokenize latex Formulas as Text"
   ],
   "metadata": {}
  },
  {
   "cell_type": "markdown",
   "source": [
    "## TextTokenizer"
   ],
   "metadata": {}
  },
  {
   "cell_type": "code",
   "execution_count": 2,
   "source": [
    "items = [{\r\n",
    "        \"stem\": \"已知集合$A=\\\\left\\\\{x \\\\mid x^{2}-3 x-4<0\\\\right\\\\}, \\\\quad B=\\\\{-4,1,3,5\\\\}, \\\\quad$ 则 $A \\\\cap B=$\",\r\n",
    "        \"options\": [\"1\", \"2\"]\r\n",
    "        }]\r\n",
    "tokenizer = get_tokenizer(\"text\") # tokenizer = TextTokenizer()\r\n",
    "tokens = tokenizer(items, key=lambda x: x[\"stem\"])\r\n",
    "print(next(tokens))"
   ],
   "outputs": [
    {
     "output_type": "stream",
     "name": "stdout",
     "text": [
      "['已知', '集合', 'A', '=', '\\\\left', '\\\\{', 'x', '\\\\mid', 'x', '^', '{', '2', '}', '-', '3', 'x', '-', '4', '<', '0', '\\\\right', '\\\\}', ',', '\\\\quad', 'B', '=', '\\\\{', '-', '4', ',', '1', ',', '3', ',', '5', '\\\\}', ',', '\\\\quad', 'A', '\\\\cap', 'B', '=']\n"
     ]
    }
   ],
   "metadata": {}
  },
  {
   "cell_type": "code",
   "execution_count": 3,
   "source": [
    "items = [\"有公式$\\\\FormFigureID{wrong1?}$，如图$\\\\FigureID{088f15ea-xxx}$,若$x,y$满足约束条件公式$\\\\FormFigureBase64{wrong2?}$,$\\\\SIFSep$，则$z=x+7 y$的最大值为$\\\\SIFBlank$\"]"
   ],
   "outputs": [],
   "metadata": {}
  },
  {
   "cell_type": "code",
   "execution_count": 4,
   "source": [
    "\r\n",
    "tokenizer = get_tokenizer(\"text\") # tokenizer = TextTokenizer()\r\n",
    "tokens = [t for t in tokenizer(items)]\r\n",
    "tokens"
   ],
   "outputs": [
    {
     "output_type": "execute_result",
     "data": {
      "text/plain": [
       "[['公式',\n",
       "  '[FORMULA]',\n",
       "  '如图',\n",
       "  '[FIGURE]',\n",
       "  'x',\n",
       "  ',',\n",
       "  'y',\n",
       "  '约束条件',\n",
       "  '公式',\n",
       "  '[FORMULA]',\n",
       "  '[SEP]',\n",
       "  'z',\n",
       "  '=',\n",
       "  'x',\n",
       "  '+',\n",
       "  '7',\n",
       "  'y',\n",
       "  '最大值',\n",
       "  '[MARK]']]"
      ]
     },
     "metadata": {},
     "execution_count": 4
    }
   ],
   "metadata": {}
  },
  {
   "cell_type": "markdown",
   "source": [
    "## PureTextTokenizer"
   ],
   "metadata": {}
  },
  {
   "cell_type": "code",
   "execution_count": 5,
   "source": [
    "tokenizer = get_tokenizer(\"pure_text\") # tokenizer = PureTextTokenizer()\r\n",
    "tokens = [t for t in tokenizer(items)]\r\n",
    "tokens"
   ],
   "outputs": [
    {
     "output_type": "execute_result",
     "data": {
      "text/plain": [
       "[['公式',\n",
       "  '如图',\n",
       "  '[FIGURE]',\n",
       "  'x',\n",
       "  ',',\n",
       "  'y',\n",
       "  '约束条件',\n",
       "  '公式',\n",
       "  '[SEP]',\n",
       "  'z',\n",
       "  '=',\n",
       "  'x',\n",
       "  '+',\n",
       "  '7',\n",
       "  'y',\n",
       "  '最大值',\n",
       "  '[MARK]']]"
      ]
     },
     "metadata": {},
     "execution_count": 5
    }
   ],
   "metadata": {}
  }
 ],
 "metadata": {
  "kernelspec": {
   "name": "python3",
   "display_name": "Python 3.6.13 64-bit ('data': conda)"
  },
  "language_info": {
   "codemirror_mode": {
    "name": "ipython",
    "version": 3
   },
   "file_extension": ".py",
   "mimetype": "text/x-python",
   "name": "python",
   "nbconvert_exporter": "python",
   "pygments_lexer": "ipython3",
   "version": "3.6.13"
  },
  "interpreter": {
   "hash": "776957673adb719a00031a24ed5efd2fa5ce8a13405e5193f8d278edd3805d55"
  }
 },
 "nbformat": 4,
 "nbformat_minor": 5
}