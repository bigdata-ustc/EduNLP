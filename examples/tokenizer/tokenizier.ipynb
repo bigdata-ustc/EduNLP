{
 "cells": [
  {
   "cell_type": "code",
   "execution_count": 1,
   "metadata": {},
   "outputs": [
    {
     "name": "stderr",
     "output_type": "stream",
     "text": [
      "D:\\MySoftwares\\Anaconda\\envs\\data\\lib\\site-packages\\gensim\\similarities\\__init__.py:15: UserWarning: The gensim.similarities.levenshtein submodule is disabled, because the optional Levenshtein package <https://pypi.org/project/python-Levenshtein/> is unavailable. Install Levenhstein (e.g. `pip install python-Levenshtein`) to suppress this warning.\n",
      "  warnings.warn(msg)\n"
     ]
    }
   ],
   "source": [
    "from EduNLP.Tokenizer import PureTextTokenizer, TextTokenizer, get_tokenizer"
   ]
  },
  {
   "cell_type": "markdown",
   "metadata": {},
   "source": [
    "# TextTokenizer and PureTextTokenizer\n",
    "\n",
    "- ‘text’ Tokenizer ignores and skips the FormulaFigures and tokenize latex Formulas as Text\n",
    "- ‘pure_text’ Tokenizer symbolizes the FormulaFigures as [FUMULA] and tokenize latex Formulas as Text"
   ]
  },
  {
   "cell_type": "markdown",
   "metadata": {},
   "source": [
    "## TextTokenizer"
   ]
  },
  {
   "cell_type": "code",
   "execution_count": 2,
   "metadata": {},
   "outputs": [
    {
     "name": "stdout",
     "output_type": "stream",
     "text": [
      "['已知', '集合', 'A', '=', '\\\\left', '\\\\{', 'x', '\\\\mid', 'x', '^', '{', '2', '}', '-', '3', 'x', '-', '4', '<', '0', '\\\\right', '\\\\}', ',', '\\\\quad', 'B', '=', '\\\\{', '-', '4', ',', '1', ',', '3', ',', '5', '\\\\}', ',', '\\\\quad', 'A', '\\\\cap', 'B', '=']\n"
     ]
    }
   ],
   "source": [
    "items = [{\n",
    "        \"stem\": \"已知集合$A=\\\\left\\\\{x \\\\mid x^{2}-3 x-4<0\\\\right\\\\}, \\\\quad B=\\\\{-4,1,3,5\\\\}, \\\\quad$ 则 $A \\\\cap B=$\",\n",
    "        \"options\": [\"1\", \"2\"]\n",
    "        }]\n",
    "tokenizer = get_tokenizer(\"text\") # tokenizer = TextTokenizer()\n",
    "tokens = tokenizer(items, key=lambda x: x[\"stem\"])\n",
    "print(next(tokens))"
   ]
  },
  {
   "cell_type": "code",
   "execution_count": 3,
   "metadata": {},
   "outputs": [],
   "source": [
    "items = [\"有公式$\\\\FormFigureID{wrong1?}$，如图$\\\\FigureID{088f15ea-xxx}$,若$x,y$满足约束条件公式$\\\\FormFigureBase64{wrong2?}$,$\\\\SIFSep$，则$z=x+7 y$的最大值为$\\\\SIFBlank$\"]"
   ]
  },
  {
   "cell_type": "code",
   "execution_count": 4,
   "metadata": {},
   "outputs": [
    {
     "data": {
      "text/plain": [
       "[['公式',\n",
       "  '[FORMULA]',\n",
       "  '如图',\n",
       "  '[FIGURE]',\n",
       "  'x',\n",
       "  ',',\n",
       "  'y',\n",
       "  '约束条件',\n",
       "  '公式',\n",
       "  '[FORMULA]',\n",
       "  '[SEP]',\n",
       "  'z',\n",
       "  '=',\n",
       "  'x',\n",
       "  '+',\n",
       "  '7',\n",
       "  'y',\n",
       "  '最大值',\n",
       "  '[MARK]']]"
      ]
     },
     "execution_count": 4,
     "metadata": {},
     "output_type": "execute_result"
    }
   ],
   "source": [
    "\n",
    "tokenizer = get_tokenizer(\"text\") # tokenizer = TextTokenizer()\n",
    "tokens = [t for t in tokenizer(items)]\n",
    "tokens"
   ]
  },
  {
   "cell_type": "markdown",
   "metadata": {},
   "source": [
    "## PureTextTokenizer"
   ]
  },
  {
   "cell_type": "code",
   "execution_count": 5,
   "metadata": {},
   "outputs": [
    {
     "data": {
      "text/plain": [
       "[['公式',\n",
       "  '如图',\n",
       "  '[FIGURE]',\n",
       "  'x',\n",
       "  ',',\n",
       "  'y',\n",
       "  '约束条件',\n",
       "  '公式',\n",
       "  '[SEP]',\n",
       "  'z',\n",
       "  '=',\n",
       "  'x',\n",
       "  '+',\n",
       "  '7',\n",
       "  'y',\n",
       "  '最大值',\n",
       "  '[MARK]']]"
      ]
     },
     "execution_count": 5,
     "metadata": {},
     "output_type": "execute_result"
    }
   ],
   "source": [
    "tokenizer = get_tokenizer(\"pure_text\") # tokenizer = PureTextTokenizer()\n",
    "tokens = [t for t in tokenizer(items)]\n",
    "tokens"
   ]
  }
 ],
 "metadata": {
  "interpreter": {
   "hash": "776957673adb719a00031a24ed5efd2fa5ce8a13405e5193f8d278edd3805d55"
  },
  "kernelspec": {
   "display_name": "Python 3.6.13 64-bit ('data': conda)",
   "name": "python3"
  },
  "language_info": {
   "codemirror_mode": {
    "name": "ipython",
    "version": 3
   },
   "file_extension": ".py",
   "mimetype": "text/x-python",
   "name": "python",
   "nbconvert_exporter": "python",
   "pygments_lexer": "ipython3",
   "version": "3.6.13"
  }
 },
 "nbformat": 4,
 "nbformat_minor": 5
}
