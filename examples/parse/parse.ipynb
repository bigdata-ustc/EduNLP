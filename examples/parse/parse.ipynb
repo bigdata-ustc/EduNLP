{
 "cells": [
  {
   "cell_type": "markdown",
   "source": [
    "# parse"
   ],
   "metadata": {}
  },
  {
   "cell_type": "markdown",
   "source": [
    "## 导入类"
   ],
   "metadata": {}
  },
  {
   "cell_type": "code",
   "execution_count": 2,
   "source": [
    "from EduNLP.Formula.ast import str2ast, katex_parse\r\n",
    "from EduNLP.SIF.parser import Parser"
   ],
   "outputs": [],
   "metadata": {}
  },
  {
   "cell_type": "markdown",
   "source": [
    "## 输入\n",
    "\n",
    "类型：str  \n",
    "内容：题目文本 （text）"
   ],
   "metadata": {}
  },
  {
   "cell_type": "code",
   "execution_count": 3,
   "source": [
    "text1 = '生产某种零件的A工厂25名工人的日加工零件数_   _'\r\n",
    "text2 = 'X的分布列为(   )'\r\n",
    "text3 = '① AB是⊙O的直径，AC是⊙O的切线，BC交⊙O于点E．AC的中点为D'\r\n",
    "text4 = '支持公式如$\\\\frac{y}{x}$，$\\\\SIFBlank$，$\\\\FigureID{1}$，不支持公式如$\\\\frac{ \\\\dddot y}{x}$'"
   ],
   "outputs": [],
   "metadata": {}
  },
  {
   "cell_type": "markdown",
   "source": [
    "## 输出"
   ],
   "metadata": {}
  },
  {
   "cell_type": "markdown",
   "source": [
    "### 尝试转换为标准形式"
   ],
   "metadata": {}
  },
  {
   "cell_type": "code",
   "execution_count": 6,
   "source": [
    "text_parser1 = Parser(text1)\r\n",
    "text_parser1.description_list()\r\n",
    "print('text_parser1.text:',text_parser1.text)\r\n",
    "\r\n",
    "\r\n",
    "text_parser2 = Parser(text2)\r\n",
    "text_parser2.description_list()\r\n",
    "print('text_parser2.text:',text_parser2.text)\r\n"
   ],
   "outputs": [
    {
     "output_type": "stream",
     "name": "stdout",
     "text": [
      "text_parser1.text: 生产某种零件的$A$工厂$25$名工人的日加工零件数$\\SIFBlank$\n",
      "text_parser2.text: $X$的分布列为$\\SIFChoice$\n"
     ]
    }
   ],
   "metadata": {}
  },
  {
   "cell_type": "markdown",
   "source": [
    "### 判断是否有语法问题"
   ],
   "metadata": {}
  },
  {
   "cell_type": "code",
   "execution_count": 7,
   "source": [
    "text_parser3 = Parser(text3)\r\n",
    "text_parser3.description_list()\r\n",
    "print('text_parser3.error_flag: ',text_parser3.error_flag)\r\n",
    "\r\n",
    "\r\n",
    "text_parser4 = Parser(text4)\r\n",
    "text_parser4.description_list()\r\n",
    "print('text_parser4.fomula_illegal_flag: ',text_parser4.fomula_illegal_flag)\r\n"
   ],
   "outputs": [
    {
     "output_type": "stream",
     "name": "stdout",
     "text": [
      "text_parser3.error_flag:  1\n",
      "text_parser4.fomula_illegal_flag:  1\n"
     ]
    }
   ],
   "metadata": {}
  }
 ],
 "metadata": {
  "orig_nbformat": 4,
  "language_info": {
   "name": "python",
   "version": "3.6.3",
   "mimetype": "text/x-python",
   "codemirror_mode": {
    "name": "ipython",
    "version": 3
   },
   "pygments_lexer": "ipython3",
   "nbconvert_exporter": "python",
   "file_extension": ".py"
  },
  "kernelspec": {
   "name": "python3",
   "display_name": "Python 3.6.3 64-bit"
  },
  "interpreter": {
   "hash": "6f23ddf1f0697a8f0c43dd2435bdb82528077c79e9967f824fba6a3b52b05faf"
  }
 },
 "nbformat": 4,
 "nbformat_minor": 2
}
